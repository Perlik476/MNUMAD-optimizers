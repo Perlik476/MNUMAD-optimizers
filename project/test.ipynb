{
 "cells": [
  {
   "cell_type": "code",
   "execution_count": 116,
   "metadata": {},
   "outputs": [
    {
     "name": "stdout",
     "output_type": "stream",
     "text": [
      "The autoreload extension is already loaded. To reload it, use:\n",
      "  %reload_ext autoreload\n"
     ]
    }
   ],
   "source": [
    "%load_ext autoreload\n",
    "%autoreload 2"
   ]
  },
  {
   "cell_type": "code",
   "execution_count": 117,
   "metadata": {},
   "outputs": [],
   "source": [
    "from lib.lib import gauss_newton, LevenbergMarquardt, DifferentiableFunction, gradient_descent\n",
    "import numpy as np\n",
    "import matplotlib.pyplot as plt\n",
    "from typing import Callable"
   ]
  },
  {
   "attachments": {},
   "cell_type": "markdown",
   "metadata": {},
   "source": [
    "## Example functions"
   ]
  },
  {
   "attachments": {},
   "cell_type": "markdown",
   "metadata": {},
   "source": [
    "$$p \\in \\R^N = \\R^3, \\forall_{0 \\leq i < M} \\, x^{[i]} \\in \\R^K = \\R^2, \\, y^{[i]} \\in \\R$$\n",
    "\n",
    "$$f : \\R^K \\times \\R^N \\to \\R, \\qquad f(x, p) = p_0 x_0 + p_1 x_1 + p_2 $$\n",
    "\n",
    "$$ D_pf(x, p) = \\left[\\frac{\\partial f}{\\partial p_0}(x, p), \\frac{\\partial f}{\\partial p_1}(x, p), \\frac{\\partial f}{\\partial p_2}(x, p)\\right]^T = [x_0, x_1, 1]^T$$\n",
    "\n",
    "$$ R : \\R^N \\to \\R^M, \\qquad R(p) = \\left[(f(x^{[i]}, p) - y^{[i]})^2\\right]_{0 \\leq i < M} $$\n",
    "\n",
    "$$ D_pR(p) = \\left[2(f(x^{[i]}, p) - y^{[i]})\\frac{\\partial f}{\\partial p_j}(x^{[i]}, p)\\right]_{0 \\leq i < M, 0 \\leq j < N}$$"
   ]
  },
  {
   "cell_type": "code",
   "execution_count": 118,
   "metadata": {},
   "outputs": [],
   "source": [
    "xs = np.array([[1, 2], [2, 3], [3, 4], [4, 5]])\n",
    "ys = np.array([1, 2, 3, 4])\n",
    "\n",
    "\n",
    "def f(x: np.ndarray, p: np.ndarray) -> np.ndarray:\n",
    "    assert x.shape == (2,)\n",
    "    assert p.shape == (3,)\n",
    "\n",
    "    return p[0] * x[0] + p[1] * x[1] + p[2]\n",
    "\n",
    "\n",
    "def df(x: np.ndarray, p: np.ndarray) -> np.ndarray:\n",
    "    assert x.shape == (2,)\n",
    "    assert p.shape == (3,)\n",
    "\n",
    "    return np.array([x[0], x[1], 1])\n",
    "\n",
    "\n",
    "def residue(\n",
    "    f: Callable[[np.ndarray, np.ndarray], np.ndarray],\n",
    "    xs: np.ndarray,\n",
    "    ys: np.ndarray,\n",
    "    p: np.ndarray,\n",
    ") -> np.ndarray:\n",
    "    assert xs.shape[1] == 2\n",
    "    assert xs.shape[0] == ys.shape[0]\n",
    "    assert p.shape == (3,)\n",
    "\n",
    "    fs = np.array([f(x, p) for x in xs])\n",
    "\n",
    "    return (fs - ys)**2\n",
    "\n",
    "\n",
    "def residue_jacobian(\n",
    "    f: Callable[[np.ndarray, np.ndarray], np.ndarray],\n",
    "    df: Callable[[np.ndarray, np.ndarray], np.ndarray],\n",
    "    ys: np.ndarray,\n",
    "    xs: np.ndarray,\n",
    "    p: np.ndarray,\n",
    ") -> np.ndarray:\n",
    "    assert xs.shape[1] == 2\n",
    "    assert xs.shape[0] == ys.shape[0]\n",
    "    assert p.shape == (3,)\n",
    "\n",
    "    fs = np.array([f(x, p) for x in xs])\n",
    "    dfs = np.array([df(x, p) for x in xs])\n",
    "\n",
    "    return np.array([2 * (fs[i] - ys[i]) * dfs[i] for i in range(len(xs))])"
   ]
  },
  {
   "cell_type": "code",
   "execution_count": 119,
   "metadata": {},
   "outputs": [],
   "source": [
    "def R_value(p: np.ndarray) -> np.ndarray:\n",
    "    return residue(f, xs, ys, p)\n",
    "\n",
    "def R_derivative(p: np.ndarray) -> np.ndarray:\n",
    "    return residue_jacobian(f, df, ys, xs, p)\n",
    "\n",
    "R = DifferentiableFunction(R_value, R_derivative, 3, 4)"
   ]
  },
  {
   "cell_type": "code",
   "execution_count": 120,
   "metadata": {},
   "outputs": [],
   "source": [
    "def F_value(p: np.ndarray) -> np.ndarray:\n",
    "    assert p.shape == (1,)\n",
    "    return (p**2).reshape(1,)\n",
    "\n",
    "def F_derivative(p: np.ndarray) -> np.ndarray:\n",
    "    assert p.shape == (1,)\n",
    "    return (2 * p).reshape(1, 1)\n",
    "\n",
    "F = DifferentiableFunction(F_value, F_derivative, 1, 1)"
   ]
  },
  {
   "attachments": {},
   "cell_type": "markdown",
   "metadata": {},
   "source": [
    "# TEST\n",
    "# TODO remove later"
   ]
  },
  {
   "cell_type": "code",
   "execution_count": 121,
   "metadata": {},
   "outputs": [],
   "source": [
    "p0 = np.array([21.37])\n",
    "max_iter = 10000"
   ]
  },
  {
   "cell_type": "code",
   "execution_count": 122,
   "metadata": {},
   "outputs": [
    {
     "data": {
      "text/plain": [
       "array([0.48248101])"
      ]
     },
     "execution_count": 122,
     "metadata": {},
     "output_type": "execute_result"
    }
   ],
   "source": [
    "p, err = gradient_descent(F, p0, 0.001, 1000)\n",
    "p"
   ]
  },
  {
   "cell_type": "code",
   "execution_count": 123,
   "metadata": {},
   "outputs": [
    {
     "data": {
      "text/plain": [
       "array([5.63698789e-110])"
      ]
     },
     "execution_count": 123,
     "metadata": {},
     "output_type": "execute_result"
    }
   ],
   "source": [
    "p, err = gauss_newton(R=F, p0=p0, max_iter=max_iter)\n",
    "p"
   ]
  },
  {
   "cell_type": "code",
   "execution_count": 124,
   "metadata": {},
   "outputs": [
    {
     "data": {
      "text/plain": [
       "array([5.6034308e-53])"
      ]
     },
     "execution_count": 124,
     "metadata": {},
     "output_type": "execute_result"
    }
   ],
   "source": [
    "p, err = LevenbergMarquardt(\n",
    "    R=F, lambda_param_fun=LevenbergMarquardt.LambdaParamDefaultOptimizer(lambda0=0.01, lambda_change=1.1, eps=1e-100)\n",
    ").optimize(p0=p0, max_iter=max_iter)\n",
    "p"
   ]
  },
  {
   "attachments": {},
   "cell_type": "markdown",
   "metadata": {},
   "source": [
    "## Hyperparameters"
   ]
  },
  {
   "cell_type": "code",
   "execution_count": 125,
   "metadata": {},
   "outputs": [],
   "source": [
    "# p0 = np.random.randn(3)\n",
    "p0 = np.array([1.5, 0.6, -3.14])\n",
    "max_iter = 1000"
   ]
  },
  {
   "attachments": {},
   "cell_type": "markdown",
   "metadata": {},
   "source": [
    "## Gradient descent method"
   ]
  },
  {
   "cell_type": "code",
   "execution_count": 126,
   "metadata": {},
   "outputs": [
    {
     "name": "stdout",
     "output_type": "stream",
     "text": [
      "p=array([0.44367209, 0.20333256, 0.75966047]), err=0.4284527279857192\n"
     ]
    }
   ],
   "source": [
    "p, err = gradient_descent(R, p0, 0.0001, max_iter)\n",
    "print(f\"{p=}, {err=}\")"
   ]
  },
  {
   "cell_type": "code",
   "execution_count": 127,
   "metadata": {},
   "outputs": [
    {
     "data": {
      "text/plain": [
       "array([1.60999768, 2.25700233, 2.90400698, 3.55101163])"
      ]
     },
     "execution_count": 127,
     "metadata": {},
     "output_type": "execute_result"
    }
   ],
   "source": [
    "np.array([f(xs[i], p) for i in range(len(xs))])"
   ]
  },
  {
   "attachments": {},
   "cell_type": "markdown",
   "metadata": {},
   "source": [
    "## Gauss-Newton method"
   ]
  },
  {
   "cell_type": "code",
   "execution_count": 128,
   "metadata": {},
   "outputs": [
    {
     "name": "stdout",
     "output_type": "stream",
     "text": [
      "p=array([1, 1, 1]), err=47.51841748206689\n"
     ]
    }
   ],
   "source": [
    "p, err = gauss_newton(R, p0, max_iter, silent=True)\n",
    "print(f\"{p=}, {err=}\")"
   ]
  },
  {
   "cell_type": "code",
   "execution_count": 129,
   "metadata": {},
   "outputs": [
    {
     "data": {
      "text/plain": [
       "array([ 4,  6,  8, 10])"
      ]
     },
     "execution_count": 129,
     "metadata": {},
     "output_type": "execute_result"
    }
   ],
   "source": [
    "np.array([f(xs[i], p) for i in range(len(xs))])"
   ]
  },
  {
   "attachments": {},
   "cell_type": "markdown",
   "metadata": {},
   "source": [
    "## Levenberg-Marquardt method"
   ]
  },
  {
   "attachments": {},
   "cell_type": "markdown",
   "metadata": {},
   "source": [
    "#### 1. Constant $\\lambda_k$ sequence"
   ]
  },
  {
   "cell_type": "code",
   "execution_count": 130,
   "metadata": {},
   "outputs": [
    {
     "name": "stdout",
     "output_type": "stream",
     "text": [
      "p=array([9.99391609e-01, 2.22020994e-04, 8.30411756e-04]), err=5.125006403575419e-07\n"
     ]
    }
   ],
   "source": [
    "lambda_param = 1e-3\n",
    "optimizer = LevenbergMarquardt(\n",
    "    R=R, lambda_param_fun=LevenbergMarquardt.LambdaParamConstant(lambda0=lambda_param)\n",
    ")\n",
    "p, err = optimizer.optimize(p0, max_iter, silent=True)\n",
    "print(f\"{p=}, {err=}\")"
   ]
  },
  {
   "cell_type": "code",
   "execution_count": 131,
   "metadata": {},
   "outputs": [
    {
     "data": {
      "text/plain": [
       "array([1.00066606, 2.00027969, 2.99989332, 3.99950695])"
      ]
     },
     "execution_count": 131,
     "metadata": {},
     "output_type": "execute_result"
    }
   ],
   "source": [
    "np.array([f(xs[i], p) for i in range(len(xs))])"
   ]
  },
  {
   "attachments": {},
   "cell_type": "markdown",
   "metadata": {},
   "source": [
    "### Test parameters"
   ]
  },
  {
   "cell_type": "code",
   "execution_count": 132,
   "metadata": {},
   "outputs": [],
   "source": [
    "lambda_params = [10**i for i in range(-10, 2)]\n",
    "errors_levenberg_marquardt_constant_param = []\n",
    "p0s = [np.random.randn(3) for _ in range(10)]\n",
    "\n",
    "for lambda_param in lambda_params:\n",
    "    optimizer = LevenbergMarquardt(\n",
    "        R=R, lambda_param_fun=LevenbergMarquardt.LambdaParamConstant(lambda0=lambda_param)\n",
    "    )\n",
    "\n",
    "    errs = []\n",
    "    for p0 in p0s:\n",
    "        p, err = optimizer.optimize(p0, max_iter, silent=True)\n",
    "        errs.append(err)\n",
    "    \n",
    "    errors_levenberg_marquardt_constant_param.append(errs)\n",
    "\n",
    "errors_gauss_newton = []\n",
    "for p0 in p0s:\n",
    "    p, err = gauss_newton(R=R, p0=p0, max_iter=max_iter, silent=True)\n",
    "    errors_gauss_newton.append(err)"
   ]
  },
  {
   "cell_type": "code",
   "execution_count": 133,
   "metadata": {},
   "outputs": [
    {
     "data": {
      "image/png": "[encoded data removed]",
      "text/plain": [
       "<Figure size 640x480 with 1 Axes>"
      ]
     },
     "metadata": {},
     "output_type": "display_data"
    }
   ],
   "source": [
    "errors_mean = np.mean(errors_levenberg_marquardt_constant_param, axis=1)\n",
    "errors_std = np.std(errors_levenberg_marquardt_constant_param, axis=1)\n",
    "\n",
    "errors_gn_mean = np.mean(errors_gauss_newton)\n",
    "errors_gn_std = np.std(errors_gauss_newton)\n",
    "\n",
    "plt.loglog(lambda_params, errors_mean, label=\"mean L-M error\")\n",
    "plt.loglog(lambda_params, errors_std, label=\"L-M error std\")\n",
    "\n",
    "plt.loglog(lambda_params, [errors_gn_mean] * len(lambda_params), label=\"mean G-N error\", linestyle=\"--\")\n",
    "plt.loglog(lambda_params, [np.min(errors_gauss_newton)] * len(lambda_params), label=\"min G-N error\", linestyle=\"--\")\n",
    "plt.loglog(lambda_params, [errors_gn_std] * len(lambda_params), label=\"G-N error std\", linestyle=\"--\")\n",
    "\n",
    "plt.legend()\n",
    "plt.xlabel(\"lambda\")\n",
    "plt.ylabel(\"error\")\n",
    "plt.show()"
   ]
  },
  {
   "cell_type": "code",
   "execution_count": 134,
   "metadata": {},
   "outputs": [
    {
     "data": {
      "image/png": "[encoded data removed]",
      "text/plain": [
       "<Figure size 640x480 with 1 Axes>"
      ]
     },
     "metadata": {},
     "output_type": "display_data"
    }
   ],
   "source": [
    "logbins = np.logspace(np.log10(np.min(errors_gauss_newton)), np.log10(np.max(errors_gauss_newton)), 20)\n",
    "plt.hist(errors_gauss_newton, bins=logbins, label=\"G-N error\")\n",
    "plt.xscale(\"log\")\n",
    "plt.xlabel(\"error\")\n",
    "plt.legend()\n",
    "plt.show()"
   ]
  },
  {
   "attachments": {},
   "cell_type": "markdown",
   "metadata": {},
   "source": [
    "#### 2. Sequence $\\lambda_k$ decrasing when error is decreasing, and increasing otherwise"
   ]
  },
  {
   "cell_type": "code",
   "execution_count": 135,
   "metadata": {},
   "outputs": [
    {
     "name": "stdout",
     "output_type": "stream",
     "text": [
      "p=array([ 0.92262365,  0.07737635, -0.07737635]), err=5.0697363578716395e-20\n"
     ]
    }
   ],
   "source": [
    "optimizer = LevenbergMarquardt(\n",
    "    R=R,\n",
    "    lambda_param_fun=LevenbergMarquardt.LambdaParamDefaultOptimizer(\n",
    "        lambda0=0.1, lambda_change=2\n",
    "    ),\n",
    ")\n",
    "p, err = optimizer.optimize(p0, max_iter, silent=True)\n",
    "print(f\"{p=}, {err=}\")"
   ]
  },
  {
   "cell_type": "code",
   "execution_count": 136,
   "metadata": {},
   "outputs": [
    {
     "data": {
      "text/plain": [
       "array([1., 2., 3., 4.])"
      ]
     },
     "execution_count": 136,
     "metadata": {},
     "output_type": "execute_result"
    }
   ],
   "source": [
    "np.array([f(xs[i], p) for i in range(len(xs))])"
   ]
  }
 ],
 "metadata": {
  "kernelspec": {
   "display_name": "Python 3",
   "language": "python",
   "name": "python3"
  },
  "language_info": {
   "codemirror_mode": {
    "name": "ipython",
    "version": 3
   },
   "file_extension": ".py",
   "mimetype": "text/x-python",
   "name": "python",
   "nbconvert_exporter": "python",
   "pygments_lexer": "ipython3",
   "version": "3.10.4"
  },
  "orig_nbformat": 4
 },
 "nbformat": 4,
 "nbformat_minor": 2
}
