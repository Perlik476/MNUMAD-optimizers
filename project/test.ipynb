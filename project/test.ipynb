{
 "cells": [
  {
   "cell_type": "code",
   "execution_count": 60,
   "metadata": {},
   "outputs": [
    {
     "name": "stdout",
     "output_type": "stream",
     "text": [
      "The autoreload extension is already loaded. To reload it, use:\n",
      "  %reload_ext autoreload\n"
     ]
    }
   ],
   "source": [
    "%load_ext autoreload\n",
    "%autoreload 2"
   ]
  },
  {
   "cell_type": "code",
   "execution_count": 61,
   "metadata": {},
   "outputs": [],
   "source": [
    "from lib.lib import gauss_newton, LevenbergMarquardt, DifferentiableFunction, gradient_descent\n",
    "import numpy as np\n",
    "import matplotlib.pyplot as plt\n",
    "from typing import Callable"
   ]
  },
  {
   "attachments": {},
   "cell_type": "markdown",
   "metadata": {},
   "source": [
    "## Example functions"
   ]
  },
  {
   "attachments": {},
   "cell_type": "markdown",
   "metadata": {},
   "source": [
    "$$p \\in \\R^N = \\R^3, \\forall_{0 \\leq i < M} \\, x^{[i]} \\in \\R^K = \\R^2, \\, y^{[i]} \\in \\R$$\n",
    "\n",
    "$$f : \\R^K \\times \\R^N \\to \\R, \\qquad f(x, p) = p_0 x_0 + p_1 x_1 + p_2 $$\n",
    "\n",
    "$$ D_pf(x, p) = \\left[\\frac{\\partial f}{\\partial p_0}(x, p), \\frac{\\partial f}{\\partial p_1}(x, p), \\frac{\\partial f}{\\partial p_2}(x, p)\\right]^T = [x_0, x_1, 1]^T$$\n",
    "\n",
    "$$ R : \\R^N \\to \\R^M, \\qquad R(p) = \\left[(f(x^{[i]}, p) - y^{[i]})^2\\right]_{0 \\leq i < M} $$\n",
    "\n",
    "$$ D_pR(p) = \\left[2(f(x^{[i]}, p) - y^{[i]})\\frac{\\partial f}{\\partial p_j}(x^{[i]}, p)\\right]_{0 \\leq i < M, 0 \\leq j < N}$$"
   ]
  },
  {
   "cell_type": "code",
   "execution_count": 62,
   "metadata": {},
   "outputs": [],
   "source": [
    "xs = np.array([[1, 2], [2, 3], [3, 4], [4, 5]])\n",
    "ys = np.array([1, 2, 3, 4])\n",
    "\n",
    "\n",
    "def f(x: np.ndarray, p: np.ndarray) -> np.ndarray:\n",
    "    assert x.shape == (2,)\n",
    "    assert p.shape == (3,)\n",
    "\n",
    "    return p[0] * x[0] + p[1] * x[1] + p[2]\n",
    "\n",
    "\n",
    "def df(x: np.ndarray, p: np.ndarray) -> np.ndarray:\n",
    "    assert x.shape == (2,)\n",
    "    assert p.shape == (3,)\n",
    "\n",
    "    return np.array([x[0], x[1], 1])\n",
    "\n",
    "\n",
    "def residue(\n",
    "    f: Callable[[np.ndarray, np.ndarray], np.ndarray],\n",
    "    xs: np.ndarray,\n",
    "    ys: np.ndarray,\n",
    "    p: np.ndarray,\n",
    ") -> np.ndarray:\n",
    "    assert xs.shape[1] == 2\n",
    "    assert xs.shape[0] == ys.shape[0]\n",
    "    assert p.shape == (3,)\n",
    "\n",
    "    fs = np.array([f(x, p) for x in xs])\n",
    "\n",
    "    return (fs - ys)**2\n",
    "\n",
    "\n",
    "def residue_jacobian(\n",
    "    f: Callable[[np.ndarray, np.ndarray], np.ndarray],\n",
    "    df: Callable[[np.ndarray, np.ndarray], np.ndarray],\n",
    "    ys: np.ndarray,\n",
    "    xs: np.ndarray,\n",
    "    p: np.ndarray,\n",
    ") -> np.ndarray:\n",
    "    assert xs.shape[1] == 2\n",
    "    assert xs.shape[0] == ys.shape[0]\n",
    "    assert p.shape == (3,)\n",
    "\n",
    "    fs = np.array([f(x, p) for x in xs])\n",
    "    dfs = np.array([df(x, p) for x in xs])\n",
    "\n",
    "    return np.array([2 * (fs[i] - ys[i]) * dfs[i] for i in range(len(xs))])"
   ]
  },
  {
   "cell_type": "code",
   "execution_count": 63,
   "metadata": {},
   "outputs": [],
   "source": [
    "def R_value(p: np.ndarray) -> np.ndarray:\n",
    "    return residue(f, xs, ys, p)\n",
    "\n",
    "def R_derivative(p: np.ndarray) -> np.ndarray:\n",
    "    return residue_jacobian(f, df, ys, xs, p)\n",
    "\n",
    "R = DifferentiableFunction(R_value, R_derivative, 3, 4)"
   ]
  },
  {
   "cell_type": "code",
   "execution_count": 64,
   "metadata": {},
   "outputs": [],
   "source": [
    "def F_value(p: np.ndarray) -> np.ndarray:\n",
    "    assert p.shape == (1,)\n",
    "    return (p**2).reshape(1,)\n",
    "\n",
    "def F_derivative(p: np.ndarray) -> np.ndarray:\n",
    "    assert p.shape == (1,)\n",
    "    return (2 * p).reshape(1, 1)\n",
    "\n",
    "F = DifferentiableFunction(F_value, F_derivative, 1, 1)"
   ]
  },
  {
   "attachments": {},
   "cell_type": "markdown",
   "metadata": {},
   "source": [
    "# TEST\n",
    "# TODO remove later"
   ]
  },
  {
   "cell_type": "code",
   "execution_count": 121,
   "metadata": {},
   "outputs": [],
   "source": [
    "p0 = np.array([21.37])\n",
    "max_iter = 10000"
   ]
  },
  {
   "cell_type": "code",
   "execution_count": 66,
   "metadata": {},
   "outputs": [
    {
     "data": {
      "text/plain": [
       "array([0.15751944])"
      ]
     },
     "execution_count": 66,
     "metadata": {},
     "output_type": "execute_result"
    }
   ],
   "source": [
    "p, err = gradient_descent(F, p0, 0.001, max_iter)\n",
    "p"
   ]
  },
  {
   "cell_type": "code",
   "execution_count": 67,
   "metadata": {},
   "outputs": [
    {
     "data": {
      "text/plain": [
       "array([5.63698789e-110])"
      ]
     },
     "execution_count": 67,
     "metadata": {},
     "output_type": "execute_result"
    }
   ],
   "source": [
    "p, err = gauss_newton(R=F, p0=p0, max_iter=max_iter)\n",
    "p"
   ]
  },
  {
   "cell_type": "code",
   "execution_count": 122,
   "metadata": {},
   "outputs": [],
   "source": [
    "optimizer = LevenbergMarquardt(\n",
    "    R=F, lambda_param_fun=LevenbergMarquardt.LambdaParamDefaultModifier(lambda0=0.01, lambda_change=1.1)\n",
    ")"
   ]
  },
  {
   "cell_type": "code",
   "execution_count": 123,
   "metadata": {},
   "outputs": [
    {
     "data": {
      "text/plain": [
       "array([4.98869477e-07])"
      ]
     },
     "execution_count": 123,
     "metadata": {},
     "output_type": "execute_result"
    }
   ],
   "source": [
    "p, err = optimizer.optimize(p0=p0, max_iter=max_iter, step_type=\"ridge\")\n",
    "p"
   ]
  },
  {
   "cell_type": "code",
   "execution_count": 124,
   "metadata": {},
   "outputs": [
    {
     "data": {
      "text/plain": [
       "array([4.82672143e-11])"
      ]
     },
     "execution_count": 124,
     "metadata": {},
     "output_type": "execute_result"
    }
   ],
   "source": [
    "p, err = optimizer.optimize(p0=p0, max_iter=max_iter, step_type=\"least_squares\")\n",
    "p"
   ]
  },
  {
   "cell_type": "code",
   "execution_count": 125,
   "metadata": {},
   "outputs": [
    {
     "data": {
      "text/plain": [
       "array([4.82672143e-11])"
      ]
     },
     "execution_count": 125,
     "metadata": {},
     "output_type": "execute_result"
    }
   ],
   "source": [
    "p, err = optimizer.optimize(p0=p0, max_iter=max_iter, step_type=\"solve\")\n",
    "p"
   ]
  },
  {
   "attachments": {},
   "cell_type": "markdown",
   "metadata": {},
   "source": [
    "## Hyperparameters"
   ]
  },
  {
   "cell_type": "code",
   "execution_count": 92,
   "metadata": {},
   "outputs": [],
   "source": [
    "# p0 = np.random.randn(3)\n",
    "p0 = np.array([1.5, 0.6, -3.14])\n",
    "max_iter = 1000"
   ]
  },
  {
   "attachments": {},
   "cell_type": "markdown",
   "metadata": {},
   "source": [
    "## Gradient descent method"
   ]
  },
  {
   "cell_type": "code",
   "execution_count": 50,
   "metadata": {},
   "outputs": [
    {
     "name": "stdout",
     "output_type": "stream",
     "text": [
      "p=array([ 1.12693716,  0.63955052, -2.72738664]), err=2.0158093579792693\n"
     ]
    }
   ],
   "source": [
    "p, err = gradient_descent(R, p0, 0.0001, max_iter)\n",
    "print(f\"{p=}, {err=}\")"
   ]
  },
  {
   "cell_type": "code",
   "execution_count": 51,
   "metadata": {},
   "outputs": [
    {
     "data": {
      "text/plain": [
       "array([-0.32134843,  1.44513925,  3.21162694,  4.97811462])"
      ]
     },
     "execution_count": 51,
     "metadata": {},
     "output_type": "execute_result"
    }
   ],
   "source": [
    "np.array([f(xs[i], p) for i in range(len(xs))])"
   ]
  },
  {
   "attachments": {},
   "cell_type": "markdown",
   "metadata": {},
   "source": [
    "## Gauss-Newton method"
   ]
  },
  {
   "cell_type": "code",
   "execution_count": 52,
   "metadata": {},
   "outputs": [
    {
     "name": "stdout",
     "output_type": "stream",
     "text": [
      "p=array([ 0.82308036,  0.21129464, -0.29066964]), err=0.003980691350191393\n"
     ]
    }
   ],
   "source": [
    "p, err = gauss_newton(R, p0, max_iter, silent=True)\n",
    "print(f\"{p=}, {err=}\")"
   ]
  },
  {
   "cell_type": "code",
   "execution_count": 53,
   "metadata": {},
   "outputs": [
    {
     "data": {
      "text/plain": [
       "array([0.955   , 1.989375, 3.02375 , 4.058125])"
      ]
     },
     "execution_count": 53,
     "metadata": {},
     "output_type": "execute_result"
    }
   ],
   "source": [
    "np.array([f(xs[i], p) for i in range(len(xs))])"
   ]
  },
  {
   "attachments": {},
   "cell_type": "markdown",
   "metadata": {},
   "source": [
    "## Levenberg-Marquardt method"
   ]
  },
  {
   "attachments": {},
   "cell_type": "markdown",
   "metadata": {},
   "source": [
    "#### 1. Constant $\\lambda_k$ sequence"
   ]
  },
  {
   "cell_type": "code",
   "execution_count": 102,
   "metadata": {},
   "outputs": [
    {
     "name": "stdout",
     "output_type": "stream",
     "text": [
      "p=array([-0.07937187,  1.07977078, -1.08085736]), err=5.463312677507736e-07\n"
     ]
    }
   ],
   "source": [
    "lambda_param = 1e-3\n",
    "optimizer = LevenbergMarquardt(\n",
    "    R=R, lambda_param_fun=LevenbergMarquardt.LambdaParamConstant(lambda0=lambda_param)\n",
    ")\n",
    "p, err = optimizer.optimize(p0, max_iter)\n",
    "print(f\"{p=}, {err=}\")"
   ]
  },
  {
   "cell_type": "code",
   "execution_count": 103,
   "metadata": {},
   "outputs": [
    {
     "data": {
      "text/plain": [
       "array([0.99931233, 1.99971123, 3.00011014, 4.00050904])"
      ]
     },
     "execution_count": 103,
     "metadata": {},
     "output_type": "execute_result"
    }
   ],
   "source": [
    "np.array([f(xs[i], p) for i in range(len(xs))])"
   ]
  },
  {
   "cell_type": "code",
   "execution_count": 118,
   "metadata": {},
   "outputs": [
    {
     "name": "stdout",
     "output_type": "stream",
     "text": [
      "p=array([-0.07937187,  1.07977078, -1.08085736]), err=5.463312677507736e-07\n"
     ]
    }
   ],
   "source": [
    "p, err = optimizer.optimize(p0, max_iter, step_type=\"least_squares\")\n",
    "print(f\"{p=}, {err=}\")"
   ]
  },
  {
   "cell_type": "code",
   "execution_count": 119,
   "metadata": {},
   "outputs": [
    {
     "name": "stdout",
     "output_type": "stream",
     "text": [
      "p=array([-0.07647219,  1.07871259, -1.08481522]), err=1.7233163951545136e-05\n"
     ]
    }
   ],
   "source": [
    "p, err = optimizer.optimize(p0, max_iter, step_type=\"ridge\")\n",
    "print(f\"{p=}, {err=}\")"
   ]
  },
  {
   "attachments": {},
   "cell_type": "markdown",
   "metadata": {},
   "source": [
    "### Test parameters"
   ]
  },
  {
   "cell_type": "code",
   "execution_count": 56,
   "metadata": {},
   "outputs": [
    {
     "ename": "KeyboardInterrupt",
     "evalue": "",
     "output_type": "error",
     "traceback": [
      "\u001b[1;31m---------------------------------------------------------------------------\u001b[0m",
      "\u001b[1;31mKeyboardInterrupt\u001b[0m                         Traceback (most recent call last)",
      "Cell \u001b[1;32mIn[56], line 12\u001b[0m\n\u001b[0;32m     10\u001b[0m errs \u001b[39m=\u001b[39m []\n\u001b[0;32m     11\u001b[0m \u001b[39mfor\u001b[39;00m p0 \u001b[39min\u001b[39;00m p0s:\n\u001b[1;32m---> 12\u001b[0m     p, err \u001b[39m=\u001b[39m optimizer\u001b[39m.\u001b[39;49moptimize(p0, max_iter, silent\u001b[39m=\u001b[39;49m\u001b[39mTrue\u001b[39;49;00m)\n\u001b[0;32m     13\u001b[0m     errs\u001b[39m.\u001b[39mappend(err)\n\u001b[0;32m     15\u001b[0m errors_levenberg_marquardt_constant_param\u001b[39m.\u001b[39mappend(errs)\n",
      "File \u001b[1;32mc:\\Users\\matip\\Documents\\UW\\ml-numerki\\project\\lib\\lib.py:254\u001b[0m, in \u001b[0;36mLevenbergMarquardt.optimize\u001b[1;34m(self, p0, max_iter, silent, step_type)\u001b[0m\n\u001b[0;32m    251\u001b[0m err \u001b[39m=\u001b[39m np\u001b[39m.\u001b[39mlinalg\u001b[39m.\u001b[39mnorm(\u001b[39mself\u001b[39m\u001b[39m.\u001b[39mR(p))\n\u001b[0;32m    253\u001b[0m \u001b[39mfor\u001b[39;00m i \u001b[39min\u001b[39;00m \u001b[39mrange\u001b[39m(max_iter):\n\u001b[1;32m--> 254\u001b[0m     err \u001b[39m=\u001b[39m np\u001b[39m.\u001b[39;49mlinalg\u001b[39m.\u001b[39;49mnorm(\u001b[39mself\u001b[39;49m\u001b[39m.\u001b[39;49mR(p))\n\u001b[0;32m    256\u001b[0m     \u001b[39mif\u001b[39;00m \u001b[39mnot\u001b[39;00m silent:\n\u001b[0;32m    257\u001b[0m         \u001b[39mprint\u001b[39m(\u001b[39mf\u001b[39m\u001b[39m\"\u001b[39m\u001b[39miter \u001b[39m\u001b[39m{\u001b[39;00mi\u001b[39m}\u001b[39;00m\u001b[39m: p = \u001b[39m\u001b[39m{\u001b[39;00mp\u001b[39m}\u001b[39;00m\u001b[39m, ||F(p)|| = \u001b[39m\u001b[39m{\u001b[39;00merr\u001b[39m}\u001b[39;00m\u001b[39m\"\u001b[39m)\n",
      "File \u001b[1;32m<__array_function__ internals>:200\u001b[0m, in \u001b[0;36mnorm\u001b[1;34m(*args, **kwargs)\u001b[0m\n",
      "File \u001b[1;32mc:\\Python310\\lib\\site-packages\\numpy\\linalg\\linalg.py:2511\u001b[0m, in \u001b[0;36mnorm\u001b[1;34m(x, ord, axis, keepdims)\u001b[0m\n\u001b[0;32m   2509\u001b[0m     sqnorm \u001b[39m=\u001b[39m x_real\u001b[39m.\u001b[39mdot(x_real) \u001b[39m+\u001b[39m x_imag\u001b[39m.\u001b[39mdot(x_imag)\n\u001b[0;32m   2510\u001b[0m \u001b[39melse\u001b[39;00m:\n\u001b[1;32m-> 2511\u001b[0m     sqnorm \u001b[39m=\u001b[39m x\u001b[39m.\u001b[39;49mdot(x)\n\u001b[0;32m   2512\u001b[0m ret \u001b[39m=\u001b[39m sqrt(sqnorm)\n\u001b[0;32m   2513\u001b[0m \u001b[39mif\u001b[39;00m keepdims:\n",
      "\u001b[1;31mKeyboardInterrupt\u001b[0m: "
     ]
    }
   ],
   "source": [
    "lambda_params = [10**i for i in range(-10, 2)]\n",
    "errors_levenberg_marquardt_constant_param = []\n",
    "p0s = [np.random.randn(3) for _ in range(10)]\n",
    "\n",
    "for lambda_param in lambda_params:\n",
    "    optimizer = LevenbergMarquardt(\n",
    "        R=R, lambda_param_fun=LevenbergMarquardt.LambdaParamConstant(lambda0=lambda_param)\n",
    "    )\n",
    "\n",
    "    errs = []\n",
    "    for p0 in p0s:\n",
    "        p, err = optimizer.optimize(p0, max_iter, silent=True)\n",
    "        errs.append(err)\n",
    "    \n",
    "    errors_levenberg_marquardt_constant_param.append(errs)\n",
    "\n",
    "errors_gauss_newton = []\n",
    "for p0 in p0s:\n",
    "    p, err = gauss_newton(R=R, p0=p0, max_iter=max_iter, silent=True)\n",
    "    errors_gauss_newton.append(err)"
   ]
  },
  {
   "cell_type": "code",
   "execution_count": null,
   "metadata": {},
   "outputs": [
    {
     "data": {
      "image/png": "[encoded data removed]",
      "text/plain": [
       "<Figure size 640x480 with 1 Axes>"
      ]
     },
     "metadata": {},
     "output_type": "display_data"
    }
   ],
   "source": [
    "errors_mean = np.mean(errors_levenberg_marquardt_constant_param, axis=1)\n",
    "errors_std = np.std(errors_levenberg_marquardt_constant_param, axis=1)\n",
    "\n",
    "errors_gn_mean = np.mean(errors_gauss_newton)\n",
    "errors_gn_std = np.std(errors_gauss_newton)\n",
    "\n",
    "plt.loglog(lambda_params, errors_mean, label=\"mean L-M error\")\n",
    "plt.loglog(lambda_params, errors_std, label=\"L-M error std\")\n",
    "\n",
    "plt.loglog(lambda_params, [errors_gn_mean] * len(lambda_params), label=\"mean G-N error\", linestyle=\"--\")\n",
    "plt.loglog(lambda_params, [np.min(errors_gauss_newton)] * len(lambda_params), label=\"min G-N error\", linestyle=\"--\")\n",
    "plt.loglog(lambda_params, [errors_gn_std] * len(lambda_params), label=\"G-N error std\", linestyle=\"--\")\n",
    "\n",
    "plt.legend()\n",
    "plt.xlabel(\"lambda\")\n",
    "plt.ylabel(\"error\")\n",
    "plt.show()"
   ]
  },
  {
   "cell_type": "code",
   "execution_count": null,
   "metadata": {},
   "outputs": [
    {
     "data": {
      "image/png": "[encoded data removed]",
      "text/plain": [
       "<Figure size 640x480 with 1 Axes>"
      ]
     },
     "metadata": {},
     "output_type": "display_data"
    }
   ],
   "source": [
    "logbins = np.logspace(np.log10(np.min(errors_gauss_newton)), np.log10(np.max(errors_gauss_newton)), 20)\n",
    "plt.hist(errors_gauss_newton, bins=logbins, label=\"G-N error\")\n",
    "plt.xscale(\"log\")\n",
    "plt.xlabel(\"error\")\n",
    "plt.legend()\n",
    "plt.show()"
   ]
  },
  {
   "attachments": {},
   "cell_type": "markdown",
   "metadata": {},
   "source": [
    "#### 2. Sequence $\\lambda_k$ decrasing when error is decreasing, and increasing otherwise"
   ]
  },
  {
   "cell_type": "code",
   "execution_count": 93,
   "metadata": {},
   "outputs": [
    {
     "name": "stdout",
     "output_type": "stream",
     "text": [
      "p=array([-0.08,  1.08, -1.08]), err=5.0697407808277147e-20\n"
     ]
    }
   ],
   "source": [
    "optimizer = LevenbergMarquardt(\n",
    "    R=R,\n",
    "    lambda_param_fun=LevenbergMarquardt.LambdaParamDefaultModifier(\n",
    "        lambda0=0.1, lambda_change=2\n",
    "    ),\n",
    ")\n",
    "p, err = optimizer.optimize(p0, max_iter)\n",
    "print(f\"{p=}, {err=}\")"
   ]
  },
  {
   "cell_type": "code",
   "execution_count": 80,
   "metadata": {},
   "outputs": [
    {
     "data": {
      "text/plain": [
       "array([1., 2., 3., 4.])"
      ]
     },
     "execution_count": 80,
     "metadata": {},
     "output_type": "execute_result"
    }
   ],
   "source": [
    "np.array([f(xs[i], p) for i in range(len(xs))])"
   ]
  },
  {
   "cell_type": "code",
   "execution_count": 94,
   "metadata": {},
   "outputs": [
    {
     "name": "stdout",
     "output_type": "stream",
     "text": [
      "p=array([-0.87, -1.77, -5.51]), err=629.6000242640418\n"
     ]
    }
   ],
   "source": [
    "p, err = optimizer.optimize(p0, max_iter, step_type=\"least_squares\")\n",
    "print(f\"{p=}, {err=}\")"
   ]
  },
  {
   "cell_type": "code",
   "execution_count": 97,
   "metadata": {},
   "outputs": [
    {
     "name": "stdout",
     "output_type": "stream",
     "text": [
      "p=array([-0.86966421, -1.76966421, -5.50966421]), err=628.7940780874592\n"
     ]
    }
   ],
   "source": [
    "p, err = optimizer.optimize(p0, max_iter, step_type=\"ridge\")\n",
    "print(f\"{p=}, {err=}\")"
   ]
  }
 ],
 "metadata": {
  "kernelspec": {
   "display_name": "Python 3",
   "language": "python",
   "name": "python3"
  },
  "language_info": {
   "codemirror_mode": {
    "name": "ipython",
    "version": 3
   },
   "file_extension": ".py",
   "mimetype": "text/x-python",
   "name": "python",
   "nbconvert_exporter": "python",
   "pygments_lexer": "ipython3",
   "version": "3.10.4"
  },
  "orig_nbformat": 4
 },
 "nbformat": 4,
 "nbformat_minor": 2
}
