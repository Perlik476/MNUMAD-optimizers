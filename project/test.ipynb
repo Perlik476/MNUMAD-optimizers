{
 "cells": [
  {
   "cell_type": "code",
   "execution_count": 207,
   "metadata": {},
   "outputs": [
    {
     "name": "stdout",
     "output_type": "stream",
     "text": [
      "The autoreload extension is already loaded. To reload it, use:\n",
      "  %reload_ext autoreload\n"
     ]
    }
   ],
   "source": [
    "%load_ext autoreload\n",
    "%autoreload 2"
   ]
  },
  {
   "cell_type": "code",
   "execution_count": 208,
   "metadata": {},
   "outputs": [],
   "source": [
    "from lib.optimizers import *\n",
    "from lib.functions import *\n",
    "import numpy as np\n",
    "import matplotlib.pyplot as plt\n",
    "from typing import Callable"
   ]
  },
  {
   "attachments": {},
   "cell_type": "markdown",
   "metadata": {},
   "source": [
    "## Example functions"
   ]
  },
  {
   "attachments": {},
   "cell_type": "markdown",
   "metadata": {},
   "source": [
    "$$p \\in \\R^N = \\R^3, \\forall_{0 \\leq i < M} \\, x^{[i]} \\in \\R^K = \\R^2, \\, y^{[i]} \\in \\R$$\n",
    "\n",
    "$$f : \\R^K \\times \\R^N \\to \\R, \\qquad f(x, p) = p_0 x_0 + p_1 x_1 + p_2 $$\n",
    "\n",
    "$$ D_pf(x, p) = \\left[\\frac{\\partial f}{\\partial p_0}(x, p), \\frac{\\partial f}{\\partial p_1}(x, p), \\frac{\\partial f}{\\partial p_2}(x, p)\\right]^T = [x_0, x_1, 1]^T$$\n",
    "\n",
    "$$ R : \\R^N \\to \\R^M, \\qquad R(p) = \\left[(f(x^{[i]}, p) - y^{[i]})^2\\right]_{0 \\leq i < M} $$\n",
    "\n",
    "$$ D_pR(p) = \\left[2(f(x^{[i]}, p) - y^{[i]})\\frac{\\partial f}{\\partial p_j}(x^{[i]}, p)\\right]_{0 \\leq i < M, 0 \\leq j < N}$$"
   ]
  },
  {
   "cell_type": "code",
   "execution_count": 209,
   "metadata": {},
   "outputs": [],
   "source": [
    "xs = np.array([[1, 2], [2, 3], [3, 4], [4, 5]])\n",
    "ys = np.array([1, 2, 3, 4])\n",
    "\n",
    "\n",
    "def f(x: np.ndarray, p: np.ndarray) -> np.ndarray:\n",
    "    assert x.shape == (2,)\n",
    "    assert p.shape == (3,)\n",
    "\n",
    "    return p[0] * x[0] + p[1] * x[1] + p[2]\n",
    "\n",
    "\n",
    "def df(x: np.ndarray, p: np.ndarray) -> np.ndarray:\n",
    "    assert x.shape == (2,)\n",
    "    assert p.shape == (3,)\n",
    "\n",
    "    return np.array([x[0], x[1], 1])\n",
    "\n",
    "\n",
    "def residue(\n",
    "    f: Callable[[np.ndarray, np.ndarray], np.ndarray],\n",
    "    xs: np.ndarray,\n",
    "    ys: np.ndarray,\n",
    "    p: np.ndarray,\n",
    ") -> np.ndarray:\n",
    "    assert xs.shape[1] == 2\n",
    "    assert xs.shape[0] == ys.shape[0]\n",
    "    assert p.shape == (3,)\n",
    "\n",
    "    fs = np.array([f(x, p) for x in xs])\n",
    "\n",
    "    return (fs - ys)**2\n",
    "\n",
    "\n",
    "def residue_jacobian(\n",
    "    f: Callable[[np.ndarray, np.ndarray], np.ndarray],\n",
    "    df: Callable[[np.ndarray, np.ndarray], np.ndarray],\n",
    "    ys: np.ndarray,\n",
    "    xs: np.ndarray,\n",
    "    p: np.ndarray,\n",
    ") -> np.ndarray:\n",
    "    assert xs.shape[1] == 2\n",
    "    assert xs.shape[0] == ys.shape[0]\n",
    "    assert p.shape == (3,)\n",
    "\n",
    "    fs = np.array([f(x, p) for x in xs])\n",
    "    dfs = np.array([df(x, p) for x in xs])\n",
    "\n",
    "    return np.array([2 * (fs[i] - ys[i]) * dfs[i] for i in range(len(xs))])"
   ]
  },
  {
   "cell_type": "code",
   "execution_count": 210,
   "metadata": {},
   "outputs": [],
   "source": [
    "def R_value(p: np.ndarray) -> np.ndarray:\n",
    "    return residue(f, xs, ys, p)\n",
    "\n",
    "def R_derivative(p: np.ndarray) -> np.ndarray:\n",
    "    return residue_jacobian(f, df, ys, xs, p)\n",
    "\n",
    "R = Function(R_value, R_derivative, 3, 4)"
   ]
  },
  {
   "cell_type": "code",
   "execution_count": 211,
   "metadata": {},
   "outputs": [
    {
     "data": {
      "text/plain": [
       "array([ 9, 16, 25, 36])"
      ]
     },
     "execution_count": 211,
     "metadata": {},
     "output_type": "execute_result"
    }
   ],
   "source": [
    "R_value(np.array([1, 1, 1]))"
   ]
  },
  {
   "attachments": {},
   "cell_type": "markdown",
   "metadata": {},
   "source": [
    "# TEST\n",
    "# TODO remove later"
   ]
  },
  {
   "cell_type": "code",
   "execution_count": 212,
   "metadata": {},
   "outputs": [
    {
     "name": "stdout",
     "output_type": "stream",
     "text": [
      "[ 3.66025404e-01  7.07106781e-01  2.00000000e+00  8.00793746e-01\n",
      "  3.47123586e+08 -8.05980153e-01]\n",
      "[[-1.23205081e+00  0.00000000e+00  0.00000000e+00  0.00000000e+00\n",
      "   0.00000000e+00  0.00000000e+00]\n",
      " [ 0.00000000e+00 -7.07106781e-01  0.00000000e+00  0.00000000e+00\n",
      "   0.00000000e+00  0.00000000e+00]\n",
      " [ 0.00000000e+00  0.00000000e+00  2.00000000e+00  0.00000000e+00\n",
      "   0.00000000e+00  0.00000000e+00]\n",
      " [ 1.34941816e-01  1.01206362e-01  0.00000000e+00  3.86579828e-01\n",
      "  -1.28859943e-01  6.44299713e-01]\n",
      " [ 6.94247171e+08  6.94247171e+08  6.94247171e+08  6.94247171e+08\n",
      "   6.94247171e+08  6.94247171e+08]\n",
      " [ 0.00000000e+00  0.00000000e+00  0.00000000e+00  0.00000000e+00\n",
      "   0.00000000e+00  8.07689852e-01]]\n"
     ]
    }
   ],
   "source": [
    "M = 6\n",
    "sin = Function(F=np.sin, DF=np.cos, M=1, N=1)\n",
    "cos = Function(F=np.cos, DF=lambda x: -np.sin(x), M=1, N=1)\n",
    "exp = Function(F=np.exp, DF=np.exp, M=1, N=1)\n",
    "square = Function(F=lambda x: x**2, DF=lambda x: 2 * x, M=1, N=1)\n",
    "norm = Function(F=np.linalg.norm, DF=lambda x: x / np.linalg.norm(x), M=M, N=1)\n",
    "sum_ = Function(F=np.sum, DF=lambda _: np.ones(M), M=M, N=1)\n",
    "proj = lambda k: Function(F=lambda x: x[k], DF=lambda _: np.eye(M)[k], M=M, N=1)\n",
    "const = lambda c: Function(F=lambda _: np.array(c), DF=lambda _: np.zeros(M), M=M, N=1)\n",
    "mul_const = lambda c: Function(F=lambda x: c * x, DF=lambda _: np.array(c), M=1, N=1)\n",
    "\n",
    "F1 = compose(proj(0), sin + compose(mul_const(2), cos))\n",
    "F2 = compose(proj(1), cos)\n",
    "F3 = compose(proj(2), 2 * exp)\n",
    "F4 = compose(norm, sin, exp)\n",
    "F5 = compose(sum_ + const(1), compose(exp, square))\n",
    "F6 = compose(proj(5), sin, square, exp, cos)\n",
    "F = stack(F1, F2, F3, F4, F5, F6)\n",
    "\n",
    "p = np.array([np.pi / 3, np.pi / 4, 0, 3, -1, 5])\n",
    "print(F(p))\n",
    "print(F.differential(p))"
   ]
  },
  {
   "cell_type": "code",
   "execution_count": 213,
   "metadata": {},
   "outputs": [
    {
     "data": {
      "text/plain": [
       "array([0.51860337, 0.12409981, 0.48468639, 0.56248629, 0.34095023,\n",
       "       0.73700631])"
      ]
     },
     "execution_count": 213,
     "metadata": {},
     "output_type": "execute_result"
    }
   ],
   "source": [
    "# p0 = np.array([21, 37, 42, 69, -420])\n",
    "# p0 = np.ones(5)\n",
    "p0 = np.random.rand(6)\n",
    "max_iter = 10000\n",
    "p0"
   ]
  },
  {
   "cell_type": "code",
   "execution_count": 214,
   "metadata": {},
   "outputs": [
    {
     "data": {
      "text/plain": [
       "(array([-7020.93174789, -7019.85722694, -7019.91538351, -7019.8271937 ,\n",
       "        -7020.04829212, -7020.7108834 ]),\n",
       " 0.4060354813331908)"
      ]
     },
     "execution_count": 214,
     "metadata": {},
     "output_type": "execute_result"
    }
   ],
   "source": [
    "p, err = gradient_descent(F, p0, 0.001, max_iter)\n",
    "p, err"
   ]
  },
  {
   "cell_type": "code",
   "execution_count": 215,
   "metadata": {},
   "outputs": [
    {
     "name": "stdout",
     "output_type": "stream",
     "text": [
      "Singular matrix encountered in 45-th iteration. Returning current point.\n"
     ]
    },
    {
     "data": {
      "text/plain": [
       "(array([  1.57078961,   7.85398163,  33.51570937,  36.92171872,\n",
       "        -61.91122962,   0.73690488]),\n",
       " 1.2608913079628957e+17)"
      ]
     },
     "execution_count": 215,
     "metadata": {},
     "output_type": "execute_result"
    }
   ],
   "source": [
    "p, err = gauss_newton(R=F, p0=p0, max_iter=max_iter)\n",
    "p, err"
   ]
  },
  {
   "cell_type": "code",
   "execution_count": 216,
   "metadata": {},
   "outputs": [],
   "source": [
    "optimizer = LevenbergMarquardt(\n",
    "    R=F, lambda_param_fun=LevenbergMarquardt.LambdaParamDefaultModifier(lambda0=0.01, lambda_change=1.1)\n",
    ")"
   ]
  },
  {
   "cell_type": "code",
   "execution_count": 217,
   "metadata": {},
   "outputs": [
    {
     "data": {
      "text/plain": [
       "(array([ 1.47414356,  7.84172921, -4.95190932, -3.8778724 , -3.8778724 ,\n",
       "         0.73610457]),\n",
       " 0.3715222805512409)"
      ]
     },
     "execution_count": 217,
     "metadata": {},
     "output_type": "execute_result"
    }
   ],
   "source": [
    "p, err = optimizer.optimize(p0=p0, max_iter=max_iter, step_type=\"solve\")\n",
    "p, err"
   ]
  },
  {
   "cell_type": "code",
   "execution_count": 218,
   "metadata": {},
   "outputs": [
    {
     "data": {
      "text/plain": [
       "(array([ 1.47414356,  7.84172921, -4.95190932, -3.8778724 , -3.8778724 ,\n",
       "         0.73610457]),\n",
       " 0.37152228055124115)"
      ]
     },
     "execution_count": 218,
     "metadata": {},
     "output_type": "execute_result"
    }
   ],
   "source": [
    "p, err = optimizer.optimize(p0=p0, max_iter=max_iter, step_type=\"least_squares\")\n",
    "p, err"
   ]
  },
  {
   "cell_type": "code",
   "execution_count": 219,
   "metadata": {},
   "outputs": [
    {
     "data": {
      "text/plain": [
       "(array([ 1.14416   ,  3.95651556, -2.61429886, -2.34394421, -2.34394421,\n",
       "         0.60882528]),\n",
       " 1.0875355479773774)"
      ]
     },
     "execution_count": 219,
     "metadata": {},
     "output_type": "execute_result"
    }
   ],
   "source": [
    "p, err = optimizer.optimize(p0=p0, max_iter=max_iter, step_type=\"ridge\")\n",
    "p, err"
   ]
  },
  {
   "attachments": {},
   "cell_type": "markdown",
   "metadata": {},
   "source": [
    "## Hyperparameters"
   ]
  },
  {
   "cell_type": "code",
   "execution_count": null,
   "metadata": {},
   "outputs": [],
   "source": [
    "# p0 = np.random.randn(3)\n",
    "p0 = np.array([1.5, 0.6, -3.14])\n",
    "max_iter = 1000"
   ]
  },
  {
   "attachments": {},
   "cell_type": "markdown",
   "metadata": {},
   "source": [
    "## Gradient descent method"
   ]
  },
  {
   "cell_type": "code",
   "execution_count": null,
   "metadata": {},
   "outputs": [
    {
     "name": "stdout",
     "output_type": "stream",
     "text": [
      "p=array([ 1.12693716,  0.63955052, -2.72738664]), err=2.0158093579792693\n"
     ]
    }
   ],
   "source": [
    "p, err = gradient_descent(R, p0, 0.0001, max_iter)\n",
    "print(f\"{p=}, {err=}\")"
   ]
  },
  {
   "cell_type": "code",
   "execution_count": null,
   "metadata": {},
   "outputs": [
    {
     "data": {
      "text/plain": [
       "array([-0.32134843,  1.44513925,  3.21162694,  4.97811462])"
      ]
     },
     "execution_count": 115,
     "metadata": {},
     "output_type": "execute_result"
    }
   ],
   "source": [
    "np.array([f(xs[i], p) for i in range(len(xs))])"
   ]
  },
  {
   "attachments": {},
   "cell_type": "markdown",
   "metadata": {},
   "source": [
    "## Gauss-Newton method"
   ]
  },
  {
   "cell_type": "code",
   "execution_count": null,
   "metadata": {},
   "outputs": [
    {
     "name": "stdout",
     "output_type": "stream",
     "text": [
      "Singular matrix encountered in 5-th iteration. Returning current point.\n",
      "p=array([ 0.82308036,  0.21129464, -0.29066964]), err=0.003980691350191393\n"
     ]
    }
   ],
   "source": [
    "p, err = gauss_newton(R, p0, max_iter, silent=True)\n",
    "print(f\"{p=}, {err=}\")"
   ]
  },
  {
   "cell_type": "code",
   "execution_count": null,
   "metadata": {},
   "outputs": [
    {
     "data": {
      "text/plain": [
       "array([0.955   , 1.989375, 3.02375 , 4.058125])"
      ]
     },
     "execution_count": 117,
     "metadata": {},
     "output_type": "execute_result"
    }
   ],
   "source": [
    "np.array([f(xs[i], p) for i in range(len(xs))])"
   ]
  },
  {
   "attachments": {},
   "cell_type": "markdown",
   "metadata": {},
   "source": [
    "## Levenberg-Marquardt method"
   ]
  },
  {
   "attachments": {},
   "cell_type": "markdown",
   "metadata": {},
   "source": [
    "#### 1. Constant $\\lambda_k$ sequence"
   ]
  },
  {
   "cell_type": "code",
   "execution_count": null,
   "metadata": {},
   "outputs": [
    {
     "name": "stdout",
     "output_type": "stream",
     "text": [
      "p=array([-0.07937187,  1.07977078, -1.08085736]), err=5.463312677507736e-07\n"
     ]
    }
   ],
   "source": [
    "lambda_param = 1e-3\n",
    "optimizer = LevenbergMarquardt(\n",
    "    R=R, lambda_param_fun=LevenbergMarquardt.LambdaParamConstant(lambda0=lambda_param)\n",
    ")\n",
    "p, err = optimizer.optimize(p0, max_iter)\n",
    "print(f\"{p=}, {err=}\")"
   ]
  },
  {
   "cell_type": "code",
   "execution_count": null,
   "metadata": {},
   "outputs": [
    {
     "data": {
      "text/plain": [
       "array([0.99931233, 1.99971123, 3.00011014, 4.00050904])"
      ]
     },
     "execution_count": 119,
     "metadata": {},
     "output_type": "execute_result"
    }
   ],
   "source": [
    "np.array([f(xs[i], p) for i in range(len(xs))])"
   ]
  },
  {
   "cell_type": "code",
   "execution_count": null,
   "metadata": {},
   "outputs": [
    {
     "name": "stdout",
     "output_type": "stream",
     "text": [
      "p=array([-0.07937187,  1.07977078, -1.08085736]), err=5.463312677507736e-07\n"
     ]
    }
   ],
   "source": [
    "p, err = optimizer.optimize(p0, max_iter, step_type=\"least_squares\")\n",
    "print(f\"{p=}, {err=}\")"
   ]
  },
  {
   "cell_type": "code",
   "execution_count": null,
   "metadata": {},
   "outputs": [
    {
     "name": "stdout",
     "output_type": "stream",
     "text": [
      "p=array([-0.07647219,  1.07871259, -1.08481522]), err=1.7233163951545136e-05\n"
     ]
    }
   ],
   "source": [
    "p, err = optimizer.optimize(p0, max_iter, step_type=\"ridge\")\n",
    "print(f\"{p=}, {err=}\")"
   ]
  },
  {
   "attachments": {},
   "cell_type": "markdown",
   "metadata": {},
   "source": [
    "### Test parameters"
   ]
  },
  {
   "cell_type": "code",
   "execution_count": null,
   "metadata": {},
   "outputs": [
    {
     "name": "stdout",
     "output_type": "stream",
     "text": [
      "Singular matrix encountered in 15-th iteration. Returning current point.\n",
      "Singular matrix encountered in 5-th iteration. Returning current point.\n",
      "Singular matrix encountered in 4-th iteration. Returning current point.\n",
      "Singular matrix encountered in 32-th iteration. Returning current point.\n",
      "Singular matrix encountered in 42-th iteration. Returning current point.\n",
      "Singular matrix encountered in 11-th iteration. Returning current point.\n",
      "Singular matrix encountered in 0-th iteration. Returning current point.\n",
      "Singular matrix encountered in 14-th iteration. Returning current point.\n",
      "Singular matrix encountered in 34-th iteration. Returning current point.\n",
      "Singular matrix encountered in 8-th iteration. Returning current point.\n"
     ]
    }
   ],
   "source": [
    "lambda_params = [10**i for i in range(-10, 2)]\n",
    "errors_levenberg_marquardt_constant_param = []\n",
    "p0s = [np.random.randn(3) for _ in range(10)]\n",
    "\n",
    "for lambda_param in lambda_params:\n",
    "    optimizer = LevenbergMarquardt(\n",
    "        R=R, lambda_param_fun=LevenbergMarquardt.LambdaParamConstant(lambda0=lambda_param)\n",
    "    )\n",
    "\n",
    "    errs = []\n",
    "    for p0 in p0s:\n",
    "        p, err = optimizer.optimize(p0, max_iter, silent=True)\n",
    "        errs.append(err)\n",
    "    \n",
    "    errors_levenberg_marquardt_constant_param.append(errs)\n",
    "\n",
    "errors_gauss_newton = []\n",
    "for p0 in p0s:\n",
    "    p, err = gauss_newton(R=R, p0=p0, max_iter=max_iter, silent=True)\n",
    "    errors_gauss_newton.append(err)"
   ]
  },
  {
   "cell_type": "code",
   "execution_count": null,
   "metadata": {},
   "outputs": [
    {
     "data": {
      "image/png": "[encoded data removed]",
      "text/plain": [
       "<Figure size 640x480 with 1 Axes>"
      ]
     },
     "metadata": {},
     "output_type": "display_data"
    }
   ],
   "source": [
    "errors_mean = np.mean(errors_levenberg_marquardt_constant_param, axis=1)\n",
    "errors_std = np.std(errors_levenberg_marquardt_constant_param, axis=1)\n",
    "\n",
    "errors_gn_mean = np.mean(errors_gauss_newton)\n",
    "errors_gn_std = np.std(errors_gauss_newton)\n",
    "\n",
    "plt.loglog(lambda_params, errors_mean, label=\"mean L-M error\")\n",
    "plt.loglog(lambda_params, errors_std, label=\"L-M error std\")\n",
    "\n",
    "plt.loglog(lambda_params, [errors_gn_mean] * len(lambda_params), label=\"mean G-N error\", linestyle=\"--\")\n",
    "plt.loglog(lambda_params, [np.min(errors_gauss_newton)] * len(lambda_params), label=\"min G-N error\", linestyle=\"--\")\n",
    "plt.loglog(lambda_params, [errors_gn_std] * len(lambda_params), label=\"G-N error std\", linestyle=\"--\")\n",
    "\n",
    "plt.legend()\n",
    "plt.xlabel(\"lambda\")\n",
    "plt.ylabel(\"error\")\n",
    "plt.show()"
   ]
  },
  {
   "cell_type": "code",
   "execution_count": null,
   "metadata": {},
   "outputs": [
    {
     "data": {
      "image/png": "[encoded data removed]",
      "text/plain": [
       "<Figure size 640x480 with 1 Axes>"
      ]
     },
     "metadata": {},
     "output_type": "display_data"
    }
   ],
   "source": [
    "logbins = np.logspace(np.log10(np.min(errors_gauss_newton)), np.log10(np.max(errors_gauss_newton)), 20)\n",
    "plt.hist(errors_gauss_newton, bins=logbins, label=\"G-N error\")\n",
    "plt.xscale(\"log\")\n",
    "plt.xlabel(\"error\")\n",
    "plt.legend()\n",
    "plt.show()"
   ]
  },
  {
   "attachments": {},
   "cell_type": "markdown",
   "metadata": {},
   "source": [
    "#### 2. Sequence $\\lambda_k$ decrasing when error is decreasing, and increasing otherwise"
   ]
  },
  {
   "cell_type": "code",
   "execution_count": null,
   "metadata": {},
   "outputs": [
    {
     "name": "stdout",
     "output_type": "stream",
     "text": [
      "p=array([ 0.03282742,  0.96717258, -0.96717258]), err=5.0697667660620786e-20\n"
     ]
    }
   ],
   "source": [
    "optimizer = LevenbergMarquardt(\n",
    "    R=R,\n",
    "    lambda_param_fun=LevenbergMarquardt.LambdaParamDefaultModifier(\n",
    "        lambda0=0.1, lambda_change=2\n",
    "    ),\n",
    ")\n",
    "p, err = optimizer.optimize(p0, max_iter)\n",
    "print(f\"{p=}, {err=}\")"
   ]
  },
  {
   "cell_type": "code",
   "execution_count": null,
   "metadata": {},
   "outputs": [
    {
     "data": {
      "text/plain": [
       "array([1., 2., 3., 4.])"
      ]
     },
     "execution_count": 126,
     "metadata": {},
     "output_type": "execute_result"
    }
   ],
   "source": [
    "np.array([f(xs[i], p) for i in range(len(xs))])"
   ]
  },
  {
   "cell_type": "code",
   "execution_count": null,
   "metadata": {},
   "outputs": [
    {
     "name": "stdout",
     "output_type": "stream",
     "text": [
      "p=array([ 0.03282742,  0.96717258, -0.96717258]), err=1.9968781409166757e-20\n"
     ]
    }
   ],
   "source": [
    "p, err = optimizer.optimize(p0, max_iter, step_type=\"least_squares\")\n",
    "print(f\"{p=}, {err=}\")"
   ]
  },
  {
   "cell_type": "code",
   "execution_count": null,
   "metadata": {},
   "outputs": [
    {
     "name": "stdout",
     "output_type": "stream",
     "text": [
      "p=array([ 0.03284614,  0.96715308, -0.96715095]), err=2.107187031123506e-12\n"
     ]
    }
   ],
   "source": [
    "p, err = optimizer.optimize(p0, max_iter, step_type=\"ridge\")\n",
    "print(f\"{p=}, {err=}\")"
   ]
  }
 ],
 "metadata": {
  "kernelspec": {
   "display_name": "Python 3",
   "language": "python",
   "name": "python3"
  },
  "language_info": {
   "codemirror_mode": {
    "name": "ipython",
    "version": 3
   },
   "file_extension": ".py",
   "mimetype": "text/x-python",
   "name": "python",
   "nbconvert_exporter": "python",
   "pygments_lexer": "ipython3",
   "version": "3.10.4"
  },
  "orig_nbformat": 4
 },
 "nbformat": 4,
 "nbformat_minor": 2
}
