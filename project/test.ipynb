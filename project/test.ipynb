{
 "cells": [
  {
   "cell_type": "code",
   "execution_count": 499,
   "metadata": {},
   "outputs": [
    {
     "name": "stdout",
     "output_type": "stream",
     "text": [
      "The autoreload extension is already loaded. To reload it, use:\n",
      "  %reload_ext autoreload\n"
     ]
    }
   ],
   "source": [
    "%load_ext autoreload\n",
    "%autoreload 2"
   ]
  },
  {
   "cell_type": "code",
   "execution_count": 500,
   "metadata": {},
   "outputs": [],
   "source": [
    "from lib import gradient_descent, gauss_newton\n",
    "import numpy as np"
   ]
  },
  {
   "cell_type": "code",
   "execution_count": 501,
   "metadata": {},
   "outputs": [],
   "source": [
    "xs = np.array([[1, 2], [2, 3], [3, 4], [4, 5]])\n",
    "ys = np.array([1, 2, 3, 4])\n",
    "\n",
    "def f(x: np.ndarray, p: np.ndarray) -> np.ndarray:\n",
    "    assert x.shape == (2,)\n",
    "    assert p.shape == (3,)\n",
    "\n",
    "    return p[0] * x[0] + p[1] * x[1] + p[2]\n",
    "\n",
    "def df(x: np.ndarray, p: np.ndarray) -> np.ndarray:\n",
    "    assert x.shape == (2,)\n",
    "    assert p.shape == (3,)\n",
    "\n",
    "    return np.array([x[0], x[1], 1])\n",
    "\n",
    "def residue(f: callable, xs: np.ndarray, ys: np.ndarray, p: np.ndarray) -> np.ndarray:\n",
    "    assert xs.shape[1] == 2\n",
    "    assert xs.shape[0] == ys.shape[0]\n",
    "    assert p.shape == (3,)\n",
    "\n",
    "    fs = np.array([f(x, p) for x in xs])\n",
    "\n",
    "    return (fs - ys)**2\n",
    "\n",
    "def residue_jacobian(f: callable, df: callable, ys: np.ndarray, xs: np.ndarray, p: np.ndarray) -> np.ndarray:\n",
    "    assert xs.shape[1] == 2\n",
    "    assert xs.shape[0] == ys.shape[0]\n",
    "    assert p.shape == (3,)\n",
    "\n",
    "    fs = np.array([f(x, p) for x in xs])\n",
    "    dfs = np.array([df(x, p) for x in xs])\n",
    "\n",
    "    return np.array([2 * (fs[i] - ys[i]) * dfs[i] for i in range(len(xs))])\n",
    "\n",
    "p0 = np.random.randn(3)\n",
    "alpha = 0.01\n",
    "max_iter = 1000"
   ]
  },
  {
   "cell_type": "code",
   "execution_count": 502,
   "metadata": {},
   "outputs": [
    {
     "data": {
      "text/plain": [
       "array([ 3.4059043 ,  8.40952191, 15.63669344, 25.08741888])"
      ]
     },
     "execution_count": 502,
     "metadata": {},
     "output_type": "execute_result"
    }
   ],
   "source": [
    "residue(f, xs, ys, p0)"
   ]
  },
  {
   "cell_type": "code",
   "execution_count": 503,
   "metadata": {},
   "outputs": [
    {
     "data": {
      "text/plain": [
       "array([[ -3.69101845,  -7.3820369 ,  -3.69101845],\n",
       "       [-11.59967028, -17.39950542,  -5.79983514],\n",
       "       [-23.72595549, -31.63460732,  -7.90865183],\n",
       "       [-40.06987408, -50.0873426 , -10.01746852]])"
      ]
     },
     "execution_count": 503,
     "metadata": {},
     "output_type": "execute_result"
    }
   ],
   "source": [
    "residue_jacobian(f, df, ys, xs, p0)"
   ]
  },
  {
   "cell_type": "code",
   "execution_count": 504,
   "metadata": {},
   "outputs": [],
   "source": [
    "def F(p: np.ndarray) -> np.ndarray:\n",
    "    return residue(f, xs, ys, p)\n",
    "\n",
    "def DF(p: np.ndarray) -> np.ndarray:\n",
    "    return residue_jacobian(f, df, ys, xs, p)"
   ]
  },
  {
   "cell_type": "code",
   "execution_count": 506,
   "metadata": {},
   "outputs": [
    {
     "data": {
      "text/plain": [
       "array([[2316.69174   , 2986.63055584,  669.93881584],\n",
       "       [2986.63055584, 3866.72752578,  880.09696994],\n",
       "       [ 669.93881584,  880.09696994,  210.1581541 ]])"
      ]
     },
     "execution_count": 506,
     "metadata": {},
     "output_type": "execute_result"
    }
   ],
   "source": [
    "h = DF(p0).T @ DF(p0)\n",
    "h"
   ]
  },
  {
   "cell_type": "code",
   "execution_count": 507,
   "metadata": {},
   "outputs": [
    {
     "data": {
      "text/plain": [
       "array([[-4.39804651e+12,  4.39804651e+12, -4.39804651e+12],\n",
       "       [ 4.39804651e+12, -4.39804651e+12,  4.39804651e+12],\n",
       "       [-4.39804651e+12,  4.39804651e+12, -4.39804651e+12]])"
      ]
     },
     "execution_count": 507,
     "metadata": {},
     "output_type": "execute_result"
    }
   ],
   "source": [
    "np.linalg.inv(h)"
   ]
  },
  {
   "cell_type": "code",
   "execution_count": 508,
   "metadata": {},
   "outputs": [
    {
     "name": "stdout",
     "output_type": "stream",
     "text": [
      "iter 0: p = [ 1.00897294 -1.06338128  0.27228041], ||F(p)|| = 30.9225647495773\n",
      "iter 1: p = [ 1.33593917 -0.86314335  0.46759291], ||F(p)|| = 7.730641187394325\n",
      "iter 2: p = [ 1.40176604 -0.66536813  0.46759291], ||F(p)|| = 1.9326602968485833\n",
      "iter 3: p = [ 1.42842947 -0.56023052  0.46134291], ||F(p)|| = 0.48316507421214516\n",
      "iter 4: p = [ 1.46637056 -0.53227109  0.48282728], ||F(p)|| = 0.12079126855303667\n",
      "iter 5: p = [ 1.45374234 -0.4866926   0.4619707 ], ||F(p)|| = 0.03019781713825916\n",
      "iter 6: p = [ 1.4451612  -0.46163633  0.44927538], ||F(p)|| = 0.007549454284564913\n",
      "iter 7: p = [ 1.45410848 -0.46234605  0.45616557], ||F(p)|| = 0.0018873635711411764\n",
      "iter 8: p = [ 1.45432323 -0.45844201  0.45535177], ||F(p)|| = 0.0004718408927853222\n"
     ]
    },
    {
     "data": {
      "text/plain": [
       "array([ 1.45432323, -0.45844201,  0.45535177])"
      ]
     },
     "execution_count": 508,
     "metadata": {},
     "output_type": "execute_result"
    }
   ],
   "source": [
    "p = gauss_newton(F, DF, p0, max_iter)\n",
    "p"
   ]
  }
 ],
 "metadata": {
  "kernelspec": {
   "display_name": "Python 3",
   "language": "python",
   "name": "python3"
  },
  "language_info": {
   "codemirror_mode": {
    "name": "ipython",
    "version": 3
   },
   "file_extension": ".py",
   "mimetype": "text/x-python",
   "name": "python",
   "nbconvert_exporter": "python",
   "pygments_lexer": "ipython3",
   "version": "3.10.4"
  },
  "orig_nbformat": 4
 },
 "nbformat": 4,
 "nbformat_minor": 2
}
