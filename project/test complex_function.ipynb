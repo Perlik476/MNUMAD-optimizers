{
 "cells": [
  {
   "cell_type": "code",
   "execution_count": 1,
   "metadata": {},
   "outputs": [],
   "source": [
    "%load_ext autoreload\n",
    "%autoreload 2"
   ]
  },
  {
   "cell_type": "code",
   "execution_count": 2,
   "metadata": {},
   "outputs": [],
   "source": [
    "from lib.optimizers import *\n",
    "from lib.functions import *\n",
    "import numpy as np\n",
    "import matplotlib.pyplot as plt\n",
    "from typing import Callable"
   ]
  },
  {
   "attachments": {},
   "cell_type": "markdown",
   "metadata": {},
   "source": [
    "### $F$ - a more complex function\n",
    "\n",
    "$$ M = 8, N = 12, F : \\R^M \\to \\R^N$$\n",
    "\n",
    "$$ F(x) = \\begin{bmatrix}\n",
    "    \\sin(x_1) + \\cos(2x_1) \\\\\n",
    "    \\cos(-2x_2 + 1) \\\\\n",
    "    2 \\exp(x_3) \\\\\n",
    "    \\exp(\\sin(||x||_2)) \\\\\n",
    "    \\left(\\exp\\left(1 + \\sum_{i=1}^{M} x_i\\right)\\right)^2 \\\\\n",
    "    \\cos(\\exp(\\sin^2(x_5))) \\\\\n",
    "    \\left(\\sin\\left(\\sqrt{|\\sum_{i=1}^M x_i|} - 1\\right)\\right)^2 \\\\\n",
    "    \\sqrt{\\sin(\\prod_{i=1}^M x_i) + 2} \\\\\n",
    "    \\left|\\prod_{i=1}^M x_i\\right| + 1 \\\\\n",
    "    \\sin(x_1) + \\cos(x_2) + \\exp(x_3) + x_4^2 + |x_5| + \\sqrt{|x_6|} + \\sin^2(x_7) + \\sqrt{|\\cos(\\exp(\\sin(x_8)))|} \\\\\n",
    "    \\sin(||x||_2) + \\cos(||x||_2) - \\exp\\left(\\sum_{i=1}^M x_i\\right) \\\\\n",
    "    ||x||_2^2\n",
    "\\end{bmatrix}$$"
   ]
  },
  {
   "cell_type": "code",
   "execution_count": 3,
   "metadata": {},
   "outputs": [],
   "source": [
    "M = 8\n",
    "sin = Function(F=np.sin, DF=np.cos, M=1, N=1)\n",
    "cos = Function(F=np.cos, DF=lambda x: -np.sin(x), M=1, N=1)\n",
    "exp = Function(F=np.exp, DF=np.exp, M=1, N=1)\n",
    "square = Function(F=lambda x: x**2, DF=lambda x: 2 * x, M=1, N=1)\n",
    "abs = Function(F=np.abs, DF=lambda x: np.sign(x), M=1, N=1)\n",
    "sqrt = Function(F=lambda x: np.sqrt(np.abs(x)), DF=lambda x: 0.5 / np.sqrt(np.abs(x)) * np.sign(x), M=1, N=1)\n",
    "norm = Function(F=np.linalg.norm, DF=lambda x: x / np.linalg.norm(x), M=M, N=1)\n",
    "sum_ = Function(F=np.sum, DF=lambda _: np.ones(M), M=M, N=1)\n",
    "mul_ = Function(F=lambda x: np.array(np.prod(x)), DF=lambda x: np.prod(x) / x, M=M, N=1)\n",
    "proj = lambda k: Function(F=lambda x: x[k], DF=lambda _: np.eye(M)[k], M=M, N=1)\n",
    "constM = lambda c: Function(F=lambda _: np.array(c), DF=lambda _: np.zeros(M), M=M, N=1)\n",
    "const1 = lambda c: Function(F=lambda _: np.array(c), DF=lambda _: np.zeros(1), M=1, N=1)\n",
    "mul_const = lambda c: Function(F=lambda x: c * x, DF=lambda _: np.array(c), M=1, N=1)\n",
    "\n",
    "F1 = compose(proj(0), sin + compose(mul_const(2), cos))\n",
    "F2 = compose(proj(1), mul_const(-2) + const1(1), cos)\n",
    "F3 = compose(proj(2), 2 * exp)\n",
    "F4 = compose(norm, sin, exp)\n",
    "F5 = compose(sum_ + constM(1), exp, square)\n",
    "F6 = compose(proj(5), sin, square, exp, cos)\n",
    "F7 = compose(sum_, sqrt - const1(1), sin, square)\n",
    "F8 = compose(mul_, sin + const1(2), sqrt)\n",
    "F9 = compose(mul_, abs + const1(1))\n",
    "F10 = (\n",
    "    compose(proj(0), sin) + compose(proj(1), cos) + compose(proj(2), exp) + compose(proj(3), square) + compose(proj(4), abs) \n",
    "    + compose(proj(5), sqrt) + compose(proj(6), sin, square) + compose(proj(7), sin, exp, cos, sqrt)\n",
    ")\n",
    "F11 = compose(norm, sin + cos) - compose(sum_, exp)\n",
    "F12 = compose(norm, square)\n",
    "F = stack(F1, F2, F3, F4, F5, F6, F7, F8, F9, F10, F11, F12)"
   ]
  },
  {
   "attachments": {},
   "cell_type": "markdown",
   "metadata": {},
   "source": [
    "## Hyperparameters"
   ]
  },
  {
   "cell_type": "code",
   "execution_count": 10,
   "metadata": {},
   "outputs": [
    {
     "data": {
      "text/plain": [
       "array([ 0.49671415, -0.1382643 ,  0.64768854,  1.52302986, -0.23415337,\n",
       "       -0.23413696,  1.57921282,  0.76743473])"
      ]
     },
     "execution_count": 10,
     "metadata": {},
     "output_type": "execute_result"
    }
   ],
   "source": [
    "np.random.seed(42)\n",
    "p0 = np.random.randn(M)\n",
    "max_iter = 10000\n",
    "p0"
   ]
  },
  {
   "attachments": {},
   "cell_type": "markdown",
   "metadata": {},
   "source": [
    "## Gradient descent method"
   ]
  },
  {
   "cell_type": "code",
   "execution_count": 11,
   "metadata": {},
   "outputs": [
    {
     "name": "stdout",
     "output_type": "stream",
     "text": [
      "p=array([ 7.68952714e-04, -6.34200635e-01,  1.51736886e-01,  1.02707221e+00,\n",
      "       -7.30080621e-01, -7.30066668e-01,  1.08326202e+00,  2.71501570e-01])\n",
      "err=19.590567931950634\n"
     ]
    }
   ],
   "source": [
    "p, err = gradient_descent(F, p0, 1e-10, max_iter)\n",
    "print(f\"{p=}\\n{err=}\")"
   ]
  },
  {
   "attachments": {},
   "cell_type": "markdown",
   "metadata": {},
   "source": [
    "## Gauss-Newton method"
   ]
  },
  {
   "cell_type": "code",
   "execution_count": 18,
   "metadata": {},
   "outputs": [
    {
     "name": "stdout",
     "output_type": "stream",
     "text": [
      "Singular matrix encountered in 107-th iteration. Returning current point.\n",
      "p=array([ 0.60818589, -0.15357403,  0.54068914,  1.84621584, -0.0564157 ,\n",
      "       -0.33186968,  1.43746048,  0.46333348])\n",
      "err=44714.468389903705\n"
     ]
    }
   ],
   "source": [
    "p, err = gauss_newton(R=F, p0=p0, max_iter=max_iter, alpha=1e-3, step_type=\"solve\")\n",
    "print(f\"{p=}\\n{err=}\")"
   ]
  },
  {
   "cell_type": "code",
   "execution_count": 17,
   "metadata": {},
   "outputs": [
    {
     "name": "stdout",
     "output_type": "stream",
     "text": [
      "p=array([ 1.56524214e+00, -2.85391613e-01, -9.35231147e+00,  4.21366425e+00,\n",
      "        1.00613118e+01, -7.36890646e-01, -5.46561431e+00, -1.41967642e-07])\n",
      "err=241.8848553676758\n"
     ]
    }
   ],
   "source": [
    "p, err = gauss_newton(R=F, p0=p0, max_iter=max_iter, alpha=1e-3, step_type=\"least_squares\")\n",
    "print(f\"{p=}\\n{err=}\")"
   ]
  },
  {
   "attachments": {},
   "cell_type": "markdown",
   "metadata": {},
   "source": [
    "## Levenberg-Marquardt method"
   ]
  },
  {
   "attachments": {},
   "cell_type": "markdown",
   "metadata": {},
   "source": [
    "#### 1. Constant $\\lambda_k$ sequence"
   ]
  },
  {
   "cell_type": "code",
   "execution_count": 25,
   "metadata": {},
   "outputs": [],
   "source": [
    "lambda_param = 1e-1\n",
    "optimizer = LevenbergMarquardt(\n",
    "    R=F, lambda_param_fun=LevenbergMarquardt.LambdaParamConstant(lambda0=lambda_param)\n",
    ")"
   ]
  },
  {
   "cell_type": "code",
   "execution_count": 26,
   "metadata": {},
   "outputs": [
    {
     "name": "stdout",
     "output_type": "stream",
     "text": [
      "p=array([-0.52930211, -0.28449688, -1.70472337,  0.63891491,  1.17416181,\n",
      "       -0.67912275,  0.55640406,  0.03812203])\n",
      "err=6.659665706790292\n"
     ]
    }
   ],
   "source": [
    "p, err = optimizer.optimize(p0, max_iter, step_type=\"solve\")\n",
    "print(f\"{p=}\\n{err=}\")"
   ]
  },
  {
   "cell_type": "code",
   "execution_count": 27,
   "metadata": {},
   "outputs": [
    {
     "name": "stdout",
     "output_type": "stream",
     "text": [
      "p=array([-0.51465716, -0.2695337 , -1.52393084,  0.62655059,  1.06897708,\n",
      "       -0.66591659, -0.14776259, -0.10727145])\n",
      "err=5.715461302574509\n"
     ]
    }
   ],
   "source": [
    "p, err = optimizer.optimize(p0, max_iter, step_type=\"least_squares\")\n",
    "print(f\"{p=}\\n{err=}\")"
   ]
  },
  {
   "cell_type": "code",
   "execution_count": null,
   "metadata": {},
   "outputs": [],
   "source": [
    "# p, err = optimizer.optimize(p0, max_iter, step_type=\"ridge\")\n",
    "# print(f\"{p=}\\n{err=}\")"
   ]
  },
  {
   "attachments": {},
   "cell_type": "markdown",
   "metadata": {},
   "source": [
    "#### 2. Sequence $\\lambda_k$ decrasing when error is decreasing, and increasing otherwise"
   ]
  },
  {
   "cell_type": "code",
   "execution_count": 29,
   "metadata": {},
   "outputs": [],
   "source": [
    "optimizer = LevenbergMarquardt(\n",
    "    R=F,\n",
    "    lambda_param_fun=LevenbergMarquardt.LambdaParamDefaultModifier(lambda0=1., lambda_change=1.1),\n",
    ")"
   ]
  },
  {
   "cell_type": "code",
   "execution_count": 30,
   "metadata": {},
   "outputs": [
    {
     "name": "stdout",
     "output_type": "stream",
     "text": [
      "p=array([-4.86529195e-01, -2.43506597e-01, -5.85107953e-01, -7.72034728e-02,\n",
      "       -1.01032838e-05,  2.45269522e-04, -7.72580795e-02,  3.17336345e-01])\n",
      "err=3.7170934394964372\n"
     ]
    }
   ],
   "source": [
    "p, err = optimizer.optimize(p0, max_iter, step_type=\"solve\")\n",
    "print(f\"{p=}\\n{err=}\")"
   ]
  },
  {
   "cell_type": "code",
   "execution_count": 31,
   "metadata": {},
   "outputs": [
    {
     "name": "stdout",
     "output_type": "stream",
     "text": [
      "p=array([-4.77692046e-01, -2.35725549e-01, -5.70345868e-01, -7.22994013e-02,\n",
      "       -8.53141256e-05,  5.91540009e-04, -7.23976209e-02,  2.33452451e-01])\n",
      "err=3.720840198215124\n"
     ]
    }
   ],
   "source": [
    "p, err = optimizer.optimize(p0, max_iter, step_type=\"least_squares\")\n",
    "print(f\"{p=}\\n{err=}\")"
   ]
  },
  {
   "cell_type": "code",
   "execution_count": null,
   "metadata": {},
   "outputs": [],
   "source": [
    "# p, err = optimizer.optimize(p0, max_iter, step_type=\"ridge\")\n",
    "# print(f\"{p=}\\n{err=}\")"
   ]
  },
  {
   "attachments": {},
   "cell_type": "markdown",
   "metadata": {},
   "source": [
    "### Helper functions"
   ]
  },
  {
   "cell_type": "code",
   "execution_count": 32,
   "metadata": {},
   "outputs": [],
   "source": [
    "_infty = 1e32\n",
    "_zero = 1e-32\n",
    "\n",
    "def remove_nans_infs_and_zeros(arr):\n",
    "    arr = np.array(arr)\n",
    "    arr[np.isnan(arr)] = _infty\n",
    "    arr[np.isinf(arr)] = _infty\n",
    "    arr[arr == 0] = _zero\n",
    "    return arr"
   ]
  },
  {
   "attachments": {},
   "cell_type": "markdown",
   "metadata": {},
   "source": [
    "## Test parameters"
   ]
  },
  {
   "cell_type": "code",
   "execution_count": 34,
   "metadata": {},
   "outputs": [
    {
     "name": "stdout",
     "output_type": "stream",
     "text": [
      "lambda_param: 1e-10 (1/13)\n",
      "Levenberg-Marquardt: 52-th iteration failed. Returning current point.\n",
      "lambda_param: 1e-09 (2/13)\n",
      "lambda_param: 1e-08 (3/13)\n",
      "lambda_param: 1e-07 (4/13)\n"
     ]
    },
    {
     "name": "stderr",
     "output_type": "stream",
     "text": [
      "C:\\Users\\matip\\AppData\\Local\\Temp\\ipykernel_36160\\4155888824.py:10: RuntimeWarning: invalid value encountered in divide\n",
      "  mul_ = Function(F=lambda x: np.array(np.prod(x)), DF=lambda x: np.prod(x) / x, M=M, N=1)\n"
     ]
    },
    {
     "name": "stdout",
     "output_type": "stream",
     "text": [
      "Levenberg-Marquardt: 199-th iteration failed. Returning current point.\n"
     ]
    },
    {
     "name": "stderr",
     "output_type": "stream",
     "text": [
      "c:\\Users\\matip\\Documents\\UW\\ml-numerki\\project\\lib\\optimizers.py:37: RuntimeWarning: overflow encountered in matmul\n",
      "  p = p - alpha * DR(p).T @ R(p)\n"
     ]
    },
    {
     "name": "stdout",
     "output_type": "stream",
     "text": [
      "lambda_param: 1e-06 (5/13)\n"
     ]
    },
    {
     "name": "stderr",
     "output_type": "stream",
     "text": [
      "c:\\Python310\\lib\\site-packages\\numpy\\core\\fromnumeric.py:86: RuntimeWarning: overflow encountered in reduce\n",
      "  return ufunc.reduce(obj, axis, dtype, out, **passkwargs)\n",
      "c:\\Users\\matip\\Documents\\UW\\ml-numerki\\project\\lib\\functions.py:43: RuntimeWarning: invalid value encountered in sin\n",
      "  return self.F(x)\n",
      "c:\\Users\\matip\\Documents\\UW\\ml-numerki\\project\\lib\\functions.py:30: RuntimeWarning: invalid value encountered in cos\n",
      "  DF = lambda x: DF_old(x).reshape(1, M)\n"
     ]
    },
    {
     "name": "stdout",
     "output_type": "stream",
     "text": [
      "lambda_param: 1e-05 (6/13)\n",
      "lambda_param: 0.0001 (7/13)\n",
      "Levenberg-Marquardt: 88-th iteration failed. Returning current point.\n",
      "lambda_param: 0.001 (8/13)\n",
      "lambda_param: 0.01 (9/13)\n",
      "lambda_param: 0.1 (10/13)\n",
      "lambda_param: 1 (11/13)\n",
      "lambda_param: 10 (12/13)\n",
      "Least squares failed in 2-th iteration. Returning current point.\n"
     ]
    },
    {
     "name": "stderr",
     "output_type": "stream",
     "text": [
      "C:\\Users\\matip\\AppData\\Local\\Temp\\ipykernel_36160\\4155888824.py:5: RuntimeWarning: overflow encountered in scalar power\n",
      "  square = Function(F=lambda x: x**2, DF=lambda x: 2 * x, M=1, N=1)\n",
      "c:\\Users\\matip\\Documents\\UW\\ml-numerki\\project\\lib\\functions.py:43: RuntimeWarning: invalid value encountered in cos\n",
      "  return self.F(x)\n",
      "C:\\Users\\matip\\AppData\\Local\\Temp\\ipykernel_36160\\4155888824.py:3: RuntimeWarning: invalid value encountered in sin\n",
      "  cos = Function(F=np.cos, DF=lambda x: -np.sin(x), M=1, N=1)\n"
     ]
    },
    {
     "name": "stdout",
     "output_type": "stream",
     "text": [
      "lambda_param: 100 (13/13)\n",
      "Least squares failed in 2-th iteration. Returning current point.\n"
     ]
    }
   ],
   "source": [
    "lambda_params = [10**i for i in range(-10, 3)]\n",
    "p0s = [p0]\n",
    "max_iter = 1000\n",
    "\n",
    "errors_levenberg_marquardt_const_param = []\n",
    "errors_levenberg_marquardt_modifying_param = []\n",
    "errors_gauss_newton = []\n",
    "errors_gradient_descent = []\n",
    "\n",
    "for i, lambda_param in enumerate(lambda_params):\n",
    "    print(f\"lambda_param: {lambda_param} ({i + 1}/{len(lambda_params)})\")\n",
    "    optimizer = LevenbergMarquardt(\n",
    "        R=F, lambda_param_fun=LevenbergMarquardt.LambdaParamConstant(lambda0=lambda_param)\n",
    "    )\n",
    "\n",
    "    errs = []\n",
    "    for p0 in p0s:\n",
    "        p, err = optimizer.optimize(p0, max_iter)\n",
    "        errs.append(err)\n",
    "    errors_levenberg_marquardt_const_param.append(errs)\n",
    "\n",
    "    optimizer = LevenbergMarquardt(\n",
    "        R=F, lambda_param_fun=LevenbergMarquardt.LambdaParamDefaultModifier(lambda0=lambda_param, lambda_change=2)\n",
    "    )\n",
    "\n",
    "    errs = []\n",
    "    for p0 in p0s:\n",
    "        p, err = optimizer.optimize(p0, max_iter)\n",
    "        errs.append(err)\n",
    "    errors_levenberg_marquardt_modifying_param.append(errs)\n",
    "\n",
    "    errs = []\n",
    "    for p0 in p0s:\n",
    "        p, err = gauss_newton(R=F, p0=p0, alpha=lambda_param, max_iter=max_iter)\n",
    "        errs.append(err)\n",
    "    errors_gauss_newton.append(errs)\n",
    "\n",
    "    errs = []\n",
    "    for p0 in p0s:\n",
    "        p, err = gradient_descent(R=F, p0=p0, alpha=lambda_param, max_iter=max_iter)\n",
    "        errs.append(err)\n",
    "    errors_gradient_descent.append(errs)"
   ]
  },
  {
   "cell_type": "code",
   "execution_count": 35,
   "metadata": {},
   "outputs": [
    {
     "name": "stderr",
     "output_type": "stream",
     "text": [
      "c:\\Python310\\lib\\site-packages\\numpy\\core\\_methods.py:236: RuntimeWarning: invalid value encountered in subtract\n",
      "  x = asanyarray(arr - arrmean)\n"
     ]
    }
   ],
   "source": [
    "errors_mean_lm_const = np.mean(errors_levenberg_marquardt_const_param, axis=1)\n",
    "errors_std_lm_const = np.std(errors_levenberg_marquardt_const_param, axis=1)\n",
    "errors_mean_lm_const = remove_nans_infs_and_zeros(errors_mean_lm_const)\n",
    "errors_std_lm_const = remove_nans_infs_and_zeros(errors_std_lm_const)\n",
    "\n",
    "errors_mean_lm_mod = np.mean(errors_levenberg_marquardt_modifying_param, axis=1)\n",
    "errors_std_lm_mod = np.std(errors_levenberg_marquardt_modifying_param, axis=1)\n",
    "errors_mean_lm_mod = remove_nans_infs_and_zeros(errors_mean_lm_mod)\n",
    "errors_std_lm_mod = remove_nans_infs_and_zeros(errors_std_lm_mod)\n",
    "\n",
    "errors_gn_mean = np.mean(errors_gauss_newton, axis=1)\n",
    "errors_gn_std = np.std(errors_gauss_newton, axis=1)\n",
    "errors_gn_mean = remove_nans_infs_and_zeros(errors_gn_mean)\n",
    "errors_gn_std = remove_nans_infs_and_zeros(errors_gn_std)\n",
    "\n",
    "errors_gd_mean = np.mean(errors_gradient_descent, axis=1)\n",
    "errors_gd_std = np.std(errors_gradient_descent, axis=1)\n",
    "errors_gd_mean = remove_nans_infs_and_zeros(errors_gd_mean)\n",
    "errors_gd_std = remove_nans_infs_and_zeros(errors_gd_std)"
   ]
  },
  {
   "cell_type": "code",
   "execution_count": 36,
   "metadata": {},
   "outputs": [
    {
     "data": {
      "image/png": "[encoded data removed]",
      "text/plain": [
       "<Figure size 640x480 with 1 Axes>"
      ]
     },
     "metadata": {},
     "output_type": "display_data"
    }
   ],
   "source": [
    "plt.loglog(lambda_params, errors_mean_lm_const, label=\"mean L-M (const) error\")\n",
    "# plt.loglog(lambda_params, errors_std_lm_const, label=\"L-M (const) error std\", linestyle=\"--\")\n",
    "\n",
    "plt.loglog(lambda_params, errors_mean_lm_mod, label=\"mean L-M (modyfing) error\")\n",
    "# plt.loglog(lambda_params, errors_std_lm_mod, label=\"L-M (modyfing) error std\", linestyle=\"--\")\n",
    "\n",
    "plt.legend()\n",
    "plt.xlabel(\"lambda\")\n",
    "plt.ylabel(\"error\")\n",
    "plt.show()"
   ]
  },
  {
   "cell_type": "code",
   "execution_count": 37,
   "metadata": {},
   "outputs": [
    {
     "data": {
      "image/png": "[encoded data removed]",
      "text/plain": [
       "<Figure size 640x480 with 1 Axes>"
      ]
     },
     "metadata": {},
     "output_type": "display_data"
    }
   ],
   "source": [
    "plt.loglog(lambda_params, errors_gn_mean, label=\"mean G-N error\")\n",
    "# plt.loglog(lambda_params, errors_gn_std, label=\"G-N error std\", linestyle=\"--\")\n",
    "\n",
    "plt.loglog(lambda_params, errors_gd_mean, label=\"mean GD error\")\n",
    "# plt.loglog(lambda_params, errors_gd_std, label=\"GD error std\", linestyle=\"--\")\n",
    "\n",
    "plt.legend()\n",
    "plt.xlabel(\"alpha\")\n",
    "plt.ylabel(\"error\")\n",
    "plt.show()"
   ]
  },
  {
   "attachments": {},
   "cell_type": "markdown",
   "metadata": {},
   "source": [
    "## Test number of iterations"
   ]
  },
  {
   "cell_type": "code",
   "execution_count": 45,
   "metadata": {},
   "outputs": [
    {
     "name": "stdout",
     "output_type": "stream",
     "text": [
      "max_iter: 1 (1/5)\n",
      "max_iter: 10 (2/5)\n",
      "max_iter: 100 (3/5)\n",
      "max_iter: 1000 (4/5)\n",
      "max_iter: 10000 (5/5)\n"
     ]
    },
    {
     "name": "stderr",
     "output_type": "stream",
     "text": [
      "c:\\Users\\matip\\Documents\\UW\\ml-numerki\\project\\lib\\functions.py:43: RuntimeWarning: overflow encountered in exp\n",
      "  return self.F(x)\n",
      "c:\\Users\\matip\\Documents\\UW\\ml-numerki\\project\\lib\\functions.py:30: RuntimeWarning: overflow encountered in exp\n",
      "  DF = lambda x: DF_old(x).reshape(1, M)\n"
     ]
    },
    {
     "name": "stdout",
     "output_type": "stream",
     "text": [
      "Least squares failed in 6640-th iteration. Returning current point.\n"
     ]
    }
   ],
   "source": [
    "max_iters = [10**i for i in range(0, 5)]\n",
    "p0s = [p0]\n",
    "alpha_gd = 1e-10\n",
    "alpha_gn = 1e-2\n",
    "lambda0 = 1\n",
    "lambda_change = 2\n",
    "\n",
    "errors_levenberg_marquardt_const_param = []\n",
    "errors_levenberg_marquardt_modifying_param = []\n",
    "errors_gauss_newton = []\n",
    "errors_gradient_descent = []\n",
    "\n",
    "for i, max_iter in enumerate(max_iters):\n",
    "    print(f\"max_iter: {max_iter} ({i + 1}/{len(max_iters)})\")\n",
    "    optimizer = LevenbergMarquardt(\n",
    "        R=F, lambda_param_fun=LevenbergMarquardt.LambdaParamConstant(lambda0=lambda0)\n",
    "    )\n",
    "\n",
    "    errs = []\n",
    "    for p0 in p0s:\n",
    "        p, err = optimizer.optimize(p0, max_iter)\n",
    "        errs.append(err)\n",
    "    errors_levenberg_marquardt_const_param.append(errs)\n",
    "\n",
    "    optimizer = LevenbergMarquardt(\n",
    "        R=F, lambda_param_fun=LevenbergMarquardt.LambdaParamDefaultModifier(lambda0=lambda0, lambda_change=lambda_change)\n",
    "    )\n",
    "\n",
    "    errs = []\n",
    "    for p0 in p0s:\n",
    "        p, err = optimizer.optimize(p0, max_iter)\n",
    "        errs.append(err)\n",
    "    errors_levenberg_marquardt_modifying_param.append(errs)\n",
    "\n",
    "    errs = []\n",
    "    for p0 in p0s:\n",
    "        p, err = gauss_newton(R=F, p0=p0, alpha=alpha_gn, max_iter=max_iter)\n",
    "        errs.append(err)\n",
    "    errors_gauss_newton.append(errs)\n",
    "\n",
    "    errs = []\n",
    "    for p0 in p0s:\n",
    "        p, err = gradient_descent(R=F, p0=p0, alpha=alpha_gd, max_iter=max_iter)\n",
    "        errs.append(err)\n",
    "    errors_gradient_descent.append(errs)"
   ]
  },
  {
   "cell_type": "code",
   "execution_count": 46,
   "metadata": {},
   "outputs": [
    {
     "name": "stderr",
     "output_type": "stream",
     "text": [
      "c:\\Python310\\lib\\site-packages\\numpy\\core\\_methods.py:236: RuntimeWarning: invalid value encountered in subtract\n",
      "  x = asanyarray(arr - arrmean)\n"
     ]
    }
   ],
   "source": [
    "errors_mean_lm_const = np.mean(errors_levenberg_marquardt_const_param, axis=1)\n",
    "errors_std_lm_const = np.std(errors_levenberg_marquardt_const_param, axis=1)\n",
    "errors_mean_lm_const = remove_nans_infs_and_zeros(errors_mean_lm_const)\n",
    "errors_std_lm_const = remove_nans_infs_and_zeros(errors_std_lm_const)\n",
    "\n",
    "errors_mean_lm_mod = np.mean(errors_levenberg_marquardt_modifying_param, axis=1)\n",
    "errors_std_lm_mod = np.std(errors_levenberg_marquardt_modifying_param, axis=1)\n",
    "errors_mean_lm_mod = remove_nans_infs_and_zeros(errors_mean_lm_mod)\n",
    "errors_std_lm_mod = remove_nans_infs_and_zeros(errors_std_lm_mod)\n",
    "\n",
    "errors_gn_mean = np.mean(errors_gauss_newton, axis=1)\n",
    "errors_gn_std = np.std(errors_gauss_newton, axis=1)\n",
    "errors_gn_mean = remove_nans_infs_and_zeros(errors_gn_mean)\n",
    "errors_gn_std = remove_nans_infs_and_zeros(errors_gn_std)\n",
    "\n",
    "errors_gd_mean = np.mean(errors_gradient_descent, axis=1)\n",
    "errors_gd_std = np.std(errors_gradient_descent, axis=1)\n",
    "errors_gd_mean = remove_nans_infs_and_zeros(errors_gd_mean)\n",
    "errors_gd_std = remove_nans_infs_and_zeros(errors_gd_std)"
   ]
  },
  {
   "cell_type": "code",
   "execution_count": 47,
   "metadata": {},
   "outputs": [
    {
     "data": {
      "image/png": "[encoded data removed]",
      "text/plain": [
       "<Figure size 640x480 with 1 Axes>"
      ]
     },
     "metadata": {},
     "output_type": "display_data"
    }
   ],
   "source": [
    "plt.loglog(max_iters, errors_mean_lm_const, label=\"mean L-M (const) error\")\n",
    "# plt.loglog(lambda_params, errors_std_lm_const, label=\"L-M (const) error std\", linestyle=\"--\")\n",
    "\n",
    "plt.loglog(max_iters, errors_mean_lm_mod, label=\"mean L-M (modyfing) error\")\n",
    "# plt.loglog(lambda_params, errors_std_lm_mod, label=\"L-M (modyfing) error std\", linestyle=\"--\")\n",
    "\n",
    "plt.legend()\n",
    "plt.xlabel(\"iterations\")\n",
    "plt.ylabel(\"error\")\n",
    "plt.show()"
   ]
  },
  {
   "cell_type": "code",
   "execution_count": 48,
   "metadata": {},
   "outputs": [
    {
     "data": {
      "image/png": "[encoded data removed]",
      "text/plain": [
       "<Figure size 640x480 with 1 Axes>"
      ]
     },
     "metadata": {},
     "output_type": "display_data"
    }
   ],
   "source": [
    "plt.loglog(max_iters, errors_gn_mean, label=\"mean G-N error\")\n",
    "# plt.loglog(lambda_params, errors_gn_std, label=\"G-N error std\", linestyle=\"--\")\n",
    "\n",
    "plt.loglog(max_iters, errors_gd_mean, label=\"mean GD error\")\n",
    "# plt.loglog(lambda_params, errors_gd_std, label=\"GD error std\", linestyle=\"--\")\n",
    "\n",
    "plt.legend()\n",
    "plt.xlabel(\"iteration\")\n",
    "plt.ylabel(\"error\")\n",
    "plt.show()"
   ]
  }
 ],
 "metadata": {
  "kernelspec": {
   "display_name": "Python 3",
   "language": "python",
   "name": "python3"
  },
  "language_info": {
   "codemirror_mode": {
    "name": "ipython",
    "version": 3
   },
   "file_extension": ".py",
   "mimetype": "text/x-python",
   "name": "python",
   "nbconvert_exporter": "python",
   "pygments_lexer": "ipython3",
   "version": "3.10.4"
  },
  "orig_nbformat": 4
 },
 "nbformat": 4,
 "nbformat_minor": 2
}
