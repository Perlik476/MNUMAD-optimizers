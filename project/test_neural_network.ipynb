{
 "cells": [
  {
   "cell_type": "code",
   "execution_count": 376,
   "metadata": {},
   "outputs": [
    {
     "name": "stdout",
     "output_type": "stream",
     "text": [
      "The autoreload extension is already loaded. To reload it, use:\n",
      "  %reload_ext autoreload\n"
     ]
    }
   ],
   "source": [
    "%load_ext autoreload\n",
    "%autoreload 2"
   ]
  },
  {
   "cell_type": "code",
   "execution_count": 377,
   "metadata": {},
   "outputs": [],
   "source": [
    "from lib.optimizers import *\n",
    "from lib.functions import *\n",
    "import numpy as np\n",
    "import matplotlib.pyplot as plt"
   ]
  },
  {
   "attachments": {},
   "cell_type": "markdown",
   "metadata": {},
   "source": [
    "### Helper functions"
   ]
  },
  {
   "cell_type": "code",
   "execution_count": 378,
   "metadata": {},
   "outputs": [],
   "source": [
    "_infty = 1e16\n",
    "_zero = 1e-32\n",
    "\n",
    "def remove_nans_infs_and_zeros(arr):\n",
    "    arr = np.array(arr)\n",
    "    arr[np.isnan(arr)] = _infty\n",
    "    arr[np.isinf(arr)] = _infty\n",
    "    arr[arr > _infty] = _infty\n",
    "    arr[arr == 0] = _zero\n",
    "    arr[arr < _zero] = _zero\n",
    "    return arr"
   ]
  },
  {
   "attachments": {},
   "cell_type": "markdown",
   "metadata": {},
   "source": [
    "# A neural network"
   ]
  },
  {
   "cell_type": "code",
   "execution_count": 379,
   "metadata": {},
   "outputs": [],
   "source": [
    "def sigmoid(z):\n",
    "    return 1 / (1 + np.exp(-z))"
   ]
  },
  {
   "cell_type": "code",
   "execution_count": 380,
   "metadata": {},
   "outputs": [],
   "source": [
    "def F(x, p, layers):\n",
    "    assert x.shape[0] == layers[0]\n",
    "    \n",
    "    W = []\n",
    "    b = []\n",
    "    index = 0\n",
    "    for i in range(len(layers) - 1):\n",
    "        W.append(p[index:index + layers[i] * layers[i + 1]].reshape((layers[i + 1], layers[i])))\n",
    "        index += layers[i] * layers[i + 1]\n",
    "    for i in range(len(layers) - 1):\n",
    "        b.append(p[index:index + layers[i + 1]])\n",
    "        index += layers[i + 1]\n",
    "    \n",
    "    a = x\n",
    "    for i in range(len(layers) - 1):\n",
    "        a = sigmoid(W[i] @ a + b[i])\n",
    "    y = a\n",
    "    \n",
    "    assert y.shape[0] == layers[-1]\n",
    "    \n",
    "    return y"
   ]
  },
  {
   "cell_type": "code",
   "execution_count": 381,
   "metadata": {},
   "outputs": [],
   "source": [
    "def f(p, layers, X, Y):\n",
    "    res = np.array([np.linalg.norm(F(x, p, layers) - y) for x, y in zip(X, Y)])\n",
    "    return res"
   ]
  },
  {
   "cell_type": "code",
   "execution_count": 382,
   "metadata": {},
   "outputs": [],
   "source": [
    "def grad_C(p, layers, x, y):\n",
    "    assert x.shape[0] == layers[0]\n",
    "    assert y.shape[0] == layers[-1]\n",
    "    \n",
    "    W = []\n",
    "    b = []\n",
    "    index = 0\n",
    "    for i in range(len(layers) - 1):\n",
    "        W.append(p[index:index + layers[i] * layers[i + 1]].reshape((layers[i + 1], layers[i])))\n",
    "        index += layers[i] * layers[i + 1]\n",
    "    for i in range(len(layers) - 1):\n",
    "        b.append(p[index:index + layers[i + 1]])\n",
    "        index += layers[i + 1]\n",
    "    \n",
    "    a = [x]\n",
    "    z = []\n",
    "    for i in range(len(layers) - 1):\n",
    "        z.append(W[i] @ a[i] + b[i])\n",
    "        a.append(sigmoid(z[i]))\n",
    "    \n",
    "    delta = [sigmoid(z[-1]) * (1 - sigmoid(z[-1])) * (a[-1] - y)]\n",
    "    for i in range(len(layers) - 2, 0, -1):\n",
    "        delta.append(sigmoid(z[i - 1]) * (1 - sigmoid(z[i - 1])) * (W[i].T @ delta[-1]))\n",
    "    delta = delta[::-1]\n",
    "    \n",
    "    grad_W = []\n",
    "    for i in range(len(layers) - 1):\n",
    "        grad_W.append(delta[i].reshape((layers[i + 1], 1)) @ a[i].reshape((1, layers[i])))\n",
    "    \n",
    "    grad_b = delta\n",
    "    \n",
    "    grad = np.concatenate(([grad_W[i].flatten() for i in range(len(grad_W))] + [grad_b[i] for i in range(len(grad_b))]))\n",
    "    \n",
    "    assert grad.shape == p.shape\n",
    "    \n",
    "    return grad"
   ]
  },
  {
   "attachments": {},
   "cell_type": "markdown",
   "metadata": {},
   "source": [
    "# Data\n",
    "\n",
    "$X_i$ - random 2 dimentional vector with entries from -50 to 50\n",
    "\n",
    "$Y_i$ - sum of entries of $X$ is greater than or equal 0"
   ]
  },
  {
   "cell_type": "code",
   "execution_count": 383,
   "metadata": {},
   "outputs": [
    {
     "data": {
      "text/plain": [
       "(array([[-27.87373148, -35.87360951],\n",
       "        [-40.27400729,  48.40422414],\n",
       "        [-23.96590724,   3.70225214],\n",
       "        [ -5.20738281, -40.04309109],\n",
       "        [-14.76883388,  -3.0750826 ]]),\n",
       " array([[0., 1.],\n",
       "        [1., 0.],\n",
       "        [0., 1.],\n",
       "        [0., 1.],\n",
       "        [0., 1.]]))"
      ]
     },
     "execution_count": 383,
     "metadata": {},
     "output_type": "execute_result"
    }
   ],
   "source": [
    "num_samples = 300\n",
    "X = 100 * np.random.rand(num_samples, 2) - 50\n",
    "Y = np.vstack(((X[:, 0] + X[:, 1] >= 0).astype(float), (X[:, 0] + X[:, 1] < 0).astype(float))).T\n",
    "X[:5, :], Y[:5, :]"
   ]
  },
  {
   "attachments": {},
   "cell_type": "markdown",
   "metadata": {},
   "source": [
    "## The function"
   ]
  },
  {
   "cell_type": "code",
   "execution_count": 384,
   "metadata": {},
   "outputs": [
    {
     "data": {
      "text/plain": [
       "(42, 300)"
      ]
     },
     "execution_count": 384,
     "metadata": {},
     "output_type": "execute_result"
    }
   ],
   "source": [
    "layers = [2, 4, 4, 2]\n",
    "\n",
    "def r(p):\n",
    "    return f(p, layers, X, Y)\n",
    "\n",
    "def Dr(p):\n",
    "    return np.vstack([grad_C(p, layers, x, y) for x, y in zip(X, Y)])\n",
    "\n",
    "N = X.shape[0]\n",
    "M = 0\n",
    "for i in range(len(layers) - 1):\n",
    "    M += layers[i] * layers[i + 1]\n",
    "for i in range(len(layers) - 1):\n",
    "    M += layers[i + 1]\n",
    "M, N"
   ]
  },
  {
   "cell_type": "code",
   "execution_count": 385,
   "metadata": {},
   "outputs": [],
   "source": [
    "R = Function(F=r, DF=Dr, M=M, N=N)"
   ]
  },
  {
   "attachments": {},
   "cell_type": "markdown",
   "metadata": {},
   "source": [
    "# Test different methods"
   ]
  },
  {
   "cell_type": "code",
   "execution_count": 404,
   "metadata": {},
   "outputs": [],
   "source": [
    "np.random.seed(0)\n",
    "p0 = np.random.randn(M)\n",
    "max_iter = 100\n",
    "alpha_gn = 1e1\n",
    "max_iter_gd = 100\n",
    "alpha_gd = 1e-3"
   ]
  },
  {
   "cell_type": "code",
   "execution_count": 387,
   "metadata": {},
   "outputs": [
    {
     "data": {
      "text/plain": [
       "13.395177280469479"
      ]
     },
     "execution_count": 387,
     "metadata": {},
     "output_type": "execute_result"
    }
   ],
   "source": [
    "np.linalg.norm(R(p0))"
   ]
  },
  {
   "attachments": {},
   "cell_type": "markdown",
   "metadata": {},
   "source": [
    "## Stochastic gradient"
   ]
  },
  {
   "cell_type": "code",
   "execution_count": 388,
   "metadata": {},
   "outputs": [
    {
     "name": "stdout",
     "output_type": "stream",
     "text": [
      "|p-p0|=1.3021012046780314\n",
      "err=11.490964951765832\n"
     ]
    }
   ],
   "source": [
    "p = p0\n",
    "\n",
    "for epoch in range(max_iter_gd):\n",
    "    i = np.random.randint(0, len(X))\n",
    "    x, y = X[i,:], Y[i]\n",
    "    p = p - alpha_gd * N * grad_C(p, layers, x, y)\n",
    "    \n",
    "err = np.linalg.norm(R(p))\n",
    "print(f\"|p-p0|={np.linalg.norm(p-p0)}\\n{err=}\")"
   ]
  },
  {
   "attachments": {},
   "cell_type": "markdown",
   "metadata": {},
   "source": [
    "## Gradient descent"
   ]
  },
  {
   "cell_type": "code",
   "execution_count": 389,
   "metadata": {},
   "outputs": [
    {
     "name": "stdout",
     "output_type": "stream",
     "text": [
      "|p-p0|=1.0554464822151046\n",
      "err=11.763434704233353\n"
     ]
    }
   ],
   "source": [
    "p, err = gradient_descent(R, p0, alpha_gd, max_iter_gd)\n",
    "print(f\"|p-p0|={np.linalg.norm(p-p0)}\\n{err=}\")"
   ]
  },
  {
   "attachments": {},
   "cell_type": "markdown",
   "metadata": {},
   "source": [
    "## Gauss-Newton"
   ]
  },
  {
   "cell_type": "code",
   "execution_count": 390,
   "metadata": {},
   "outputs": [
    {
     "name": "stderr",
     "output_type": "stream",
     "text": [
      "<ipython-input-379-dc64dee5606b>:2: RuntimeWarning: overflow encountered in exp\n",
      "  return 1 / (1 + np.exp(-z))\n"
     ]
    },
    {
     "name": "stdout",
     "output_type": "stream",
     "text": [
      "|p-p0|=8.21748610560456e+59\n",
      "err=17.262676501632072\n"
     ]
    }
   ],
   "source": [
    "p, err = gauss_newton(R=R, p0=p0, max_iter=max_iter, alpha=alpha_gn, step_type=\"least_squares\")\n",
    "print(f\"|p-p0|={np.linalg.norm(p-p0)}\\n{err=}\")"
   ]
  },
  {
   "attachments": {},
   "cell_type": "markdown",
   "metadata": {},
   "source": [
    "## Levenberg-Marquardt"
   ]
  },
  {
   "attachments": {},
   "cell_type": "markdown",
   "metadata": {},
   "source": [
    "#### 1. Constant $\\lambda_k$ sequence"
   ]
  },
  {
   "cell_type": "code",
   "execution_count": 391,
   "metadata": {},
   "outputs": [],
   "source": [
    "lambda_param = 1.\n",
    "optimizer = LevenbergMarquardt(\n",
    "    R=R, lambda_param_fun=LevenbergMarquardt.LambdaParamConstant(lambda0=lambda_param)\n",
    ")"
   ]
  },
  {
   "cell_type": "code",
   "execution_count": 392,
   "metadata": {},
   "outputs": [
    {
     "name": "stdout",
     "output_type": "stream",
     "text": [
      "|p-p0|=11.747235804817116\n",
      "err=2.681687949542925\n"
     ]
    }
   ],
   "source": [
    "p, err = optimizer.optimize(p0, max_iter, step_type=\"cholesky\")\n",
    "print(f\"|p-p0|={np.linalg.norm(p-p0)}\\n{err=}\")"
   ]
  },
  {
   "cell_type": "code",
   "execution_count": 393,
   "metadata": {},
   "outputs": [
    {
     "name": "stdout",
     "output_type": "stream",
     "text": [
      "|p-p0|=11.883948541304921\n",
      "err=2.5278194707723634\n"
     ]
    }
   ],
   "source": [
    "p, err = optimizer.optimize(p0, max_iter, step_type=\"cgnr\", step_max_iter=6, step_tol=1e-6)\n",
    "print(f\"|p-p0|={np.linalg.norm(p-p0)}\\n{err=}\")"
   ]
  },
  {
   "cell_type": "code",
   "execution_count": 394,
   "metadata": {},
   "outputs": [
    {
     "name": "stdout",
     "output_type": "stream",
     "text": [
      "|p-p0|=11.196195678962933\n",
      "err=1.7502892872436089\n"
     ]
    }
   ],
   "source": [
    "p, err = optimizer.optimize(p0, max_iter, step_type=\"svd\")\n",
    "print(f\"|p-p0|={np.linalg.norm(p-p0)}\\n{err=}\")"
   ]
  },
  {
   "attachments": {},
   "cell_type": "markdown",
   "metadata": {},
   "source": [
    "#### 2. Sequence $\\lambda_k$ decrasing when error is decreasing, and increasing otherwise"
   ]
  },
  {
   "cell_type": "code",
   "execution_count": 395,
   "metadata": {},
   "outputs": [],
   "source": [
    "lambda_param = 1.\n",
    "lambda_change = 2.\n",
    "optimizer = LevenbergMarquardt(\n",
    "    R=R, lambda_param_fun=LevenbergMarquardt.LambdaParamDefaultModifier(lambda0=lambda_param, lambda_change=lambda_change)\n",
    ")"
   ]
  },
  {
   "cell_type": "code",
   "execution_count": 396,
   "metadata": {},
   "outputs": [
    {
     "name": "stdout",
     "output_type": "stream",
     "text": [
      "|p-p0|=8.142474103313077\n",
      "err=1.2191924420556386\n"
     ]
    }
   ],
   "source": [
    "p, err = optimizer.optimize(p0, max_iter, step_type=\"cgnr\", step_max_iter=6, step_tol=1e-6)\n",
    "print(f\"|p-p0|={np.linalg.norm(p-p0)}\\n{err=}\")"
   ]
  },
  {
   "cell_type": "code",
   "execution_count": 397,
   "metadata": {},
   "outputs": [
    {
     "name": "stdout",
     "output_type": "stream",
     "text": [
      "|p-p0|=8.822405123912644\n",
      "err=1.4807281391223037\n"
     ]
    }
   ],
   "source": [
    "p, err = optimizer.optimize(p0, max_iter, step_type=\"svd\")\n",
    "print(f\"|p-p0|={np.linalg.norm(p-p0)}\\n{err=}\")"
   ]
  },
  {
   "attachments": {},
   "cell_type": "markdown",
   "metadata": {},
   "source": [
    "# Tests"
   ]
  },
  {
   "attachments": {},
   "cell_type": "markdown",
   "metadata": {},
   "source": [
    "# Test lambda/alpha parameters"
   ]
  },
  {
   "cell_type": "code",
   "execution_count": 398,
   "metadata": {},
   "outputs": [
    {
     "name": "stdout",
     "output_type": "stream",
     "text": [
      "lambda/alpha param: 1e-12 (1/8)\n"
     ]
    },
    {
     "name": "stderr",
     "output_type": "stream",
     "text": [
      "<ipython-input-379-dc64dee5606b>:2: RuntimeWarning: overflow encountered in exp\n",
      "  return 1 / (1 + np.exp(-z))\n"
     ]
    },
    {
     "name": "stdout",
     "output_type": "stream",
     "text": [
      "lambda/alpha param: 1e-10 (2/8)\n",
      "lambda/alpha param: 1e-08 (3/8)\n",
      "lambda/alpha param: 1e-06 (4/8)\n",
      "lambda/alpha param: 0.0001 (5/8)\n",
      "lambda/alpha param: 0.01 (6/8)\n",
      "lambda/alpha param: 1.0 (7/8)\n",
      "lambda/alpha param: 100.0 (8/8)\n"
     ]
    }
   ],
   "source": [
    "lambda_params = [float(10**(2*i)) for i in range(-6, 2)]\n",
    "np.random.seed(42)\n",
    "p0s = [4**i * np.random.randn(M) for i in range(3)]\n",
    "max_iter = 10\n",
    "max_iter_gd = 100\n",
    "step_max_iter = 10\n",
    "step_tol = 1e-6\n",
    "\n",
    "errors_levenberg_marquardt_const_param = []\n",
    "errors_levenberg_marquardt_modifying_param = []\n",
    "errors_gauss_newton = []\n",
    "errors_gradient_descent = []\n",
    "\n",
    "for i, lambda_param in enumerate(lambda_params):\n",
    "    print(f\"lambda/alpha param: {lambda_param} ({i + 1}/{len(lambda_params)})\")\n",
    "    optimizer = LevenbergMarquardt(\n",
    "        R=R, lambda_param_fun=LevenbergMarquardt.LambdaParamConstant(lambda0=lambda_param)\n",
    "    )\n",
    "\n",
    "    errs = []\n",
    "    for p0 in p0s:\n",
    "        p, err = optimizer.optimize(p0, max_iter, step_type=\"cgnr\", step_max_iter=step_max_iter, step_tol=step_tol)\n",
    "        errs.append(err)\n",
    "    errors_levenberg_marquardt_const_param.append(errs)\n",
    "\n",
    "    optimizer = LevenbergMarquardt(\n",
    "        R=R, lambda_param_fun=LevenbergMarquardt.LambdaParamDefaultModifier(lambda0=lambda_param, lambda_change=2)\n",
    "    )\n",
    "\n",
    "    errs = []\n",
    "    for p0 in p0s:\n",
    "        p, err = optimizer.optimize(p0, max_iter, step_type=\"cgnr\", step_max_iter=step_max_iter, step_tol=step_tol)\n",
    "        errs.append(err)\n",
    "    errors_levenberg_marquardt_modifying_param.append(errs)\n",
    "\n",
    "    errs = []\n",
    "    for p0 in p0s:\n",
    "        p, err = gauss_newton(R=R, p0=p0, alpha=lambda_param, max_iter=max_iter)\n",
    "        errs.append(err)\n",
    "    errors_gauss_newton.append(errs)\n",
    "\n",
    "    errs = []\n",
    "    for p0 in p0s:\n",
    "        p, err = gradient_descent(R=R, p0=p0, alpha=lambda_param, max_iter=max_iter_gd)\n",
    "        errs.append(err)\n",
    "    errors_gradient_descent.append(errs)"
   ]
  },
  {
   "cell_type": "code",
   "execution_count": 399,
   "metadata": {},
   "outputs": [],
   "source": [
    "errors_mean_lm_const = np.mean(errors_levenberg_marquardt_const_param, axis=1)\n",
    "errors_mean_lm_const = remove_nans_infs_and_zeros(errors_mean_lm_const)\n",
    "\n",
    "errors_mean_lm_mod = np.mean(errors_levenberg_marquardt_modifying_param, axis=1)\n",
    "errors_mean_lm_mod = remove_nans_infs_and_zeros(errors_mean_lm_mod)\n",
    "\n",
    "errors_gn_mean = np.mean(errors_gauss_newton, axis=1)\n",
    "errors_gn_mean = remove_nans_infs_and_zeros(errors_gn_mean)\n",
    "\n",
    "errors_gd_mean = np.mean(errors_gradient_descent, axis=1)\n",
    "errors_gd_mean = remove_nans_infs_and_zeros(errors_gd_mean)"
   ]
  },
  {
   "cell_type": "code",
   "execution_count": 400,
   "metadata": {},
   "outputs": [
    {
     "data": {
      "image/png": "[encoded data removed]",
      "text/plain": [
       "<Figure size 432x288 with 1 Axes>"
      ]
     },
     "metadata": {
      "needs_background": "light"
     },
     "output_type": "display_data"
    }
   ],
   "source": [
    "plt.loglog(lambda_params, errors_mean_lm_const, label=\"L-M (const)\")\n",
    "plt.loglog(lambda_params, errors_mean_lm_mod, label=\"L-M (changing)\")\n",
    "plt.loglog(lambda_params, errors_gn_mean, label=\"G-N\")\n",
    "plt.loglog(lambda_params, errors_gd_mean, label=\"GD\")\n",
    "\n",
    "plt.legend()\n",
    "plt.xlabel(\"lambda / alpha\")\n",
    "plt.ylabel(\"mean error\")\n",
    "plt.title(\"Mean error of multiple runs for different algorithms and lambda/alpha values\")\n",
    "plt.show()"
   ]
  },
  {
   "attachments": {},
   "cell_type": "markdown",
   "metadata": {},
   "source": [
    "# Test number of iterations"
   ]
  },
  {
   "cell_type": "code",
   "execution_count": 401,
   "metadata": {},
   "outputs": [
    {
     "name": "stdout",
     "output_type": "stream",
     "text": [
      "max_iter: 1 (1/6)\n"
     ]
    },
    {
     "name": "stderr",
     "output_type": "stream",
     "text": [
      "<ipython-input-379-dc64dee5606b>:2: RuntimeWarning: overflow encountered in exp\n",
      "  return 1 / (1 + np.exp(-z))\n"
     ]
    },
    {
     "name": "stdout",
     "output_type": "stream",
     "text": [
      "max_iter: 2 (2/6)\n",
      "max_iter: 4 (3/6)\n",
      "max_iter: 8 (4/6)\n",
      "max_iter: 16 (5/6)\n",
      "max_iter: 32 (6/6)\n"
     ]
    }
   ],
   "source": [
    "max_iters = [2**i for i in range(0, 6)]\n",
    "np.random.seed(42)\n",
    "p0s = [4**i * np.random.randn(M) for i in range(3)]\n",
    "alpha_gd = 1e-2\n",
    "alpha_gn = 1e-4\n",
    "lambda0 = 1.\n",
    "lambda_change = 1.1\n",
    "step_max_iter = 10\n",
    "step_tol = 1e-6\n",
    "\n",
    "errors_levenberg_marquardt_const_param = []\n",
    "errors_levenberg_marquardt_modifying_param = []\n",
    "errors_gauss_newton = []\n",
    "errors_gradient_descent = []\n",
    "\n",
    "for i, max_iter in enumerate(max_iters):\n",
    "    print(f\"max_iter: {max_iter} ({i + 1}/{len(max_iters)})\")\n",
    "    optimizer = LevenbergMarquardt(\n",
    "        R=R, lambda_param_fun=LevenbergMarquardt.LambdaParamConstant(lambda0=lambda0)\n",
    "    )\n",
    "\n",
    "    errs = []\n",
    "    for p0 in p0s:\n",
    "        p, err = optimizer.optimize(p0, max_iter, step_type=\"cgnr\", step_max_iter=step_max_iter, step_tol=step_tol)\n",
    "        errs.append(err)\n",
    "    errors_levenberg_marquardt_const_param.append(errs)\n",
    "\n",
    "    optimizer = LevenbergMarquardt(\n",
    "        R=R, lambda_param_fun=LevenbergMarquardt.LambdaParamDefaultModifier(lambda0=lambda0, lambda_change=lambda_change)\n",
    "    )\n",
    "\n",
    "    errs = []\n",
    "    for p0 in p0s:\n",
    "        p, err = optimizer.optimize(p0, max_iter, step_type=\"cgnr\", step_max_iter=step_max_iter, step_tol=step_tol)\n",
    "        errs.append(err)\n",
    "    errors_levenberg_marquardt_modifying_param.append(errs)\n",
    "\n",
    "    errs = []\n",
    "    for p0 in p0s:\n",
    "        p, err = gauss_newton(R=R, p0=p0, alpha=alpha_gn, max_iter=max_iter)\n",
    "        errs.append(err)\n",
    "    errors_gauss_newton.append(errs)\n",
    "\n",
    "    errs = []\n",
    "    for p0 in p0s:\n",
    "        p, err = gradient_descent(R=R, p0=p0, alpha=alpha_gd, max_iter=max_iter)\n",
    "        errs.append(err)\n",
    "    errors_gradient_descent.append(errs)"
   ]
  },
  {
   "cell_type": "code",
   "execution_count": 402,
   "metadata": {},
   "outputs": [],
   "source": [
    "errors_mean_lm_const = np.mean(errors_levenberg_marquardt_const_param, axis=1)\n",
    "errors_mean_lm_const = remove_nans_infs_and_zeros(errors_mean_lm_const)\n",
    "\n",
    "errors_mean_lm_mod = np.mean(errors_levenberg_marquardt_modifying_param, axis=1)\n",
    "errors_mean_lm_mod = remove_nans_infs_and_zeros(errors_mean_lm_mod)\n",
    "\n",
    "errors_gn_mean = np.mean(errors_gauss_newton, axis=1)\n",
    "errors_gn_mean = remove_nans_infs_and_zeros(errors_gn_mean)\n",
    "\n",
    "errors_gd_mean = np.mean(errors_gradient_descent, axis=1)\n",
    "errors_gd_mean = remove_nans_infs_and_zeros(errors_gd_mean)"
   ]
  },
  {
   "cell_type": "code",
   "execution_count": 403,
   "metadata": {},
   "outputs": [
    {
     "data": {
      "image/png": "[encoded data removed]",
      "text/plain": [
       "<Figure size 432x288 with 1 Axes>"
      ]
     },
     "metadata": {
      "needs_background": "light"
     },
     "output_type": "display_data"
    }
   ],
   "source": [
    "plt.loglog(max_iters, errors_mean_lm_const, label=\"L-M (const)\")\n",
    "plt.loglog(max_iters, errors_mean_lm_mod, label=\"L-M (changing)\")\n",
    "plt.loglog(max_iters, errors_gn_mean, label=\"G-N\")\n",
    "plt.loglog(max_iters, errors_gd_mean, label=\"GD\")\n",
    "\n",
    "plt.legend()\n",
    "plt.xlabel(\"max iterations\")\n",
    "plt.ylabel(\"mean error\")\n",
    "plt.title(\"Mean error of multiple runs for different algorithms and max iterations\")\n",
    "plt.show()"
   ]
  }
 ],
 "metadata": {
  "kernelspec": {
   "display_name": "base",
   "language": "python",
   "name": "python3"
  },
  "language_info": {
   "codemirror_mode": {
    "name": "ipython",
    "version": 3
   },
   "file_extension": ".py",
   "mimetype": "text/x-python",
   "name": "python",
   "nbconvert_exporter": "python",
   "pygments_lexer": "ipython3",
   "version": "3.10.9"
  },
  "orig_nbformat": 4
 },
 "nbformat": 4,
 "nbformat_minor": 2
}
