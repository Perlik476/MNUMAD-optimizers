{
 "cells": [
  {
   "cell_type": "code",
   "execution_count": 351,
   "metadata": {},
   "outputs": [
    {
     "name": "stdout",
     "output_type": "stream",
     "text": [
      "The autoreload extension is already loaded. To reload it, use:\n",
      "  %reload_ext autoreload\n"
     ]
    }
   ],
   "source": [
    "%load_ext autoreload\n",
    "%autoreload 2"
   ]
  },
  {
   "cell_type": "code",
   "execution_count": 352,
   "metadata": {},
   "outputs": [],
   "source": [
    "from lib.optimizers import *\n",
    "from lib.functions import *\n",
    "import numpy as np\n",
    "import matplotlib.pyplot as plt"
   ]
  },
  {
   "attachments": {},
   "cell_type": "markdown",
   "metadata": {},
   "source": [
    "### Helper functions"
   ]
  },
  {
   "cell_type": "code",
   "execution_count": 353,
   "metadata": {},
   "outputs": [],
   "source": [
    "_infty = 1e16\n",
    "_zero = 1e-32\n",
    "\n",
    "def remove_nans_infs_and_zeros(arr):\n",
    "    arr = np.array(arr)\n",
    "    arr[np.isnan(arr)] = _infty\n",
    "    arr[np.isinf(arr)] = _infty\n",
    "    arr[arr > _infty] = _infty\n",
    "    arr[arr == 0] = _zero\n",
    "    arr[arr < _zero] = _zero\n",
    "    return arr"
   ]
  },
  {
   "attachments": {},
   "cell_type": "markdown",
   "metadata": {},
   "source": [
    "# A neural network"
   ]
  },
  {
   "cell_type": "code",
   "execution_count": 354,
   "metadata": {},
   "outputs": [],
   "source": [
    "def sigmoid(z):\n",
    "    return 1 / (1 + np.exp(-z))"
   ]
  },
  {
   "cell_type": "code",
   "execution_count": 355,
   "metadata": {},
   "outputs": [],
   "source": [
    "def F(x, p):\n",
    "    assert x.shape == (2,)\n",
    "    assert p.shape == (23,)\n",
    "    \n",
    "    W2, W3, W4, b2, b3, b4 = p[:4], p[4:10], p[10:16], p[16:18], p[18:21], p[21:23]\n",
    "    W2 = W2.reshape((2, 2))\n",
    "    W3 = W3.reshape((3, 2))\n",
    "    W4 = W4.reshape((2, 3))\n",
    "    \n",
    "    assert W2.shape == (2, 2)\n",
    "    assert W3.shape == (3, 2)\n",
    "    assert W4.shape == (2, 3)\n",
    "    assert b2.shape == (2,)\n",
    "    assert b3.shape == (3,)\n",
    "    assert b4.shape == (2,)\n",
    "    \n",
    "    a1 = x\n",
    "    a2 = sigmoid(W2 @ a1 + b2)\n",
    "    a3 = sigmoid(W3 @ a2 + b3)\n",
    "    a4 = sigmoid(W4 @ a3 + b4)\n",
    "    y = a4\n",
    "    \n",
    "    assert y.shape == (2,)\n",
    "    \n",
    "    return y"
   ]
  },
  {
   "cell_type": "code",
   "execution_count": 356,
   "metadata": {},
   "outputs": [],
   "source": [
    "def f(p, X, Y):\n",
    "    assert p.shape == (23,)\n",
    "    \n",
    "    res = np.array([np.linalg.norm(F(x, p) - y) for x, y in zip(X, Y)])\n",
    "    return res"
   ]
  },
  {
   "cell_type": "code",
   "execution_count": 357,
   "metadata": {},
   "outputs": [],
   "source": [
    "def grad_C(p, x, y):\n",
    "    assert p.shape == (23,)\n",
    "    assert x.shape == (2,)\n",
    "    assert y.shape == (2,)\n",
    "    \n",
    "    W2, W3, W4, b2, b3, b4 = p[:4], p[4:10], p[10:16], p[16:18], p[18:21], p[21:23]\n",
    "    W2 = W2.reshape((2, 2))\n",
    "    W3 = W3.reshape((3, 2))\n",
    "    W4 = W4.reshape((2, 3))\n",
    "    \n",
    "    assert W2.shape == (2, 2)\n",
    "    assert W3.shape == (3, 2)\n",
    "    assert W4.shape == (2, 3)\n",
    "    assert b2.shape == (2,)\n",
    "    assert b3.shape == (3,)\n",
    "    assert b4.shape == (2,)\n",
    "    \n",
    "    a1 = x\n",
    "    z2 = W2 @ a1 + b2\n",
    "    a2 = sigmoid(z2)\n",
    "    z3 = W3 @ a2 + b3\n",
    "    a3 = sigmoid(z3)\n",
    "    z4 = W4 @ a3 + b4\n",
    "    a4 = sigmoid(z4)\n",
    "    \n",
    "    assert a4.shape == (2,)\n",
    "    \n",
    "    delta_4 = sigmoid(z4) * (1 - sigmoid(z4)) * (a4 - y)\n",
    "    delta_3 = sigmoid(z3) * (1 - sigmoid(z3)) * (W4.T @ delta_4)\n",
    "    delta_2 = sigmoid(z2) * (1 - sigmoid(z2)) * (W3.T @ delta_3)\n",
    "    \n",
    "    assert delta_4.shape == (2,)\n",
    "    assert delta_3.shape == (3,)\n",
    "    assert delta_2.shape == (2,)\n",
    "    \n",
    "    grad_W2 = delta_2.reshape((2, 1)) @ a1.reshape((1, 2))\n",
    "    grad_W3 = delta_3.reshape((3, 1)) @ a2.reshape((1, 2))\n",
    "    grad_W4 = delta_4.reshape((2, 1)) @ a3.reshape((1, 3))\n",
    "    \n",
    "    assert grad_W2.shape == (2, 2)\n",
    "    assert grad_W3.shape == (3, 2)\n",
    "    assert grad_W4.shape == (2, 3)\n",
    "    \n",
    "    grad_b2 = delta_2\n",
    "    grad_b3 = delta_3\n",
    "    grad_b4 = delta_4\n",
    "    \n",
    "    assert grad_b2.shape == (2,)\n",
    "    assert grad_b3.shape == (3,)\n",
    "    assert grad_b4.shape == (2,)\n",
    "    \n",
    "    grad = np.concatenate((grad_W2.flatten(), grad_W3.flatten(), grad_W4.flatten(), grad_b2, grad_b3, grad_b4))\n",
    "    \n",
    "    assert grad.shape == (23,)\n",
    "    \n",
    "    return grad"
   ]
  },
  {
   "attachments": {},
   "cell_type": "markdown",
   "metadata": {},
   "source": [
    "# Data"
   ]
  },
  {
   "cell_type": "code",
   "execution_count": 358,
   "metadata": {},
   "outputs": [
    {
     "data": {
      "text/plain": [
       "(array([[ 0,  0],\n",
       "        [ 1,  1],\n",
       "        [ 2,  4],\n",
       "        [ 3,  9],\n",
       "        [ 4, 16]]),\n",
       " array([[ 0,  0],\n",
       "        [ 1,  1],\n",
       "        [ 2,  4],\n",
       "        [ 3,  9],\n",
       "        [ 4, 16]]))"
      ]
     },
     "execution_count": 358,
     "metadata": {},
     "output_type": "execute_result"
    }
   ],
   "source": [
    "num_samples = 30\n",
    "X = np.array([[x, x**2] for x in range(num_samples)])\n",
    "Y = np.vstack((X[:, 0], X[:, 1])).T\n",
    "X[:5, :], Y[:5, :]"
   ]
  },
  {
   "cell_type": "code",
   "execution_count": 359,
   "metadata": {},
   "outputs": [
    {
     "data": {
      "text/plain": [
       "array([3.10020627e-01, 1.15715249e+00, 4.20760546e+00, 9.22806184e+00,\n",
       "       1.62390497e+01, 2.52458023e+01, 3.62503554e+01, 4.92536285e+01,\n",
       "       6.42560932e+01, 8.12580151e+01, 1.00259555e+02, 1.21260817e+02,\n",
       "       1.44261870e+02, 1.69262761e+02, 1.96263525e+02, 2.25264188e+02,\n",
       "       2.56264768e+02, 2.89265280e+02, 3.24265735e+02, 3.61266143e+02,\n",
       "       4.00266510e+02, 4.41266841e+02, 4.84267143e+02, 5.29267418e+02,\n",
       "       5.76267671e+02, 6.25267903e+02, 6.76268118e+02, 7.29268316e+02,\n",
       "       7.84268501e+02, 8.41268673e+02])"
      ]
     },
     "execution_count": 359,
     "metadata": {},
     "output_type": "execute_result"
    }
   ],
   "source": [
    "f(np.random.randn(23), X, Y)"
   ]
  },
  {
   "cell_type": "code",
   "execution_count": 360,
   "metadata": {},
   "outputs": [
    {
     "data": {
      "text/plain": [
       "(23, 30)"
      ]
     },
     "execution_count": 360,
     "metadata": {},
     "output_type": "execute_result"
    }
   ],
   "source": [
    "def r(p):\n",
    "    return f(p, X, Y)\n",
    "\n",
    "def Dr(p):\n",
    "    return np.vstack([grad_C(p, x, y) for x, y in zip(X, Y)])\n",
    "\n",
    "N = X.shape[0]\n",
    "M = 23\n",
    "M, N"
   ]
  },
  {
   "cell_type": "code",
   "execution_count": 361,
   "metadata": {},
   "outputs": [],
   "source": [
    "R = Function(F=r, DF=Dr, M=23, N=N)"
   ]
  },
  {
   "attachments": {},
   "cell_type": "markdown",
   "metadata": {},
   "source": [
    "# Test different methods"
   ]
  },
  {
   "cell_type": "code",
   "execution_count": 362,
   "metadata": {},
   "outputs": [
    {
     "data": {
      "text/plain": [
       "array([ 0.36783034,  0.08343855,  0.20408098,  0.46725853,  0.38941276,\n",
       "       -0.20377652,  0.19810713, -0.03156016, -0.02152262,  0.08561571,\n",
       "        0.03003516,  0.30323699,  0.15868734,  0.02537099,  0.09255188,\n",
       "        0.06957591,  0.31153702, -0.04277846,  0.06527913, -0.17809127,\n",
       "       -0.53233518,  0.1362889 ,  0.18024741])"
      ]
     },
     "execution_count": 362,
     "metadata": {},
     "output_type": "execute_result"
    }
   ],
   "source": [
    "np.random.seed(0)\n",
    "p0 = 1 / np.sqrt(M) * np.random.randn(M)\n",
    "max_iter = 1000\n",
    "alpha_gn = 1e1\n",
    "max_iter_gd = 10000\n",
    "alpha_gd = 1e3\n",
    "p0"
   ]
  },
  {
   "cell_type": "code",
   "execution_count": 363,
   "metadata": {},
   "outputs": [
    {
     "data": {
      "text/plain": [
       "2112.431985653707"
      ]
     },
     "execution_count": 363,
     "metadata": {},
     "output_type": "execute_result"
    }
   ],
   "source": [
    "np.linalg.norm(R(p0))"
   ]
  },
  {
   "attachments": {},
   "cell_type": "markdown",
   "metadata": {},
   "source": [
    "## Stochastic gradient"
   ]
  },
  {
   "cell_type": "code",
   "execution_count": 364,
   "metadata": {},
   "outputs": [
    {
     "name": "stdout",
     "output_type": "stream",
     "text": [
      "p=array([ 3.67830341e-01,  8.34385458e-02,  2.04080977e-01,  4.67258532e-01,\n",
      "        8.50769018e+02,  8.50175829e+02,  3.41371968e+03,  3.41349001e+03,\n",
      "        2.34160636e+03,  2.34171350e+03,  3.04818188e+03,  2.69460267e+03,\n",
      "        2.08698922e+03,  7.29863970e+04,  6.45136567e+04,  4.99681146e+04,\n",
      "        3.11537022e-01, -4.27784552e-02,  8.50444884e+02,  3.41334348e+03,\n",
      "        2.34109555e+03,  5.42001919e+03,  1.29776388e+05])\n",
      "err=2110.6003885150785\n"
     ]
    }
   ],
   "source": [
    "p = p0\n",
    "\n",
    "for epoch in range(max_iter_gd):\n",
    "    i = np.random.randint(0, len(X))\n",
    "    x, y = X[i,:], Y[i]\n",
    "    p -= alpha_gd * grad_C(p, x, y)\n",
    "    \n",
    "err = np.linalg.norm(f(p, X, Y))\n",
    "print(f\"{p=}\\n{err=}\")"
   ]
  },
  {
   "attachments": {},
   "cell_type": "markdown",
   "metadata": {},
   "source": [
    "## Gradient descent"
   ]
  },
  {
   "cell_type": "code",
   "execution_count": 365,
   "metadata": {},
   "outputs": [
    {
     "name": "stdout",
     "output_type": "stream",
     "text": [
      "p=array([ 3.67830341e-01,  8.34385458e-02,  2.04080977e-01,  4.67258532e-01,\n",
      "        8.50769018e+02,  8.50175829e+02,  3.41371968e+03,  3.41349001e+03,\n",
      "        2.34160636e+03,  2.34171350e+03,  3.04818188e+03,  2.69460267e+03,\n",
      "        2.08698922e+03,  7.29863970e+04,  6.45136567e+04,  4.99681146e+04,\n",
      "        3.11537022e-01, -4.27784552e-02,  8.50444884e+02,  3.41334348e+03,\n",
      "        2.34109555e+03,  5.42001919e+03,  1.29776388e+05])\n",
      "err=2110.6003885150785\n"
     ]
    }
   ],
   "source": [
    "p, err = gradient_descent(R, p0, alpha_gd, max_iter_gd)\n",
    "print(f\"{p=}\\n{err=}\")"
   ]
  },
  {
   "attachments": {},
   "cell_type": "markdown",
   "metadata": {},
   "source": [
    "## Gauss-Newton"
   ]
  },
  {
   "cell_type": "code",
   "execution_count": 366,
   "metadata": {},
   "outputs": [
    {
     "name": "stdout",
     "output_type": "stream",
     "text": [
      "p=array([ 3.67830341e-01,  8.34385458e-02,  2.04080977e-01,  4.67258532e-01,\n",
      "        8.50769018e+02,  8.50175829e+02,  3.41371968e+03,  3.41349001e+03,\n",
      "        2.34160636e+03,  2.34171350e+03,  3.04818188e+03,  2.69460267e+03,\n",
      "        2.08698922e+03,  7.29863970e+04,  6.45136567e+04,  4.99681146e+04,\n",
      "        3.11537022e-01, -4.27784552e-02,  8.50444884e+02,  3.41334348e+03,\n",
      "        2.34109555e+03,  5.42001919e+03,  1.29776388e+05])\n",
      "err=2110.6003885150785\n"
     ]
    }
   ],
   "source": [
    "p, err = gauss_newton(R=R, p0=p0, max_iter=max_iter, alpha=alpha_gn, step_type=\"least_squares\")\n",
    "print(f\"{p=}\\n{err=}\")"
   ]
  },
  {
   "attachments": {},
   "cell_type": "markdown",
   "metadata": {},
   "source": [
    "## Levenberg-Marquardt"
   ]
  },
  {
   "attachments": {},
   "cell_type": "markdown",
   "metadata": {},
   "source": [
    "#### 1. Constant $\\lambda_k$ sequence"
   ]
  },
  {
   "cell_type": "code",
   "execution_count": 367,
   "metadata": {},
   "outputs": [],
   "source": [
    "lambda_param = 1.\n",
    "optimizer = LevenbergMarquardt(\n",
    "    R=R, lambda_param_fun=LevenbergMarquardt.LambdaParamConstant(lambda0=lambda_param)\n",
    ")"
   ]
  },
  {
   "cell_type": "code",
   "execution_count": 368,
   "metadata": {},
   "outputs": [
    {
     "name": "stdout",
     "output_type": "stream",
     "text": [
      "p=array([ 3.67830341e-01,  8.34385458e-02,  2.04080977e-01,  4.67258532e-01,\n",
      "        8.50769018e+02,  8.50175829e+02,  3.41371968e+03,  3.41349001e+03,\n",
      "        2.34160636e+03,  2.34171350e+03,  3.04818188e+03,  2.69460267e+03,\n",
      "        2.08698922e+03,  7.29863970e+04,  6.45136567e+04,  4.99681146e+04,\n",
      "        3.11537022e-01, -4.27784552e-02,  8.50444884e+02,  3.41334348e+03,\n",
      "        2.34109555e+03,  5.42001919e+03,  1.29776388e+05])\n",
      "err=2110.6003885150785\n"
     ]
    }
   ],
   "source": [
    "p, err = optimizer.optimize(p0, max_iter, step_type=\"least_squares\")\n",
    "print(f\"{p=}\\n{err=}\")"
   ]
  },
  {
   "cell_type": "code",
   "execution_count": 369,
   "metadata": {},
   "outputs": [
    {
     "name": "stdout",
     "output_type": "stream",
     "text": [
      "p=array([ 3.67830341e-01,  8.34385458e-02,  2.04080977e-01,  4.67258532e-01,\n",
      "        8.50769018e+02,  8.50175829e+02,  3.41371968e+03,  3.41349001e+03,\n",
      "        2.34160636e+03,  2.34171350e+03,  3.04818188e+03,  2.69460267e+03,\n",
      "        2.08698922e+03,  7.29863970e+04,  6.45136567e+04,  4.99681146e+04,\n",
      "        3.11537022e-01, -4.27784552e-02,  8.50444884e+02,  3.41334348e+03,\n",
      "        2.34109555e+03,  5.42001919e+03,  1.29776388e+05])\n",
      "err=2110.6003885150785\n"
     ]
    }
   ],
   "source": [
    "p, err = optimizer.optimize(p0, max_iter, step_type=\"cgnr\", step_max_iter=6, step_tol=1e-6)\n",
    "print(f\"{p=}\\n{err=}\")"
   ]
  },
  {
   "cell_type": "code",
   "execution_count": 370,
   "metadata": {},
   "outputs": [
    {
     "name": "stdout",
     "output_type": "stream",
     "text": [
      "p=array([ 3.67830341e-01,  8.34385458e-02,  2.04080977e-01,  4.67258532e-01,\n",
      "        8.50769018e+02,  8.50175829e+02,  3.41371968e+03,  3.41349001e+03,\n",
      "        2.34160636e+03,  2.34171350e+03,  3.04818188e+03,  2.69460267e+03,\n",
      "        2.08698922e+03,  7.29863970e+04,  6.45136567e+04,  4.99681146e+04,\n",
      "        3.11537022e-01, -4.27784552e-02,  8.50444884e+02,  3.41334348e+03,\n",
      "        2.34109555e+03,  5.42001919e+03,  1.29776388e+05])\n",
      "err=2110.6003885150785\n"
     ]
    }
   ],
   "source": [
    "p, err = optimizer.optimize(p0, max_iter, step_type=\"svd\")\n",
    "print(f\"{p=}\\n{err=}\")"
   ]
  },
  {
   "attachments": {},
   "cell_type": "markdown",
   "metadata": {},
   "source": [
    "#### 2. Sequence $\\lambda_k$ decrasing when error is decreasing, and increasing otherwise"
   ]
  },
  {
   "cell_type": "code",
   "execution_count": 371,
   "metadata": {},
   "outputs": [],
   "source": [
    "lambda_param = 1.\n",
    "lambda_change = 2.\n",
    "optimizer = LevenbergMarquardt(\n",
    "    R=R, lambda_param_fun=LevenbergMarquardt.LambdaParamDefaultModifier(lambda0=lambda_param, lambda_change=lambda_change)\n",
    ")"
   ]
  },
  {
   "cell_type": "code",
   "execution_count": 372,
   "metadata": {},
   "outputs": [
    {
     "ename": "KeyboardInterrupt",
     "evalue": "",
     "output_type": "error",
     "traceback": [
      "\u001b[0;31m---------------------------------------------------------------------------\u001b[0m",
      "\u001b[0;31mKeyboardInterrupt\u001b[0m                         Traceback (most recent call last)",
      "\u001b[0;32m<ipython-input-372-5151aa2e4e74>\u001b[0m in \u001b[0;36m<module>\u001b[0;34m\u001b[0m\n\u001b[0;32m----> 1\u001b[0;31m \u001b[0mp\u001b[0m\u001b[0;34m,\u001b[0m \u001b[0merr\u001b[0m \u001b[0;34m=\u001b[0m \u001b[0moptimizer\u001b[0m\u001b[0;34m.\u001b[0m\u001b[0moptimize\u001b[0m\u001b[0;34m(\u001b[0m\u001b[0mp0\u001b[0m\u001b[0;34m,\u001b[0m \u001b[0mmax_iter\u001b[0m\u001b[0;34m,\u001b[0m \u001b[0mstep_type\u001b[0m\u001b[0;34m=\u001b[0m\u001b[0;34m\"cholesky\"\u001b[0m\u001b[0;34m)\u001b[0m\u001b[0;34m\u001b[0m\u001b[0;34m\u001b[0m\u001b[0m\n\u001b[0m\u001b[1;32m      2\u001b[0m \u001b[0mprint\u001b[0m\u001b[0;34m(\u001b[0m\u001b[0;34mf\"{p=}\\n{err=}\"\u001b[0m\u001b[0;34m)\u001b[0m\u001b[0;34m\u001b[0m\u001b[0;34m\u001b[0m\u001b[0m\n",
      "\u001b[0;32m/mnt/27e923d6-8904-475e-905f-978834da3357/second/uw/ml-numerki/project/lib/optimizers.py\u001b[0m in \u001b[0;36moptimize\u001b[0;34m(self, p0, max_iter, silent, step_type, step_max_iter, step_tol)\u001b[0m\n\u001b[1;32m    323\u001b[0m                 \u001b[0mprint\u001b[0m\u001b[0;34m(\u001b[0m\u001b[0;34mf\"iter {i}: p = {p}, ||R(p)|| = {err}\"\u001b[0m\u001b[0;34m)\u001b[0m\u001b[0;34m\u001b[0m\u001b[0;34m\u001b[0m\u001b[0m\n\u001b[1;32m    324\u001b[0m             \u001b[0;32mtry\u001b[0m\u001b[0;34m:\u001b[0m\u001b[0;34m\u001b[0m\u001b[0;34m\u001b[0m\u001b[0m\n\u001b[0;32m--> 325\u001b[0;31m                 \u001b[0mp\u001b[0m \u001b[0;34m=\u001b[0m \u001b[0mself\u001b[0m\u001b[0;34m.\u001b[0m\u001b[0mstep\u001b[0m\u001b[0;34m(\u001b[0m\u001b[0mp\u001b[0m\u001b[0;34m=\u001b[0m\u001b[0mp\u001b[0m\u001b[0;34m,\u001b[0m \u001b[0mlambda_param\u001b[0m\u001b[0;34m=\u001b[0m\u001b[0mself\u001b[0m\u001b[0;34m.\u001b[0m\u001b[0mlambda_param_fun\u001b[0m\u001b[0;34m(\u001b[0m\u001b[0mself\u001b[0m\u001b[0;34m.\u001b[0m\u001b[0mR\u001b[0m\u001b[0;34m,\u001b[0m \u001b[0mself\u001b[0m\u001b[0;34m.\u001b[0m\u001b[0mstep\u001b[0m\u001b[0;34m,\u001b[0m \u001b[0mp\u001b[0m\u001b[0;34m,\u001b[0m \u001b[0mi\u001b[0m\u001b[0;34m)\u001b[0m\u001b[0;34m)\u001b[0m\u001b[0;34m\u001b[0m\u001b[0;34m\u001b[0m\u001b[0m\n\u001b[0m\u001b[1;32m    326\u001b[0m             \u001b[0;32mexcept\u001b[0m \u001b[0mnp\u001b[0m\u001b[0;34m.\u001b[0m\u001b[0mlinalg\u001b[0m\u001b[0;34m.\u001b[0m\u001b[0mLinAlgError\u001b[0m\u001b[0;34m:\u001b[0m\u001b[0;34m\u001b[0m\u001b[0;34m\u001b[0m\u001b[0m\n\u001b[1;32m    327\u001b[0m                 \u001b[0merr\u001b[0m \u001b[0;34m=\u001b[0m \u001b[0mnp\u001b[0m\u001b[0;34m.\u001b[0m\u001b[0mlinalg\u001b[0m\u001b[0;34m.\u001b[0m\u001b[0mnorm\u001b[0m\u001b[0;34m(\u001b[0m\u001b[0mself\u001b[0m\u001b[0;34m.\u001b[0m\u001b[0mR\u001b[0m\u001b[0;34m(\u001b[0m\u001b[0mp\u001b[0m\u001b[0;34m)\u001b[0m\u001b[0;34m)\u001b[0m\u001b[0;34m\u001b[0m\u001b[0;34m\u001b[0m\u001b[0m\n",
      "\u001b[0;32m/mnt/27e923d6-8904-475e-905f-978834da3357/second/uw/ml-numerki/project/lib/optimizers.py\u001b[0m in \u001b[0;36m__call__\u001b[0;34m(self, R, step, p, i)\u001b[0m\n\u001b[1;32m    191\u001b[0m             \u001b[0mcurrent_err\u001b[0m \u001b[0;34m=\u001b[0m \u001b[0mnp\u001b[0m\u001b[0;34m.\u001b[0m\u001b[0mlinalg\u001b[0m\u001b[0;34m.\u001b[0m\u001b[0mnorm\u001b[0m\u001b[0;34m(\u001b[0m\u001b[0mR\u001b[0m\u001b[0;34m(\u001b[0m\u001b[0mp\u001b[0m\u001b[0;34m)\u001b[0m\u001b[0;34m)\u001b[0m\u001b[0;34m\u001b[0m\u001b[0;34m\u001b[0m\u001b[0m\n\u001b[1;32m    192\u001b[0m             \u001b[0;32mfor\u001b[0m \u001b[0m_\u001b[0m \u001b[0;32min\u001b[0m \u001b[0mrange\u001b[0m\u001b[0;34m(\u001b[0m\u001b[0mself\u001b[0m\u001b[0;34m.\u001b[0m\u001b[0mmax_iter\u001b[0m\u001b[0;34m)\u001b[0m\u001b[0;34m:\u001b[0m\u001b[0;34m\u001b[0m\u001b[0;34m\u001b[0m\u001b[0m\n\u001b[0;32m--> 193\u001b[0;31m                 \u001b[0mnext_err1\u001b[0m \u001b[0;34m=\u001b[0m \u001b[0mnp\u001b[0m\u001b[0;34m.\u001b[0m\u001b[0mlinalg\u001b[0m\u001b[0;34m.\u001b[0m\u001b[0mnorm\u001b[0m\u001b[0;34m(\u001b[0m\u001b[0mR\u001b[0m\u001b[0;34m(\u001b[0m\u001b[0mstep\u001b[0m\u001b[0;34m(\u001b[0m\u001b[0mp\u001b[0m\u001b[0;34m,\u001b[0m \u001b[0mself\u001b[0m\u001b[0;34m.\u001b[0m\u001b[0mvalue\u001b[0m\u001b[0;34m)\u001b[0m\u001b[0;34m)\u001b[0m\u001b[0;34m)\u001b[0m\u001b[0;34m\u001b[0m\u001b[0;34m\u001b[0m\u001b[0m\n\u001b[0m\u001b[1;32m    194\u001b[0m                 \u001b[0mnext_err2\u001b[0m \u001b[0;34m=\u001b[0m \u001b[0mnp\u001b[0m\u001b[0;34m.\u001b[0m\u001b[0mlinalg\u001b[0m\u001b[0;34m.\u001b[0m\u001b[0mnorm\u001b[0m\u001b[0;34m(\u001b[0m\u001b[0mR\u001b[0m\u001b[0;34m(\u001b[0m\u001b[0mstep\u001b[0m\u001b[0;34m(\u001b[0m\u001b[0mp\u001b[0m\u001b[0;34m,\u001b[0m \u001b[0mself\u001b[0m\u001b[0;34m.\u001b[0m\u001b[0mvalue\u001b[0m \u001b[0;34m/\u001b[0m \u001b[0mself\u001b[0m\u001b[0;34m.\u001b[0m\u001b[0mvalue_change\u001b[0m\u001b[0;34m)\u001b[0m\u001b[0;34m)\u001b[0m\u001b[0;34m)\u001b[0m\u001b[0;34m\u001b[0m\u001b[0;34m\u001b[0m\u001b[0m\n\u001b[1;32m    195\u001b[0m                 \u001b[0;32mif\u001b[0m \u001b[0mnext_err1\u001b[0m \u001b[0;34m>\u001b[0m \u001b[0mcurrent_err\u001b[0m \u001b[0;32mand\u001b[0m \u001b[0mnext_err2\u001b[0m \u001b[0;34m>\u001b[0m \u001b[0mcurrent_err\u001b[0m\u001b[0;34m:\u001b[0m\u001b[0;34m\u001b[0m\u001b[0;34m\u001b[0m\u001b[0m\n",
      "\u001b[0;32m/mnt/27e923d6-8904-475e-905f-978834da3357/second/uw/ml-numerki/project/lib/optimizers.py\u001b[0m in \u001b[0;36mstep\u001b[0;34m(self, p, lambda_param)\u001b[0m\n\u001b[1;32m    282\u001b[0m     \u001b[0;32mdef\u001b[0m \u001b[0mstep\u001b[0m\u001b[0;34m(\u001b[0m\u001b[0mself\u001b[0m\u001b[0;34m,\u001b[0m \u001b[0mp\u001b[0m\u001b[0;34m:\u001b[0m \u001b[0mNDArray\u001b[0m\u001b[0;34m[\u001b[0m\u001b[0mnp\u001b[0m\u001b[0;34m.\u001b[0m\u001b[0mfloat64\u001b[0m\u001b[0;34m]\u001b[0m\u001b[0;34m,\u001b[0m \u001b[0mlambda_param\u001b[0m\u001b[0;34m:\u001b[0m \u001b[0mfloat\u001b[0m\u001b[0;34m)\u001b[0m \u001b[0;34m->\u001b[0m \u001b[0mNDArray\u001b[0m\u001b[0;34m[\u001b[0m\u001b[0mnp\u001b[0m\u001b[0;34m.\u001b[0m\u001b[0mfloat64\u001b[0m\u001b[0;34m]\u001b[0m\u001b[0;34m:\u001b[0m\u001b[0;34m\u001b[0m\u001b[0;34m\u001b[0m\u001b[0m\n\u001b[1;32m    283\u001b[0m         \u001b[0;32mif\u001b[0m \u001b[0mself\u001b[0m\u001b[0;34m.\u001b[0m\u001b[0mstep_type\u001b[0m \u001b[0;34m==\u001b[0m \u001b[0;34m\"cholesky\"\u001b[0m\u001b[0;34m:\u001b[0m\u001b[0;34m\u001b[0m\u001b[0;34m\u001b[0m\u001b[0m\n\u001b[0;32m--> 284\u001b[0;31m             \u001b[0;32mreturn\u001b[0m \u001b[0mself\u001b[0m\u001b[0;34m.\u001b[0m\u001b[0mstep_cholesky\u001b[0m\u001b[0;34m(\u001b[0m\u001b[0mp\u001b[0m\u001b[0;34m,\u001b[0m \u001b[0mlambda_param\u001b[0m\u001b[0;34m)\u001b[0m\u001b[0;34m\u001b[0m\u001b[0;34m\u001b[0m\u001b[0m\n\u001b[0m\u001b[1;32m    285\u001b[0m         \u001b[0;32melif\u001b[0m \u001b[0mself\u001b[0m\u001b[0;34m.\u001b[0m\u001b[0mstep_type\u001b[0m \u001b[0;34m==\u001b[0m \u001b[0;34m\"least_squares\"\u001b[0m\u001b[0;34m:\u001b[0m\u001b[0;34m\u001b[0m\u001b[0;34m\u001b[0m\u001b[0m\n\u001b[1;32m    286\u001b[0m             \u001b[0;32mreturn\u001b[0m \u001b[0mself\u001b[0m\u001b[0;34m.\u001b[0m\u001b[0mstep_least_squares\u001b[0m\u001b[0;34m(\u001b[0m\u001b[0mp\u001b[0m\u001b[0;34m,\u001b[0m \u001b[0mlambda_param\u001b[0m\u001b[0;34m)\u001b[0m\u001b[0;34m\u001b[0m\u001b[0;34m\u001b[0m\u001b[0m\n",
      "\u001b[0;32m/mnt/27e923d6-8904-475e-905f-978834da3357/second/uw/ml-numerki/project/lib/optimizers.py\u001b[0m in \u001b[0;36mstep_cholesky\u001b[0;34m(self, p, lambda_param)\u001b[0m\n\u001b[1;32m    225\u001b[0m         \u001b[0;32mtry\u001b[0m\u001b[0;34m:\u001b[0m\u001b[0;34m\u001b[0m\u001b[0;34m\u001b[0m\u001b[0m\n\u001b[1;32m    226\u001b[0m             \u001b[0mL\u001b[0m \u001b[0;34m=\u001b[0m \u001b[0mnp\u001b[0m\u001b[0;34m.\u001b[0m\u001b[0mlinalg\u001b[0m\u001b[0;34m.\u001b[0m\u001b[0mcholesky\u001b[0m\u001b[0;34m(\u001b[0m\u001b[0mself\u001b[0m\u001b[0;34m.\u001b[0m\u001b[0mDR\u001b[0m\u001b[0;34m(\u001b[0m\u001b[0mp\u001b[0m\u001b[0;34m)\u001b[0m\u001b[0;34m.\u001b[0m\u001b[0mT\u001b[0m \u001b[0;34m@\u001b[0m \u001b[0mself\u001b[0m\u001b[0;34m.\u001b[0m\u001b[0mDR\u001b[0m\u001b[0;34m(\u001b[0m\u001b[0mp\u001b[0m\u001b[0;34m)\u001b[0m \u001b[0;34m+\u001b[0m \u001b[0mlambda_param\u001b[0m \u001b[0;34m*\u001b[0m \u001b[0mnp\u001b[0m\u001b[0;34m.\u001b[0m\u001b[0meye\u001b[0m\u001b[0;34m(\u001b[0m\u001b[0mp\u001b[0m\u001b[0;34m.\u001b[0m\u001b[0msize\u001b[0m\u001b[0;34m)\u001b[0m\u001b[0;34m)\u001b[0m\u001b[0;34m\u001b[0m\u001b[0;34m\u001b[0m\u001b[0m\n\u001b[0;32m--> 227\u001b[0;31m             \u001b[0my\u001b[0m \u001b[0;34m=\u001b[0m \u001b[0mnp\u001b[0m\u001b[0;34m.\u001b[0m\u001b[0mlinalg\u001b[0m\u001b[0;34m.\u001b[0m\u001b[0msolve\u001b[0m\u001b[0;34m(\u001b[0m\u001b[0mL\u001b[0m\u001b[0;34m,\u001b[0m \u001b[0mself\u001b[0m\u001b[0;34m.\u001b[0m\u001b[0mDR\u001b[0m\u001b[0;34m(\u001b[0m\u001b[0mp\u001b[0m\u001b[0;34m)\u001b[0m\u001b[0;34m.\u001b[0m\u001b[0mT\u001b[0m \u001b[0;34m@\u001b[0m \u001b[0mself\u001b[0m\u001b[0;34m.\u001b[0m\u001b[0mR\u001b[0m\u001b[0;34m(\u001b[0m\u001b[0mp\u001b[0m\u001b[0;34m)\u001b[0m\u001b[0;34m)\u001b[0m\u001b[0;34m\u001b[0m\u001b[0;34m\u001b[0m\u001b[0m\n\u001b[0m\u001b[1;32m    228\u001b[0m             \u001b[0md\u001b[0m \u001b[0;34m=\u001b[0m \u001b[0mnp\u001b[0m\u001b[0;34m.\u001b[0m\u001b[0mlinalg\u001b[0m\u001b[0;34m.\u001b[0m\u001b[0msolve\u001b[0m\u001b[0;34m(\u001b[0m\u001b[0mL\u001b[0m\u001b[0;34m.\u001b[0m\u001b[0mT\u001b[0m\u001b[0;34m,\u001b[0m \u001b[0my\u001b[0m\u001b[0;34m)\u001b[0m\u001b[0;34m\u001b[0m\u001b[0;34m\u001b[0m\u001b[0m\n\u001b[1;32m    229\u001b[0m         \u001b[0;32mexcept\u001b[0m \u001b[0mnp\u001b[0m\u001b[0;34m.\u001b[0m\u001b[0mlinalg\u001b[0m\u001b[0;34m.\u001b[0m\u001b[0mLinAlgError\u001b[0m\u001b[0;34m:\u001b[0m\u001b[0;34m\u001b[0m\u001b[0;34m\u001b[0m\u001b[0m\n",
      "\u001b[0;32m~/second/anaconda3/lib/python3.10/site-packages/numpy/core/overrides.py\u001b[0m in \u001b[0;36msolve\u001b[0;34m(*args, **kwargs)\u001b[0m\n",
      "\u001b[0;32m~/second/anaconda3/lib/python3.10/site-packages/numpy/linalg/linalg.py\u001b[0m in \u001b[0;36msolve\u001b[0;34m(a, b)\u001b[0m\n\u001b[1;32m    384\u001b[0m     \u001b[0msignature\u001b[0m \u001b[0;34m=\u001b[0m \u001b[0;34m'DD->D'\u001b[0m \u001b[0;32mif\u001b[0m \u001b[0misComplexType\u001b[0m\u001b[0;34m(\u001b[0m\u001b[0mt\u001b[0m\u001b[0;34m)\u001b[0m \u001b[0;32melse\u001b[0m \u001b[0;34m'dd->d'\u001b[0m\u001b[0;34m\u001b[0m\u001b[0;34m\u001b[0m\u001b[0m\n\u001b[1;32m    385\u001b[0m     \u001b[0mextobj\u001b[0m \u001b[0;34m=\u001b[0m \u001b[0mget_linalg_error_extobj\u001b[0m\u001b[0;34m(\u001b[0m\u001b[0m_raise_linalgerror_singular\u001b[0m\u001b[0;34m)\u001b[0m\u001b[0;34m\u001b[0m\u001b[0;34m\u001b[0m\u001b[0m\n\u001b[0;32m--> 386\u001b[0;31m     \u001b[0mr\u001b[0m \u001b[0;34m=\u001b[0m \u001b[0mgufunc\u001b[0m\u001b[0;34m(\u001b[0m\u001b[0ma\u001b[0m\u001b[0;34m,\u001b[0m \u001b[0mb\u001b[0m\u001b[0;34m,\u001b[0m \u001b[0msignature\u001b[0m\u001b[0;34m=\u001b[0m\u001b[0msignature\u001b[0m\u001b[0;34m,\u001b[0m \u001b[0mextobj\u001b[0m\u001b[0;34m=\u001b[0m\u001b[0mextobj\u001b[0m\u001b[0;34m)\u001b[0m\u001b[0;34m\u001b[0m\u001b[0;34m\u001b[0m\u001b[0m\n\u001b[0m\u001b[1;32m    387\u001b[0m \u001b[0;34m\u001b[0m\u001b[0m\n\u001b[1;32m    388\u001b[0m     \u001b[0;32mreturn\u001b[0m \u001b[0mwrap\u001b[0m\u001b[0;34m(\u001b[0m\u001b[0mr\u001b[0m\u001b[0;34m.\u001b[0m\u001b[0mastype\u001b[0m\u001b[0;34m(\u001b[0m\u001b[0mresult_t\u001b[0m\u001b[0;34m,\u001b[0m \u001b[0mcopy\u001b[0m\u001b[0;34m=\u001b[0m\u001b[0;32mFalse\u001b[0m\u001b[0;34m)\u001b[0m\u001b[0;34m)\u001b[0m\u001b[0;34m\u001b[0m\u001b[0;34m\u001b[0m\u001b[0m\n",
      "\u001b[0;31mKeyboardInterrupt\u001b[0m: "
     ]
    }
   ],
   "source": [
    "p, err = optimizer.optimize(p0, max_iter, step_type=\"cholesky\")\n",
    "print(f\"{p=}\\n{err=}\")"
   ]
  },
  {
   "cell_type": "code",
   "execution_count": null,
   "metadata": {},
   "outputs": [
    {
     "name": "stdout",
     "output_type": "stream",
     "text": [
      "p=array([ 0.44364667, -0.34899506,  0.64851184,  1.52386946, -0.24480518,\n",
      "       -4.18642183,  1.56485549, -2.97968555, -0.45877092,  8.77812663,\n",
      "        0.20815047,  0.50293939, 13.11306863,  1.0453993 ,  2.47683831,\n",
      "       50.98316778, -1.03334643,  0.31965958, -4.86292703, -5.16310465,\n",
      "        9.70650825, 13.09335596, 53.59734248])\n",
      "err=987.0992857863894\n"
     ]
    }
   ],
   "source": [
    "p, err = optimizer.optimize(p0, max_iter, step_type=\"cgnr\", step_max_iter=6, step_tol=1e-6)\n",
    "print(f\"{p=}\\n{err=}\")"
   ]
  },
  {
   "cell_type": "code",
   "execution_count": null,
   "metadata": {},
   "outputs": [
    {
     "name": "stdout",
     "output_type": "stream",
     "text": [
      "p=array([ 0.44364667, -0.34899506,  0.64851184,  1.52386946, -0.24480518,\n",
      "       -4.18642183,  1.56485549, -2.97968555, -0.45877092,  8.77812663,\n",
      "        0.20815047,  0.50293939, 13.11306863,  1.0453993 ,  2.47683831,\n",
      "       50.98316778, -1.03334643,  0.31965958, -4.86292703, -5.16310465,\n",
      "        9.70650825, 13.09335596, 53.59734248])\n",
      "err=987.0992857863894\n"
     ]
    }
   ],
   "source": [
    "p, err = optimizer.optimize(p0, max_iter, step_type=\"svd\")\n",
    "print(f\"{p=}\\n{err=}\")"
   ]
  }
 ],
 "metadata": {
  "kernelspec": {
   "display_name": "base",
   "language": "python",
   "name": "python3"
  },
  "language_info": {
   "codemirror_mode": {
    "name": "ipython",
    "version": 3
   },
   "file_extension": ".py",
   "mimetype": "text/x-python",
   "name": "python",
   "nbconvert_exporter": "python",
   "pygments_lexer": "ipython3",
   "version": "3.10.9"
  },
  "orig_nbformat": 4
 },
 "nbformat": 4,
 "nbformat_minor": 2
}
