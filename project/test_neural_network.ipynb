{
 "cells": [
  {
   "cell_type": "code",
   "execution_count": 122,
   "metadata": {},
   "outputs": [],
   "source": [
    "from optimizers import *\n",
    "from functions import *\n",
    "import numpy as np\n",
    "import matplotlib.pyplot as plt"
   ]
  },
  {
   "attachments": {},
   "cell_type": "markdown",
   "metadata": {},
   "source": [
    "# A neural network\n",
    "\n",
    "### This is a neural network which checks whether the sum of two numbers is positive or negative"
   ]
  },
  {
   "cell_type": "code",
   "execution_count": 123,
   "metadata": {},
   "outputs": [],
   "source": [
    "def sigmoid(z):\n",
    "    return 1 / (1 + np.exp(-z))"
   ]
  },
  {
   "cell_type": "code",
   "execution_count": 124,
   "metadata": {},
   "outputs": [],
   "source": [
    "def F(x, p, layers):\n",
    "    assert x.shape[0] == layers[0]\n",
    "    \n",
    "    W = []\n",
    "    b = []\n",
    "    index = 0\n",
    "    for i in range(len(layers) - 1):\n",
    "        W.append(p[index:index + layers[i] * layers[i + 1]].reshape((layers[i + 1], layers[i])))\n",
    "        index += layers[i] * layers[i + 1]\n",
    "    for i in range(len(layers) - 1):\n",
    "        b.append(p[index:index + layers[i + 1]])\n",
    "        index += layers[i + 1]\n",
    "    \n",
    "    a = x\n",
    "    for i in range(len(layers) - 1):\n",
    "        a = sigmoid(W[i] @ a + b[i])\n",
    "    y = a\n",
    "    \n",
    "    assert y.shape[0] == layers[-1]\n",
    "    \n",
    "    return y"
   ]
  },
  {
   "cell_type": "code",
   "execution_count": 125,
   "metadata": {},
   "outputs": [],
   "source": [
    "def f(p, layers, X, Y):\n",
    "    res = np.array([np.linalg.norm(F(x, p, layers) - y) for x, y in zip(X, Y)])\n",
    "    return res"
   ]
  },
  {
   "cell_type": "code",
   "execution_count": 126,
   "metadata": {},
   "outputs": [],
   "source": [
    "def grad_C(p, layers, x, y):\n",
    "    assert x.shape[0] == layers[0]\n",
    "    assert y.shape[0] == layers[-1]\n",
    "    \n",
    "    W = []\n",
    "    b = []\n",
    "    index = 0\n",
    "    for i in range(len(layers) - 1):\n",
    "        W.append(p[index:index + layers[i] * layers[i + 1]].reshape((layers[i + 1], layers[i])))\n",
    "        index += layers[i] * layers[i + 1]\n",
    "    for i in range(len(layers) - 1):\n",
    "        b.append(p[index:index + layers[i + 1]])\n",
    "        index += layers[i + 1]\n",
    "    \n",
    "    a = [x]\n",
    "    z = []\n",
    "    for i in range(len(layers) - 1):\n",
    "        z.append(W[i] @ a[i] + b[i])\n",
    "        a.append(sigmoid(z[i]))\n",
    "    \n",
    "    delta = [sigmoid(z[-1]) * (1 - sigmoid(z[-1])) * (a[-1] - y)]\n",
    "    for i in range(len(layers) - 2, 0, -1):\n",
    "        delta.append(sigmoid(z[i - 1]) * (1 - sigmoid(z[i - 1])) * (W[i].T @ delta[-1]))\n",
    "    delta = delta[::-1]\n",
    "    \n",
    "    grad_W = []\n",
    "    for i in range(len(layers) - 1):\n",
    "        grad_W.append(delta[i].reshape((layers[i + 1], 1)) @ a[i].reshape((1, layers[i])))\n",
    "    \n",
    "    grad_b = delta\n",
    "    \n",
    "    grad = np.concatenate(([grad_W[i].flatten() for i in range(len(grad_W))] + [grad_b[i] for i in range(len(grad_b))]))\n",
    "    \n",
    "    assert grad.shape == p.shape\n",
    "    \n",
    "    return grad"
   ]
  },
  {
   "cell_type": "code",
   "execution_count": 127,
   "metadata": {},
   "outputs": [],
   "source": [
    "def hess_C(p, layers, x, y):\n",
    "    assert x.shape[0] == layers[0]\n",
    "    assert y.shape[0] == layers[-1]\n",
    "    \n",
    "    W = []\n",
    "    b = []\n",
    "    index = 0\n",
    "    for i in range(len(layers) - 1):\n",
    "        W.append(p[index:index + layers[i] * layers[i + 1]].reshape((layers[i + 1], layers[i])))\n",
    "        index += layers[i] * layers[i + 1]\n",
    "    for i in range(len(layers) - 1):\n",
    "        b.append(p[index:index + layers[i + 1]])\n",
    "        index += layers[i + 1]\n",
    "    \n",
    "    a = [x]\n",
    "    z = []\n",
    "    for i in range(len(layers) - 1):\n",
    "        z.append(W[i] @ a[i] + b[i])\n",
    "        a.append(sigmoid(z[i]))\n",
    "    \n",
    "    delta = [sigmoid(z[-1]) * (1 - sigmoid(z[-1])) * (a[-1] - y)]\n",
    "    for i in range(len(layers) - 2, 0, -1):\n",
    "        delta.append(sigmoid(z[i - 1]) * (1 - sigmoid(z[i - 1])) * (W[i].T @ delta[-1]))\n",
    "    delta = delta[::-1]\n",
    "    \n",
    "    grad_W = []\n",
    "    for i in range(len(layers) - 1):\n",
    "        grad_W.append(delta[i].reshape((layers[i + 1], 1)) @ a[i].reshape((1, layers[i])))\n",
    "    \n",
    "    grad_b = delta\n",
    "    \n",
    "    grad = np.concatenate(([grad_W[i].flatten() for i in range(len(grad_W))] + [grad_b[i] for i in range(len(grad_b))]))\n",
    "    \n",
    "    hess_W = []\n",
    "    for i in range(len(layers) - 1):\n",
    "        hess_W.append(np.zeros((layers[i + 1] * layers[i], layers[i + 1] * layers[i])))\n",
    "        for j in range(layers[i + 1]):\n",
    "            for k in range(layers[i]):\n",
    "                hess_W[i][j * layers[i] + k][j * layers[i] + k] = sigmoid(z[i][j]) * (1 - sigmoid(z[i][j])) * a[i][k]\n",
    "    \n",
    "    hess_b = []\n",
    "    for i in range(len(layers) - 1):\n",
    "        hess_b.append(np.zeros((layers[i + 1], layers[i + 1])))\n",
    "        for j in range(layers[i + 1]):\n",
    "            hess_b[i][j][j] = sigmoid(z[i][j]) * (1 - sigmoid(z[i][j]))\n",
    "\n",
    "    hess = np.zeros((p.shape[0], p.shape[0]))\n",
    "    index = 0\n",
    "    for i in range(len(layers) - 1):\n",
    "        hess[index:index + layers[i + 1] * layers[i], index:index + layers[i + 1] * layers[i]] = hess_W[i]\n",
    "        index += layers[i + 1] * layers[i]\n",
    "    for i in range(len(layers) - 1):\n",
    "        hess[index:index + layers[i + 1], index:index + layers[i + 1]] = hess_b[i]\n",
    "        index += layers[i + 1]\n",
    "\n",
    "    assert hess.shape == (p.shape[0], p.shape[0])\n",
    "\n",
    "    return hess"
   ]
  },
  {
   "attachments": {},
   "cell_type": "markdown",
   "metadata": {},
   "source": [
    "# Data\n",
    "\n",
    "$X_i$ - random 2 dimentional vector with entries from -50 to 50\n",
    "\n",
    "$Y_i$ - sum of entries of $X$ is greater than or equal 0"
   ]
  },
  {
   "cell_type": "code",
   "execution_count": 128,
   "metadata": {},
   "outputs": [
    {
     "data": {
      "text/plain": [
       "(array([[  5.07979026,  20.81478226],\n",
       "        [-20.90952611,   1.08276052],\n",
       "        [ 39.29469543,  39.62930889],\n",
       "        [-37.44146895, -29.27571219],\n",
       "        [-44.85327967,  -5.91901563]]),\n",
       " array([[1.],\n",
       "        [0.],\n",
       "        [1.],\n",
       "        [0.],\n",
       "        [0.]]))"
      ]
     },
     "execution_count": 128,
     "metadata": {},
     "output_type": "execute_result"
    }
   ],
   "source": [
    "np.random.seed(3)\n",
    "num_samples = 1000\n",
    "X = 100 * np.random.rand(num_samples, 2) - 50\n",
    "Y = (X[:, 0] + X[:, 1] >= 0).astype(float).reshape((num_samples, 1))\n",
    "X[:5, :], Y[:5]"
   ]
  },
  {
   "attachments": {},
   "cell_type": "markdown",
   "metadata": {},
   "source": [
    "## The function"
   ]
  },
  {
   "cell_type": "code",
   "execution_count": 129,
   "metadata": {},
   "outputs": [
    {
     "data": {
      "text/plain": [
       "(37, 1000)"
      ]
     },
     "execution_count": 129,
     "metadata": {},
     "output_type": "execute_result"
    }
   ],
   "source": [
    "layers = [2, 4, 4, 1]\n",
    "\n",
    "def r(p):\n",
    "    return f(p, layers, X, Y)\n",
    "\n",
    "def Dr(p):\n",
    "    return np.vstack([grad_C(p, layers, x, y) for x, y in zip(X, Y)])\n",
    "\n",
    "def Hr(p):\n",
    "    return np.vstack([hess_C(p, layers, x, y) for x, y in zip(X, Y)])\n",
    "\n",
    "M = X.shape[0]\n",
    "N = 0\n",
    "for i in range(len(layers) - 1):\n",
    "    N += layers[i] * layers[i + 1]\n",
    "for i in range(len(layers) - 1):\n",
    "    N += layers[i + 1]\n",
    "N, M"
   ]
  },
  {
   "cell_type": "code",
   "execution_count": 130,
   "metadata": {},
   "outputs": [],
   "source": [
    "R = Function(F=r, DF=Dr, D2F=Hr, N=N, M=M)"
   ]
  },
  {
   "attachments": {},
   "cell_type": "markdown",
   "metadata": {},
   "source": [
    "# Test different methods"
   ]
  },
  {
   "cell_type": "code",
   "execution_count": 131,
   "metadata": {},
   "outputs": [
    {
     "name": "stdout",
     "output_type": "stream",
     "text": [
      "Running Newton\n"
     ]
    },
    {
     "name": "stderr",
     "output_type": "stream",
     "text": [
      "Newton:   0%|          | 0/50 [00:00<?, ?it/s]"
     ]
    },
    {
     "name": "stderr",
     "output_type": "stream",
     "text": [
      "Newton:  48%|████▊     | 24/50 [00:17<00:18,  1.38it/s]C:\\Users\\matip\\AppData\\Local\\Temp\\ipykernel_5208\\3196251242.py:2: RuntimeWarning: overflow encountered in exp\n",
      "  return 1 / (1 + np.exp(-z))\n",
      "Newton: 100%|██████████| 50/50 [00:37<00:00,  1.34it/s]\n"
     ]
    },
    {
     "name": "stdout",
     "output_type": "stream",
     "text": [
      "Running Gauss-Newton\n"
     ]
    },
    {
     "name": "stderr",
     "output_type": "stream",
     "text": [
      "Gauss-Newton: 100%|██████████| 50/50 [00:11<00:00,  4.19it/s]\n"
     ]
    },
    {
     "name": "stdout",
     "output_type": "stream",
     "text": [
      "Running Gradient descent\n"
     ]
    },
    {
     "name": "stderr",
     "output_type": "stream",
     "text": [
      "Gradient descent: 100%|██████████| 50/50 [00:09<00:00,  5.24it/s]\n"
     ]
    },
    {
     "name": "stdout",
     "output_type": "stream",
     "text": [
      "Running Levenberg-Marquardt\n"
     ]
    },
    {
     "name": "stderr",
     "output_type": "stream",
     "text": [
      "Levenberg-Marquardt: 100%|██████████| 50/50 [00:09<00:00,  5.10it/s]\n"
     ]
    },
    {
     "data": {
      "image/png": "[encoded data removed]",
      "text/plain": [
       "<Figure size 640x480 with 1 Axes>"
      ]
     },
     "metadata": {},
     "output_type": "display_data"
    }
   ],
   "source": [
    "max_iter = 50\n",
    "np.random.seed(1)\n",
    "p0 = np.random.randn(N) / np.sqrt(N)\n",
    "alpha_gd = 1e-1\n",
    "alpha_gn = 1.0\n",
    "lambda0 = 1.0\n",
    "\n",
    "NEWTON = \"Newton\"\n",
    "GAUSS_NEWTON = \"Gauss-Newton\"\n",
    "GRADIENT_DESCENT = \"Gradient descent\"\n",
    "LEVENBERG_MARQUARDT_CONST_PARAM = \"Levenberg-Marquardt\"\n",
    "optimizer_names = [\n",
    "    GRADIENT_DESCENT,\n",
    "    NEWTON,\n",
    "    GAUSS_NEWTON,\n",
    "    LEVENBERG_MARQUARDT_CONST_PARAM,\n",
    "]\n",
    "\n",
    "errors = {name: [] for name in optimizer_names}\n",
    "points = {name: [] for name in optimizer_names}\n",
    "\n",
    "optimizer_functions = {\n",
    "    NEWTON: lambda points, errs: newton(R=R, p0=p0, max_iter=max_iter, alpha=alpha_gn, points=points, errs=errs),\n",
    "    GAUSS_NEWTON: lambda points, errs: gauss_newton(R=R, p0=p0, alpha=alpha_gn, max_iter=max_iter, points=points, errs=errs),\n",
    "    GRADIENT_DESCENT: lambda points, errs: gradient_descent(R=R, p0=p0, alpha=alpha_gd, max_iter=max_iter, points=points, errs=errs),\n",
    "    LEVENBERG_MARQUARDT_CONST_PARAM: lambda points, errs: (\n",
    "        LevenbergMarquardt(R=R, lambda_param_fun=LevenbergMarquardt.LambdaParamConstant(lambda0=lambda0))\n",
    "        .optimize(p0, max_iter, points=points, errs=errs)\n",
    "    ),\n",
    "}\n",
    "\n",
    "for name, optimizer in optimizer_functions.items():\n",
    "    print(\"Running \" + name)\n",
    "    optimizer(points=points[name], errs=errors[name])\n",
    "\n",
    "iters = np.arange(0, max_iter + 1)\n",
    "for label, err in errors.items():\n",
    "    try:\n",
    "        plt.plot(iters, err, label=label)\n",
    "    except:\n",
    "        print(\"error in plotting for \" + label)\n",
    "\n",
    "plt.legend(bbox_to_anchor=(1.05, 1), loc='upper left')\n",
    "plt.xlabel(\"Iterations\")\n",
    "plt.ylabel(\"Error\")\n",
    "plt.yscale(\"log\")\n",
    "plt.title(\"Comparative Error Analysis of Iterative Methods Over Iteration Counts\")\n",
    "plt.show()"
   ]
  },
  {
   "cell_type": "code",
   "execution_count": 134,
   "metadata": {},
   "outputs": [
    {
     "data": {
      "text/plain": [
       "(3.1000633386296155, 22.02271554554524, 3.5227373995414295, 4.101767902687757)"
      ]
     },
     "execution_count": 134,
     "metadata": {},
     "output_type": "execute_result"
    }
   ],
   "source": [
    "errors[NEWTON][-1], errors[GAUSS_NEWTON][-1], errors[GRADIENT_DESCENT][-1], errors[LEVENBERG_MARQUARDT_CONST_PARAM][-1]"
   ]
  },
  {
   "cell_type": "code",
   "execution_count": 149,
   "metadata": {},
   "outputs": [
    {
     "name": "stdout",
     "output_type": "stream",
     "text": [
      "Test 1:\n",
      "x = [1 2]\n",
      "y = [1.]\n",
      "F(x) = [0.89460419]\n",
      "error = 0.10539581089509986\n",
      "result: correct\n",
      "\n",
      "Test 2:\n",
      "x = [-1  2]\n",
      "y = [1.]\n",
      "F(x) = [0.93803876]\n",
      "error = 0.06196124155613625\n",
      "result: correct\n",
      "\n",
      "Test 3:\n",
      "x = [-1 -2]\n",
      "y = [0.]\n",
      "F(x) = [0.09136172]\n",
      "error = 0.09136172293928789\n",
      "result: correct\n",
      "\n",
      "Test 4:\n",
      "x = [ 1 -2]\n",
      "y = [0.]\n",
      "F(x) = [0.07410693]\n",
      "error = 0.07410692901450315\n",
      "result: correct\n",
      "\n",
      "Test 5:\n",
      "x = [ 10 -11]\n",
      "y = [0.]\n",
      "F(x) = [0.08641772]\n",
      "error = 0.08641771755185226\n",
      "result: correct\n",
      "\n",
      "Test 6:\n",
      "x = [-10  11]\n",
      "y = [1.]\n",
      "F(x) = [0.90428252]\n",
      "error = 0.09571747991046553\n",
      "result: correct\n",
      "\n",
      "Test 7:\n",
      "x = [-14  18]\n",
      "y = [1.]\n",
      "F(x) = [0.90423211]\n",
      "error = 0.09576788681581183\n",
      "result: correct\n",
      "\n"
     ]
    }
   ],
   "source": [
    "# tests\n",
    "params = points[NEWTON][-1]\n",
    "\n",
    "X_test = [\n",
    "    np.array([1, 2]), np.array([-1, 2]), np.array([-1, -2]), np.array([1, -2]), np.array([10, -11]), np.array([-10, 11]), np.array([-14, 18])\n",
    "]\n",
    "Y_test = [np.array([x[0] + x[1] >= 0]).astype(float) for x in X_test]\n",
    "\n",
    "for i, (x, y) in enumerate(zip(X_test, Y_test)):\n",
    "    print(\"Test \" + str(i + 1) + \":\")\n",
    "    print(\"x = \" + str(x))\n",
    "    print(\"y = \" + str(y))\n",
    "    print(\"F(x) = \" + str(F(x, params, layers)))\n",
    "    print(\"error = \" + str(np.linalg.norm(F(x, params, layers) - y)))\n",
    "    print(f\"result: {'correct' if np.linalg.norm(F(x, params, layers) - y) < 0.5 else 'incorrect'}\")\n",
    "    print()"
   ]
  }
 ],
 "metadata": {
  "kernelspec": {
   "display_name": "base",
   "language": "python",
   "name": "python3"
  },
  "language_info": {
   "codemirror_mode": {
    "name": "ipython",
    "version": 3
   },
   "file_extension": ".py",
   "mimetype": "text/x-python",
   "name": "python",
   "nbconvert_exporter": "python",
   "pygments_lexer": "ipython3",
   "version": "3.10.4"
  },
  "orig_nbformat": 4
 },
 "nbformat": 4,
 "nbformat_minor": 2
}
