{
 "cells": [
  {
   "cell_type": "code",
   "execution_count": 67,
   "metadata": {},
   "outputs": [],
   "source": [
    "from optimizers import *\n",
    "from functions import *\n",
    "import numpy as np\n",
    "import matplotlib.pyplot as plt"
   ]
  },
  {
   "attachments": {},
   "cell_type": "markdown",
   "metadata": {},
   "source": [
    "### Helper functions"
   ]
  },
  {
   "cell_type": "code",
   "execution_count": 68,
   "metadata": {},
   "outputs": [],
   "source": [
    "_infty = 1e16\n",
    "_zero = 1e-32\n",
    "\n",
    "def remove_nans_infs_and_zeros(arr):\n",
    "    arr = np.array(arr)\n",
    "    arr[np.isnan(arr)] = _infty\n",
    "    arr[np.isinf(arr)] = _infty\n",
    "    arr[arr > _infty] = _infty\n",
    "    arr[arr == 0] = _zero\n",
    "    arr[arr < _zero] = _zero\n",
    "    return arr"
   ]
  },
  {
   "attachments": {},
   "cell_type": "markdown",
   "metadata": {},
   "source": [
    "# A neural network"
   ]
  },
  {
   "cell_type": "code",
   "execution_count": 69,
   "metadata": {},
   "outputs": [],
   "source": [
    "def sigmoid(z):\n",
    "    return 1 / (1 + np.exp(-z))"
   ]
  },
  {
   "cell_type": "code",
   "execution_count": 70,
   "metadata": {},
   "outputs": [],
   "source": [
    "def F(x, p, layers):\n",
    "    assert x.shape[0] == layers[0]\n",
    "    \n",
    "    W = []\n",
    "    b = []\n",
    "    index = 0\n",
    "    for i in range(len(layers) - 1):\n",
    "        W.append(p[index:index + layers[i] * layers[i + 1]].reshape((layers[i + 1], layers[i])))\n",
    "        index += layers[i] * layers[i + 1]\n",
    "    for i in range(len(layers) - 1):\n",
    "        b.append(p[index:index + layers[i + 1]])\n",
    "        index += layers[i + 1]\n",
    "    \n",
    "    a = x\n",
    "    for i in range(len(layers) - 1):\n",
    "        a = sigmoid(W[i] @ a + b[i])\n",
    "    y = a\n",
    "    \n",
    "    assert y.shape[0] == layers[-1]\n",
    "    \n",
    "    return y"
   ]
  },
  {
   "cell_type": "code",
   "execution_count": 71,
   "metadata": {},
   "outputs": [],
   "source": [
    "def f(p, layers, X, Y):\n",
    "    res = np.array([np.linalg.norm(F(x, p, layers) - y) for x, y in zip(X, Y)])\n",
    "    return res"
   ]
  },
  {
   "cell_type": "code",
   "execution_count": 72,
   "metadata": {},
   "outputs": [],
   "source": [
    "def grad_C(p, layers, x, y):\n",
    "    assert x.shape[0] == layers[0]\n",
    "    assert y.shape[0] == layers[-1]\n",
    "    \n",
    "    W = []\n",
    "    b = []\n",
    "    index = 0\n",
    "    for i in range(len(layers) - 1):\n",
    "        W.append(p[index:index + layers[i] * layers[i + 1]].reshape((layers[i + 1], layers[i])))\n",
    "        index += layers[i] * layers[i + 1]\n",
    "    for i in range(len(layers) - 1):\n",
    "        b.append(p[index:index + layers[i + 1]])\n",
    "        index += layers[i + 1]\n",
    "    \n",
    "    a = [x]\n",
    "    z = []\n",
    "    for i in range(len(layers) - 1):\n",
    "        z.append(W[i] @ a[i] + b[i])\n",
    "        a.append(sigmoid(z[i]))\n",
    "    \n",
    "    delta = [sigmoid(z[-1]) * (1 - sigmoid(z[-1])) * (a[-1] - y)]\n",
    "    for i in range(len(layers) - 2, 0, -1):\n",
    "        delta.append(sigmoid(z[i - 1]) * (1 - sigmoid(z[i - 1])) * (W[i].T @ delta[-1]))\n",
    "    delta = delta[::-1]\n",
    "    \n",
    "    grad_W = []\n",
    "    for i in range(len(layers) - 1):\n",
    "        grad_W.append(delta[i].reshape((layers[i + 1], 1)) @ a[i].reshape((1, layers[i])))\n",
    "    \n",
    "    grad_b = delta\n",
    "    \n",
    "    grad = np.concatenate(([grad_W[i].flatten() for i in range(len(grad_W))] + [grad_b[i] for i in range(len(grad_b))]))\n",
    "    \n",
    "    assert grad.shape == p.shape\n",
    "    \n",
    "    return grad"
   ]
  },
  {
   "cell_type": "code",
   "execution_count": 73,
   "metadata": {},
   "outputs": [],
   "source": [
    "def hess_C(p, layers, x, y):\n",
    "    assert x.shape[0] == layers[0]\n",
    "    assert y.shape[0] == layers[-1]\n",
    "    \n",
    "    W = []\n",
    "    b = []\n",
    "    index = 0\n",
    "    for i in range(len(layers) - 1):\n",
    "        W.append(p[index:index + layers[i] * layers[i + 1]].reshape((layers[i + 1], layers[i])))\n",
    "        index += layers[i] * layers[i + 1]\n",
    "    for i in range(len(layers) - 1):\n",
    "        b.append(p[index:index + layers[i + 1]])\n",
    "        index += layers[i + 1]\n",
    "    \n",
    "    a = [x]\n",
    "    z = []\n",
    "    for i in range(len(layers) - 1):\n",
    "        z.append(W[i] @ a[i] + b[i])\n",
    "        a.append(sigmoid(z[i]))\n",
    "    \n",
    "    delta = [sigmoid(z[-1]) * (1 - sigmoid(z[-1])) * (a[-1] - y)]\n",
    "    for i in range(len(layers) - 2, 0, -1):\n",
    "        delta.append(sigmoid(z[i - 1]) * (1 - sigmoid(z[i - 1])) * (W[i].T @ delta[-1]))\n",
    "    delta = delta[::-1]\n",
    "    \n",
    "    grad_W = []\n",
    "    for i in range(len(layers) - 1):\n",
    "        grad_W.append(delta[i].reshape((layers[i + 1], 1)) @ a[i].reshape((1, layers[i])))\n",
    "    \n",
    "    grad_b = delta\n",
    "    \n",
    "    grad = np.concatenate(([grad_W[i].flatten() for i in range(len(grad_W))] + [grad_b[i] for i in range(len(grad_b))]))\n",
    "    \n",
    "    hess_W = []\n",
    "    for i in range(len(layers) - 1):\n",
    "        hess_W.append(np.zeros((layers[i + 1] * layers[i], layers[i + 1] * layers[i])))\n",
    "        for j in range(layers[i + 1]):\n",
    "            for k in range(layers[i]):\n",
    "                hess_W[i][j * layers[i] + k][j * layers[i] + k] = sigmoid(z[i][j]) * (1 - sigmoid(z[i][j])) * a[i][k]\n",
    "    \n",
    "    hess_b = []\n",
    "    for i in range(len(layers) - 1):\n",
    "        hess_b.append(np.zeros((layers[i + 1], layers[i + 1])))\n",
    "        for j in range(layers[i + 1]):\n",
    "            hess_b[i][j][j] = sigmoid(z[i][j]) * (1 - sigmoid(z[i][j]))\n",
    "\n",
    "    hess = np.zeros((p.shape[0], p.shape[0]))\n",
    "    index = 0\n",
    "    for i in range(len(layers) - 1):\n",
    "        hess[index:index + layers[i + 1] * layers[i], index:index + layers[i + 1] * layers[i]] = hess_W[i]\n",
    "        index += layers[i + 1] * layers[i]\n",
    "    for i in range(len(layers) - 1):\n",
    "        hess[index:index + layers[i + 1], index:index + layers[i + 1]] = hess_b[i]\n",
    "        index += layers[i + 1]\n",
    "\n",
    "    assert hess.shape == (p.shape[0], p.shape[0])\n",
    "\n",
    "    return hess"
   ]
  },
  {
   "attachments": {},
   "cell_type": "markdown",
   "metadata": {},
   "source": [
    "# Data\n",
    "\n",
    "$X_i$ - random 2 dimentional vector with entries from -50 to 50\n",
    "\n",
    "$Y_i$ - sum of entries of $X$ is greater than or equal 0"
   ]
  },
  {
   "cell_type": "code",
   "execution_count": 74,
   "metadata": {},
   "outputs": [
    {
     "data": {
      "text/plain": [
       "(array([[-33.1857882 ,   5.61331795],\n",
       "        [-18.1971369 ,  45.8067178 ],\n",
       "        [ 46.5734278 ,  12.01258806],\n",
       "        [ 11.74972677,  48.53785646],\n",
       "        [ 38.72831512,  26.50699492]]),\n",
       " array([[0., 1.],\n",
       "        [1., 0.],\n",
       "        [1., 0.],\n",
       "        [1., 0.],\n",
       "        [1., 0.]]))"
      ]
     },
     "execution_count": 74,
     "metadata": {},
     "output_type": "execute_result"
    }
   ],
   "source": [
    "num_samples = 50\n",
    "X = 100 * np.random.rand(num_samples, 2) - 50\n",
    "Y = np.vstack(((X[:, 0] + X[:, 1] >= 0).astype(float), (X[:, 0] + X[:, 1] < 0).astype(float))).T\n",
    "X[:5, :], Y[:5, :]"
   ]
  },
  {
   "attachments": {},
   "cell_type": "markdown",
   "metadata": {},
   "source": [
    "## The function"
   ]
  },
  {
   "cell_type": "code",
   "execution_count": 75,
   "metadata": {},
   "outputs": [
    {
     "data": {
      "text/plain": [
       "(42, 50)"
      ]
     },
     "execution_count": 75,
     "metadata": {},
     "output_type": "execute_result"
    }
   ],
   "source": [
    "layers = [2, 4, 4, 2]\n",
    "\n",
    "def r(p):\n",
    "    return f(p, layers, X, Y)\n",
    "\n",
    "def Dr(p):\n",
    "    return np.vstack([grad_C(p, layers, x, y) for x, y in zip(X, Y)])\n",
    "\n",
    "def Hr(p):\n",
    "    return np.vstack([hess_C(p, layers, x, y) for x, y in zip(X, Y)])\n",
    "\n",
    "N = X.shape[0]\n",
    "M = 0\n",
    "for i in range(len(layers) - 1):\n",
    "    M += layers[i] * layers[i + 1]\n",
    "for i in range(len(layers) - 1):\n",
    "    M += layers[i + 1]\n",
    "M, N"
   ]
  },
  {
   "cell_type": "code",
   "execution_count": 65,
   "metadata": {},
   "outputs": [],
   "source": [
    "R = Function(F=r, DF=Dr, D2F=Hr, M=M, N=N)"
   ]
  },
  {
   "attachments": {},
   "cell_type": "markdown",
   "metadata": {},
   "source": [
    "# Test different methods"
   ]
  },
  {
   "cell_type": "code",
   "execution_count": 66,
   "metadata": {},
   "outputs": [
    {
     "name": "stderr",
     "output_type": "stream",
     "text": [
      "Levenberg-Marquardt: 100%|██████████| 1000/1000 [00:10<00:00, 91.63it/s]\n",
      "Levenberg-Marquardt: 100%|██████████| 1000/1000 [00:30<00:00, 32.65it/s]\n",
      "Gauss-Newton:   0%|          | 0/1000 [00:00<?, ?it/s]C:\\Users\\matip\\AppData\\Local\\Temp\\ipykernel_4664\\3196251242.py:2: RuntimeWarning: overflow encountered in exp\n",
      "  return 1 / (1 + np.exp(-z))\n",
      "Gauss-Newton: 100%|██████████| 1000/1000 [00:11<00:00, 85.53it/s]\n",
      "Newton: 100%|██████████| 1000/1000 [00:36<00:00, 27.13it/s]\n",
      "Gradient descent: 100%|██████████| 1000/1000 [00:08<00:00, 111.55it/s]\n"
     ]
    },
    {
     "data": {
      "image/png": "[encoded data removed]",
      "text/plain": [
       "<Figure size 640x480 with 1 Axes>"
      ]
     },
     "metadata": {},
     "output_type": "display_data"
    }
   ],
   "source": [
    "max_iter = 1000\n",
    "p0 = np.random.randn(M)\n",
    "alpha_gd = 1e-3\n",
    "alpha_gn = 1.0\n",
    "lambda0 = 1.\n",
    "lambda_change = 1.1\n",
    "step_max_iter = 10\n",
    "step_tol = 1e-6\n",
    "\n",
    "errors_levenberg_marquardt_const_param = []\n",
    "errors_levenberg_marquardt_modifying_param = []\n",
    "errors_gauss_newton = []\n",
    "errors_gradient_descent = []\n",
    "errors_newton = []\n",
    "log_interval = 1\n",
    "\n",
    "optimizer = LevenbergMarquardt(\n",
    "    R=R, lambda_param_fun=LevenbergMarquardt.LambdaParamConstant(lambda0=lambda0)\n",
    ")\n",
    "optimizer.optimize(p0, max_iter, step_type=\"cgnr\", step_max_iter=step_max_iter, step_tol=step_tol, errs=errors_levenberg_marquardt_const_param, log_interval=log_interval)\n",
    "\n",
    "optimizer = LevenbergMarquardt(\n",
    "    R=R, lambda_param_fun=LevenbergMarquardt.LambdaParamDefaultModifier(lambda0=lambda0, lambda_change=lambda_change)\n",
    ")\n",
    "optimizer.optimize(p0, max_iter, step_type=\"cgnr\", step_max_iter=step_max_iter, step_tol=step_tol, errs=errors_levenberg_marquardt_modifying_param, log_interval=log_interval)\n",
    "\n",
    "gauss_newton(R=R, p0=p0, alpha=alpha_gn, max_iter=max_iter, errs=errors_gauss_newton, log_interval=log_interval)\n",
    "newton(R=R, p0=p0, max_iter=max_iter, alpha=alpha_gn, errs=errors_newton, log_interval=log_interval)\n",
    "gradient_descent(R=R, p0=p0, alpha=alpha_gd, max_iter=max_iter, errs=errors_gradient_descent, log_interval=log_interval)\n",
    "\n",
    "iters = np.arange(0, max_iter, log_interval)\n",
    "for err, label in [\n",
    "    (errors_newton, \"Newton\"),\n",
    "    (errors_gauss_newton, \"Gauss-Newton\"),\n",
    "    (errors_gradient_descent, \"Gradient descent\"),\n",
    "    (errors_levenberg_marquardt_const_param, \"Levenberg-Marquardt (const)\"),\n",
    "    (errors_levenberg_marquardt_modifying_param, \"Levenberg-Marquardt (changing)\"),\n",
    "]:\n",
    "    try:\n",
    "        plt.plot(iters, err, label=label)\n",
    "    except:\n",
    "        print(\"error in plotting for \" + label)\n",
    "\n",
    "plt.legend(bbox_to_anchor=(1.05, 1), loc='upper left')\n",
    "plt.xlabel(\"Iterations\")\n",
    "plt.ylabel(\"Error\")\n",
    "plt.yscale(\"log\")\n",
    "plt.title(\"Comparative Error Analysis of Iterative Methods Over Iteration Counts\")\n",
    "plt.show()"
   ]
  }
 ],
 "metadata": {
  "kernelspec": {
   "display_name": "base",
   "language": "python",
   "name": "python3"
  },
  "language_info": {
   "codemirror_mode": {
    "name": "ipython",
    "version": 3
   },
   "file_extension": ".py",
   "mimetype": "text/x-python",
   "name": "python",
   "nbconvert_exporter": "python",
   "pygments_lexer": "ipython3",
   "version": "3.10.4"
  },
  "orig_nbformat": 4
 },
 "nbformat": 4,
 "nbformat_minor": 2
}
