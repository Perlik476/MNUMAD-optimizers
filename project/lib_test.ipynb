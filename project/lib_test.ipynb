{
 "cells": [
  {
   "cell_type": "code",
   "execution_count": 10,
   "metadata": {},
   "outputs": [
    {
     "name": "stdout",
     "output_type": "stream",
     "text": [
      "The autoreload extension is already loaded. To reload it, use:\n",
      "  %reload_ext autoreload\n"
     ]
    }
   ],
   "source": [
    "%load_ext autoreload\n",
    "%autoreload 2"
   ]
  },
  {
   "cell_type": "code",
   "execution_count": 11,
   "metadata": {},
   "outputs": [],
   "source": [
    "import numpy as np\n",
    "from lib.functions import *"
   ]
  },
  {
   "cell_type": "code",
   "execution_count": 14,
   "metadata": {},
   "outputs": [
    {
     "name": "stdout",
     "output_type": "stream",
     "text": [
      "[ 0.20128798  0.78674913 20.08553692]\n",
      "[[ 0.43091675  0.21545838]\n",
      " [-0.55210564 -0.27605282]\n",
      " [20.08553692 20.08553692]]\n"
     ]
    }
   ],
   "source": [
    "sine = Function(F=np.sin, DF=np.cos, M=1, N=1)\n",
    "cosine = Function(F=np.cos, DF=lambda x: -np.sin(x), M=1, N=1)\n",
    "exp = Function(F=np.exp, DF=np.exp, M=1, N=1)\n",
    "norm = Function(F=np.linalg.norm, DF=lambda x: x / np.linalg.norm(x), M=2, N=1)\n",
    "sum = Function(F=np.sum, DF=np.ones_like, M=2, N=1)\n",
    "\n",
    "func = compose(sine, exp)\n",
    "func = compose(func, cosine)\n",
    "func = add(func, sine)\n",
    "func = compose(norm, func)\n",
    "\n",
    "F = stack(stack(func, compose(norm, sine)), compose(sum, exp))\n",
    "\n",
    "print(F(np.array([2,1])))\n",
    "print(F.differential(np.array([2,1])))"
   ]
  }
 ],
 "metadata": {
  "kernelspec": {
   "display_name": "Python 3",
   "language": "python",
   "name": "python3"
  },
  "language_info": {
   "codemirror_mode": {
    "name": "ipython",
    "version": 3
   },
   "file_extension": ".py",
   "mimetype": "text/x-python",
   "name": "python",
   "nbconvert_exporter": "python",
   "pygments_lexer": "ipython3",
   "version": "3.10.4"
  },
  "orig_nbformat": 4
 },
 "nbformat": 4,
 "nbformat_minor": 2
}
