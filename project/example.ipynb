{
 "cells": [
  {
   "attachments": {},
   "cell_type": "markdown",
   "metadata": {},
   "source": [
    "# WIP"
   ]
  },
  {
   "attachments": {},
   "cell_type": "markdown",
   "metadata": {},
   "source": [
    "## Example\n",
    "\n",
    "$$f_x(p) = f(x, p) = (f_1(x, p), \\, f_2(x, p)) = (p_0 x_0 + p_1 x_1 + p_2, \\, p_0 p_1 x_1 + x_0)$$\n",
    "\n",
    "$$\n",
    "Df_x(p) = \\begin{bmatrix}\n",
    "\\frac{\\partial f_0}{\\partial p_0} & \\frac{\\partial f_0}{\\partial p_1} & \\frac{\\partial f_0}{\\partial p_2} \\\\\n",
    "\\frac{\\partial f_1}{\\partial p_0} & \\frac{\\partial f_1}{\\partial p_1} & \\frac{\\partial f_1}{\\partial p_2}\n",
    "\\end{bmatrix}\n",
    "= \\begin{bmatrix}\n",
    "x_0 & x_1 & 1 \\\\\n",
    "p_1 x_1 & p_0 x_1 & 0\n",
    "\\end{bmatrix}\n",
    "$$\n",
    "\n",
    "$$R_x(p) = R(x, p) = (R_1(x, p), \\, R_2(x, p)) = (||f_1(x, p) - y_1||_2^2, \\, ||f_2(x, p) - y_2||_2^2)$$\n",
    "\n",
    "$$DR_x(p) = \\begin{bmatrix}\n",
    "\\frac{\\partial R_0}{\\partial p_0} & \\frac{\\partial R_0}{\\partial p_1} & \\frac{\\partial R_0}{\\partial p_2} \\\\\n",
    "\\frac{\\partial R_1}{\\partial p_0} & \\frac{\\partial R_1}{\\partial p_1} & \\frac{\\partial R_1}{\\partial p_2}\n",
    "\\end{bmatrix}\n",
    "= \\begin{bmatrix}\n",
    "2(f_1(x, p) - y_1) \\frac{\\partial f_1}{\\partial p_0} & 2(f_1(x, p) - y_1) \\frac{\\partial f_1}{\\partial p_1} & 2(f_1(x, p) - y_1) \\frac{\\partial f_1}{\\partial p_2} \\\\\n",
    "2(f_2(x, p) - y_2) \\frac{\\partial f_2}{\\partial p_0} & 2(f_2(x, p) - y_2) \\frac{\\partial f_2}{\\partial p_1} & 2(f_2(x, p) - y_2) \\frac{\\partial f_2}{\\partial p_2}\n",
    "\\end{bmatrix}\n"
   ]
  },
  {
   "cell_type": "code",
   "execution_count": 1,
   "metadata": {},
   "outputs": [],
   "source": [
    "import numpy as np"
   ]
  },
  {
   "cell_type": "code",
   "execution_count": 2,
   "metadata": {},
   "outputs": [],
   "source": [
    "xs = np.array([[1, 2], [2, 3], [3, 4], [4, 5]])\n",
    "ys = np.array([[1, 1], [2, 2], [3, 3], [4, 4]])\n",
    "\n",
    "def f(x: np.ndarray, p: np.ndarray) -> np.ndarray:\n",
    "    assert x.shape == (2,)\n",
    "    assert p.shape == (3,)\n",
    "\n",
    "    return np.array([\n",
    "        p[0] * x[0] + p[1] * x[1] + p[2],\n",
    "        p[0] * p[1] * x[1] + x[0]\n",
    "    ])\n",
    "\n",
    "def df(x: np.ndarray, p: np.ndarray) -> np.ndarray:\n",
    "    assert x.shape == (2,)\n",
    "    assert p.shape == (3,)\n",
    "\n",
    "    return np.array([\n",
    "        [x[0],        x[1],        1],\n",
    "        [p[1] * x[1], p[0] * x[1], 0]\n",
    "    ])\n",
    "\n",
    "def residue(f: callable, xs: np.ndarray, ys: np.ndarray, p: np.ndarray) -> np.ndarray:\n",
    "    assert xs.shape[1] == 2\n",
    "    assert ys.shape[1] == 2\n",
    "    assert p.shape == (3,)\n",
    "\n",
    "    fs = np.array([f(x, p) for x in xs])\n",
    "\n",
    "    return np.array([np.linalg.norm(row) for row in fs - ys])\n",
    "\n",
    "def residue_jacobian(f: callable, df: callable, ys: np.ndarray, xs: np.ndarray, p: np.ndarray) -> np.ndarray:\n",
    "    assert xs.shape[1] == 2\n",
    "    assert ys.shape[1] == 2\n",
    "    assert p.shape == (3,)\n",
    "\n",
    "    fs = np.array([f(x, p) for x in xs])\n",
    "    dfs = np.array([df(x, p) for x in xs])\n",
    "\n",
    "    return \n",
    "\n",
    "p0 = np.random.randn(3)\n",
    "alpha = 0.1\n",
    "max_iter = 1000"
   ]
  }
 ],
 "metadata": {
  "kernelspec": {
   "display_name": "Python 3",
   "language": "python",
   "name": "python3"
  },
  "language_info": {
   "codemirror_mode": {
    "name": "ipython",
    "version": 3
   },
   "file_extension": ".py",
   "mimetype": "text/x-python",
   "name": "python",
   "nbconvert_exporter": "python",
   "pygments_lexer": "ipython3",
   "version": "3.10.4"
  },
  "orig_nbformat": 4
 },
 "nbformat": 4,
 "nbformat_minor": 2
}
