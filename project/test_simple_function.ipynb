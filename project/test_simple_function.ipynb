{
 "cells": [
  {
   "cell_type": "code",
   "execution_count": 1,
   "metadata": {},
   "outputs": [],
   "source": [
    "from optimizers import *\n",
    "from functions import *\n",
    "import numpy as np\n",
    "import matplotlib.pyplot as plt\n",
    "from typing import Callable"
   ]
  },
  {
   "attachments": {},
   "cell_type": "markdown",
   "metadata": {},
   "source": [
    "## A simple function"
   ]
  },
  {
   "attachments": {},
   "cell_type": "markdown",
   "metadata": {},
   "source": [
    "$$N = 3, K = 2, p \\in \\R^N, \\forall_{0 \\leq i < N} \\, x^{[i]} \\in \\R^K, \\, y^{[i]} \\in \\R$$\n",
    "\n",
    "$$f : \\R^K \\times \\R^N \\to \\R, \\qquad f(x, p) = p_0^3 x_0 + p_1 x_1 + p_2 $$"
   ]
  },
  {
   "cell_type": "code",
   "execution_count": 2,
   "metadata": {},
   "outputs": [],
   "source": [
    "xs = np.array([[1, 2], [2, 3], [3, 4], [4, 5], [5, 6], [6, 7]])\n",
    "ys = np.array([1, 2, 3, 4, 5, 6])\n",
    "\n",
    "\n",
    "def f(x: np.ndarray, p: np.ndarray) -> np.ndarray:\n",
    "    assert x.shape == (2,)\n",
    "    assert p.shape == (3,)\n",
    "\n",
    "    return p[0]**3 * x[0] + p[1] * x[1] + p[2]\n",
    "\n",
    "\n",
    "def df(x: np.ndarray, p: np.ndarray) -> np.ndarray:\n",
    "    assert x.shape == (2,)\n",
    "    assert p.shape == (3,)\n",
    "\n",
    "    return np.array([3 * p[0]**2 * x[0], x[1], 1])\n",
    "\n",
    "def ddf(x: np.ndarray, p: np.ndarray) -> np.ndarray:\n",
    "    assert x.shape == (2,)\n",
    "    assert p.shape == (3,)\n",
    "\n",
    "    return np.array([[6 * p[0] * x[0], 0, 0], [0, 0, 0], [0, 0, 0]])\n",
    "\n",
    "\n",
    "def residue(\n",
    "    f: Callable[[np.ndarray, np.ndarray], np.ndarray],\n",
    "    xs: np.ndarray,\n",
    "    ys: np.ndarray,\n",
    "    p: np.ndarray,\n",
    ") -> np.ndarray:\n",
    "    assert xs.shape[1] == 2\n",
    "    assert xs.shape[0] == ys.shape[0]\n",
    "    assert p.shape == (3,)\n",
    "\n",
    "    fs = np.array([f(x, p) for x in xs])\n",
    "\n",
    "    return fs - ys\n",
    "\n",
    "\n",
    "def residue_jacobian(\n",
    "    df: Callable[[np.ndarray, np.ndarray], np.ndarray],\n",
    "    ys: np.ndarray,\n",
    "    xs: np.ndarray,\n",
    "    p: np.ndarray,\n",
    ") -> np.ndarray:\n",
    "    assert xs.shape[1] == 2\n",
    "    assert xs.shape[0] == ys.shape[0]\n",
    "    assert p.shape == (3,)\n",
    "\n",
    "    dfs = np.array([df(x, p) for x in xs])\n",
    "\n",
    "    return np.array([dfs[i] for i in range(len(xs))])\n",
    "\n",
    "def residue_hessian(\n",
    "    ddf: Callable[[np.ndarray, np.ndarray], np.ndarray],\n",
    "    ys: np.ndarray,\n",
    "    xs: np.ndarray,\n",
    "    p: np.ndarray,\n",
    ") -> np.ndarray:\n",
    "    assert xs.shape[1] == 2\n",
    "    assert xs.shape[0] == ys.shape[0]\n",
    "    assert p.shape == (3,)\n",
    "\n",
    "    ddfs = np.array([ddf(x, p) for x in xs])\n",
    "\n",
    "    return np.array([ddfs[i] for i in range(len(xs))])"
   ]
  },
  {
   "cell_type": "code",
   "execution_count": 3,
   "metadata": {},
   "outputs": [],
   "source": [
    "def R_value(p: np.ndarray) -> np.ndarray:\n",
    "    return residue(f, xs, ys, p)\n",
    "\n",
    "def R_derivative(p: np.ndarray) -> np.ndarray:\n",
    "    return residue_jacobian(df, ys, xs, p)\n",
    "\n",
    "def R_hessian(p: np.ndarray) -> np.ndarray:\n",
    "    return residue_hessian(ddf, ys, xs, p)\n",
    "\n",
    "F = Function(R_value, R_derivative, R_hessian, N=3, M=6)"
   ]
  },
  {
   "attachments": {},
   "cell_type": "markdown",
   "metadata": {},
   "source": [
    "## Performence tests"
   ]
  },
  {
   "cell_type": "code",
   "execution_count": 4,
   "metadata": {},
   "outputs": [
    {
     "name": "stdout",
     "output_type": "stream",
     "text": [
      "Running Newton\n"
     ]
    },
    {
     "name": "stderr",
     "output_type": "stream",
     "text": [
      "Newton:   0%|          | 0/500 [00:00<?, ?it/s]"
     ]
    },
    {
     "name": "stderr",
     "output_type": "stream",
     "text": [
      "Newton: 100%|██████████| 500/500 [00:00<00:00, 4033.56it/s]\n"
     ]
    },
    {
     "name": "stdout",
     "output_type": "stream",
     "text": [
      "Running Gauss-Newton\n"
     ]
    },
    {
     "name": "stderr",
     "output_type": "stream",
     "text": [
      "Gauss-Newton: 100%|██████████| 500/500 [00:00<00:00, 8623.58it/s]\n"
     ]
    },
    {
     "name": "stdout",
     "output_type": "stream",
     "text": [
      "Running Gradient descent\n"
     ]
    },
    {
     "name": "stderr",
     "output_type": "stream",
     "text": [
      "Gradient descent: 100%|██████████| 500/500 [00:00<00:00, 12504.48it/s]\n"
     ]
    },
    {
     "name": "stdout",
     "output_type": "stream",
     "text": [
      "Running Levenberg-Marquardt (const)\n"
     ]
    },
    {
     "name": "stderr",
     "output_type": "stream",
     "text": [
      "Levenberg-Marquardt: 100%|██████████| 500/500 [00:00<00:00, 6174.85it/s]\n"
     ]
    },
    {
     "name": "stdout",
     "output_type": "stream",
     "text": [
      "Running Levenberg-Marquardt (modifying)\n"
     ]
    },
    {
     "name": "stderr",
     "output_type": "stream",
     "text": [
      "Levenberg-Marquardt: 100%|██████████| 500/500 [00:00<00:00, 1992.68it/s]\n"
     ]
    },
    {
     "data": {
      "image/png": "[encoded data removed]",
      "text/plain": [
       "<Figure size 640x480 with 1 Axes>"
      ]
     },
     "metadata": {},
     "output_type": "display_data"
    }
   ],
   "source": [
    "M = 3\n",
    "max_iter = 500\n",
    "p0 = np.random.randn(M)\n",
    "alpha_gd = 1e-3\n",
    "alpha_gn = 1.0\n",
    "lambda0 = 1e-2\n",
    "lambda_change = 1.1\n",
    "step_max_iter = 10\n",
    "step_tol = 1e-6\n",
    "\n",
    "NEWTON = \"Newton\"\n",
    "GAUSS_NEWTON = \"Gauss-Newton\"\n",
    "GRADIENT_DESCENT = \"Gradient descent\"\n",
    "LEVENBERG_MARQUARDT_CONST_PARAM = \"Levenberg-Marquardt (const)\"\n",
    "LEVENBERG_MARQUARDT_MODIFYING_PARAM = \"Levenberg-Marquardt (modifying)\"\n",
    "optimizer_names = [\n",
    "    GRADIENT_DESCENT,\n",
    "    NEWTON,\n",
    "    GAUSS_NEWTON,\n",
    "    LEVENBERG_MARQUARDT_CONST_PARAM,\n",
    "    LEVENBERG_MARQUARDT_MODIFYING_PARAM,\n",
    "]\n",
    "\n",
    "errors = {name: [] for name in optimizer_names}\n",
    "points = {name: [] for name in optimizer_names}\n",
    "\n",
    "optimizer_functions = {\n",
    "    NEWTON: lambda points, errs: newton(R=F, p0=p0, max_iter=max_iter, alpha=alpha_gn, points=points, errs=errs),\n",
    "    GAUSS_NEWTON: lambda points, errs: gauss_newton(R=F, p0=p0, alpha=alpha_gn, max_iter=max_iter, points=points, errs=errs),\n",
    "    GRADIENT_DESCENT: lambda points, errs: gradient_descent(R=F, p0=p0, alpha=alpha_gd, max_iter=max_iter, points=points, errs=errs),\n",
    "    LEVENBERG_MARQUARDT_CONST_PARAM: lambda points, errs: (\n",
    "        LevenbergMarquardt(R=F, lambda_param_fun=LevenbergMarquardt.LambdaParamConstant(lambda0=lambda0))\n",
    "        .optimize(p0, max_iter, step_type=\"cgnr\", step_max_iter=step_max_iter, step_tol=step_tol, points=points, errs=errs)\n",
    "    ),\n",
    "    LEVENBERG_MARQUARDT_MODIFYING_PARAM: lambda points, errs: (\n",
    "        LevenbergMarquardt(R=F, lambda_param_fun=LevenbergMarquardt.LambdaParamDefaultModifier(lambda0=lambda0, lambda_change=lambda_change))\n",
    "        .optimize(p0, max_iter, step_type=\"cgnr\", step_max_iter=step_max_iter, step_tol=step_tol, points=points, errs=errs)\n",
    "    ),\n",
    "}\n",
    "\n",
    "for name, optimizer in optimizer_functions.items():\n",
    "    print(\"Running \" + name)\n",
    "    optimizer(points=points[name], errs=errors[name])\n",
    "\n",
    "iters = np.arange(0, max_iter + 1)\n",
    "for label, err in errors.items():\n",
    "    try:\n",
    "        plt.plot(iters, err, label=label)\n",
    "    except:\n",
    "        print(\"error in plotting for \" + label)\n",
    "\n",
    "plt.legend(bbox_to_anchor=(1.05, 1), loc='upper left')\n",
    "plt.xlabel(\"Iterations\")\n",
    "plt.ylabel(\"Error\")\n",
    "plt.yscale(\"log\")\n",
    "plt.title(\"Comparative Error Analysis of Iterative Methods Over Iteration Counts\")\n",
    "plt.show()"
   ]
  }
 ],
 "metadata": {
  "kernelspec": {
   "display_name": "Python 3",
   "language": "python",
   "name": "python3"
  },
  "language_info": {
   "codemirror_mode": {
    "name": "ipython",
    "version": 3
   },
   "file_extension": ".py",
   "mimetype": "text/x-python",
   "name": "python",
   "nbconvert_exporter": "python",
   "pygments_lexer": "ipython3",
   "version": "3.10.4"
  },
  "orig_nbformat": 4
 },
 "nbformat": 4,
 "nbformat_minor": 2
}
