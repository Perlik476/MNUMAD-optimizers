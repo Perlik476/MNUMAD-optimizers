{
 "cells": [
  {
   "cell_type": "code",
   "execution_count": 4,
   "metadata": {},
   "outputs": [],
   "source": [
    "from optimizers import *\n",
    "from functions import *\n",
    "import numpy as np\n",
    "import matplotlib.pyplot as plt\n",
    "from typing import Callable"
   ]
  },
  {
   "attachments": {},
   "cell_type": "markdown",
   "metadata": {},
   "source": [
    "#### Helper functions"
   ]
  },
  {
   "cell_type": "code",
   "execution_count": 5,
   "metadata": {},
   "outputs": [],
   "source": [
    "_infty = 1e32\n",
    "_zero = 1e-32\n",
    "\n",
    "def remove_nans_infs_and_zeros(arr):\n",
    "    arr = np.array(arr)\n",
    "    arr[np.isnan(arr)] = _infty\n",
    "    arr[np.isinf(arr)] = _infty\n",
    "    arr[arr > _infty] = _infty\n",
    "    arr[arr == 0] = _zero\n",
    "    arr[arr < _zero] = _zero\n",
    "    return arr"
   ]
  },
  {
   "attachments": {},
   "cell_type": "markdown",
   "metadata": {},
   "source": [
    "## A simple function"
   ]
  },
  {
   "attachments": {},
   "cell_type": "markdown",
   "metadata": {},
   "source": [
    "$$M = 3, K = 2, p \\in \\R^M, \\forall_{0 \\leq i < N} \\, x^{[i]} \\in \\R^K, \\, y^{[i]} \\in \\R$$\n",
    "\n",
    "$$f : \\R^K \\times \\R^M \\to \\R, \\qquad f(x, p) = p_0^3 x_0 + p_1 x_1 + p_2 $$\n",
    "\n",
    "$$ D_pf(x, p) = \\left[\\frac{\\partial f}{\\partial p_0}(x, p), \\frac{\\partial f}{\\partial p_1}(x, p), \\frac{\\partial f}{\\partial p_2}(x, p)\\right]^T = [3p_0^2x_0, x_1, 1]^T$$\n",
    "\n",
    "$$ R : \\R^M \\to \\R^N, \\qquad R(p) = \\left[f(x^{[i]}, p) - y^{[i]}\\right]_{0 \\leq i < N} $$\n",
    "\n",
    "$$ DR(p) = \\left[\\frac{\\partial f}{\\partial p_j}(x^{[i]}, p)\\right]_{0 \\leq i < N, 0 \\leq j < M}$$"
   ]
  },
  {
   "cell_type": "code",
   "execution_count": 6,
   "metadata": {},
   "outputs": [],
   "source": [
    "xs = np.array([[1, 2], [2, 3], [3, 4], [4, 5], [5, 6], [6, 7]])\n",
    "ys = np.array([1, 2, 3, 4, 5, 6])\n",
    "\n",
    "\n",
    "def f(x: np.ndarray, p: np.ndarray) -> np.ndarray:\n",
    "    assert x.shape == (2,)\n",
    "    assert p.shape == (3,)\n",
    "\n",
    "    return p[0]**3 * x[0] + p[1] * x[1] + p[2]\n",
    "\n",
    "\n",
    "def df(x: np.ndarray, p: np.ndarray) -> np.ndarray:\n",
    "    assert x.shape == (2,)\n",
    "    assert p.shape == (3,)\n",
    "\n",
    "    return np.array([3 * p[0]**2 * x[0], x[1], 1])\n",
    "\n",
    "\n",
    "def residue(\n",
    "    f: Callable[[np.ndarray, np.ndarray], np.ndarray],\n",
    "    xs: np.ndarray,\n",
    "    ys: np.ndarray,\n",
    "    p: np.ndarray,\n",
    ") -> np.ndarray:\n",
    "    assert xs.shape[1] == 2\n",
    "    assert xs.shape[0] == ys.shape[0]\n",
    "    assert p.shape == (3,)\n",
    "\n",
    "    fs = np.array([f(x, p) for x in xs])\n",
    "\n",
    "    return fs - ys\n",
    "\n",
    "\n",
    "def residue_jacobian(\n",
    "    f: Callable[[np.ndarray, np.ndarray], np.ndarray],\n",
    "    df: Callable[[np.ndarray, np.ndarray], np.ndarray],\n",
    "    ys: np.ndarray,\n",
    "    xs: np.ndarray,\n",
    "    p: np.ndarray,\n",
    ") -> np.ndarray:\n",
    "    assert xs.shape[1] == 2\n",
    "    assert xs.shape[0] == ys.shape[0]\n",
    "    assert p.shape == (3,)\n",
    "\n",
    "    dfs = np.array([df(x, p) for x in xs])\n",
    "\n",
    "    return np.array([dfs[i] for i in range(len(xs))])"
   ]
  },
  {
   "cell_type": "code",
   "execution_count": 7,
   "metadata": {},
   "outputs": [],
   "source": [
    "def R_value(p: np.ndarray) -> np.ndarray:\n",
    "    return residue(f, xs, ys, p)\n",
    "\n",
    "def R_derivative(p: np.ndarray) -> np.ndarray:\n",
    "    return residue_jacobian(f, df, ys, xs, p)\n",
    "\n",
    "R = Function(R_value, R_derivative, 3, 6)"
   ]
  },
  {
   "cell_type": "code",
   "execution_count": 8,
   "metadata": {},
   "outputs": [],
   "source": [
    "# test that the function works properly\n",
    "# p = np.array([1, 1, 1])\n",
    "# R(p), R.differential(p)"
   ]
  },
  {
   "attachments": {},
   "cell_type": "markdown",
   "metadata": {},
   "source": [
    "## Hyperparameters"
   ]
  },
  {
   "cell_type": "code",
   "execution_count": 9,
   "metadata": {},
   "outputs": [],
   "source": [
    "p0 = np.array([1.4, 0.6, -3.14])\n",
    "max_iter = 1000\n",
    "max_iter_gd = 100000"
   ]
  },
  {
   "attachments": {},
   "cell_type": "markdown",
   "metadata": {},
   "source": [
    "## Gradient descent method"
   ]
  },
  {
   "cell_type": "code",
   "execution_count": 10,
   "metadata": {},
   "outputs": [
    {
     "name": "stdout",
     "output_type": "stream",
     "text": [
      "p=array([ 0.14185906,  0.99714523, -0.99714523]), err=7.568440112723174e-14\n"
     ]
    }
   ],
   "source": [
    "p, err = gradient_descent(R, p0, 1e-3, max_iter_gd)\n",
    "print(f\"{p=}, {err=}\")"
   ]
  },
  {
   "cell_type": "code",
   "execution_count": 310,
   "metadata": {},
   "outputs": [
    {
     "data": {
      "text/plain": [
       "array([1., 2., 3., 4., 5., 6.])"
      ]
     },
     "execution_count": 310,
     "metadata": {},
     "output_type": "execute_result"
    }
   ],
   "source": [
    "np.array([f(xs[i], p) for i in range(len(xs))])"
   ]
  },
  {
   "attachments": {},
   "cell_type": "markdown",
   "metadata": {},
   "source": [
    "## Gauss-Newton method"
   ]
  },
  {
   "cell_type": "code",
   "execution_count": 311,
   "metadata": {},
   "outputs": [
    {
     "name": "stdout",
     "output_type": "stream",
     "text": [
      "p=array([ -2.39913597,  14.80907489, -14.80907489]), err=0.0\n"
     ]
    }
   ],
   "source": [
    "p, err = gauss_newton(R, p0, max_iter, step_type=\"cholesky\")\n",
    "print(f\"{p=}, {err=}\")"
   ]
  },
  {
   "cell_type": "code",
   "execution_count": 312,
   "metadata": {},
   "outputs": [
    {
     "data": {
      "text/plain": [
       "array([1., 2., 3., 4., 5., 6.])"
      ]
     },
     "execution_count": 312,
     "metadata": {},
     "output_type": "execute_result"
    }
   ],
   "source": [
    "np.array([f(xs[i], p) for i in range(len(xs))])"
   ]
  },
  {
   "cell_type": "code",
   "execution_count": 313,
   "metadata": {},
   "outputs": [
    {
     "name": "stdout",
     "output_type": "stream",
     "text": [
      "p=array([ 0.05259731,  0.99985449, -0.99985449]), err=4.965068306494546e-16\n"
     ]
    }
   ],
   "source": [
    "p, err = gauss_newton(R, p0, max_iter, step_type=\"least_squares\")\n",
    "print(f\"{p=}, {err=}\")"
   ]
  },
  {
   "attachments": {},
   "cell_type": "markdown",
   "metadata": {},
   "source": [
    "## Levenberg-Marquardt method"
   ]
  },
  {
   "attachments": {},
   "cell_type": "markdown",
   "metadata": {},
   "source": [
    "#### 1. Constant $\\lambda_k$ sequence"
   ]
  },
  {
   "cell_type": "code",
   "execution_count": 314,
   "metadata": {},
   "outputs": [],
   "source": [
    "lambda_param = 1e-3\n",
    "optimizer = LevenbergMarquardt(\n",
    "    R=R, lambda_param_fun=LevenbergMarquardt.LambdaParamConstant(lambda0=lambda_param)\n",
    ")"
   ]
  },
  {
   "cell_type": "code",
   "execution_count": 315,
   "metadata": {},
   "outputs": [
    {
     "name": "stdout",
     "output_type": "stream",
     "text": [
      "p=array([ 0.05259135,  0.99985454, -0.99985454]), err=9.155133597044475e-16\n"
     ]
    }
   ],
   "source": [
    "p, err = optimizer.optimize(p0, max_iter, step_type=\"cholesky\")\n",
    "print(f\"{p=}, {err=}\")"
   ]
  },
  {
   "cell_type": "code",
   "execution_count": 316,
   "metadata": {},
   "outputs": [
    {
     "data": {
      "text/plain": [
       "array([1., 2., 3., 4., 5., 6.])"
      ]
     },
     "execution_count": 316,
     "metadata": {},
     "output_type": "execute_result"
    }
   ],
   "source": [
    "np.array([f(xs[i], p) for i in range(len(xs))])"
   ]
  },
  {
   "cell_type": "code",
   "execution_count": 317,
   "metadata": {},
   "outputs": [
    {
     "name": "stdout",
     "output_type": "stream",
     "text": [
      "p=array([ 0.05259135,  0.99985454, -0.99985454]), err=8.881784197001252e-16\n"
     ]
    }
   ],
   "source": [
    "p, err = optimizer.optimize(p0, max_iter, step_type=\"least_squares\")\n",
    "print(f\"{p=}, {err=}\")"
   ]
  },
  {
   "cell_type": "code",
   "execution_count": 318,
   "metadata": {},
   "outputs": [
    {
     "name": "stdout",
     "output_type": "stream",
     "text": [
      "p=array([ 0.05259135,  0.99985454, -0.99985454]), err=0.0\n"
     ]
    }
   ],
   "source": [
    "p, err = optimizer.optimize(p0, max_iter, step_type=\"cgnr\")\n",
    "print(f\"{p=}, {err=}\")"
   ]
  },
  {
   "cell_type": "code",
   "execution_count": 319,
   "metadata": {},
   "outputs": [
    {
     "name": "stdout",
     "output_type": "stream",
     "text": [
      "p=array([ 0.05259135,  0.99985454, -0.99985454]), err=4.440892098500626e-16\n"
     ]
    }
   ],
   "source": [
    "p, err = optimizer.optimize(p0, max_iter, step_type=\"svd\")\n",
    "print(f\"{p=}, {err=}\")"
   ]
  },
  {
   "attachments": {},
   "cell_type": "markdown",
   "metadata": {},
   "source": [
    "#### 2. Sequence $\\lambda_k$ decrasing when error is decreasing, and increasing otherwise"
   ]
  },
  {
   "cell_type": "code",
   "execution_count": 320,
   "metadata": {},
   "outputs": [],
   "source": [
    "optimizer = LevenbergMarquardt(\n",
    "    R=R,\n",
    "    lambda_param_fun=LevenbergMarquardt.LambdaParamDefaultModifier(\n",
    "        lambda0=0.1, lambda_change=2\n",
    "    ),\n",
    ")"
   ]
  },
  {
   "cell_type": "code",
   "execution_count": 321,
   "metadata": {},
   "outputs": [
    {
     "name": "stdout",
     "output_type": "stream",
     "text": [
      "p=array([ 0.04875107,  0.99988413, -0.99988413]), err=0.0\n"
     ]
    }
   ],
   "source": [
    "p, err = optimizer.optimize(p0, max_iter, step_type=\"cholesky\")\n",
    "print(f\"{p=}, {err=}\")"
   ]
  },
  {
   "cell_type": "code",
   "execution_count": 322,
   "metadata": {},
   "outputs": [
    {
     "data": {
      "text/plain": [
       "array([1., 2., 3., 4., 5., 6.])"
      ]
     },
     "execution_count": 322,
     "metadata": {},
     "output_type": "execute_result"
    }
   ],
   "source": [
    "np.array([f(xs[i], p) for i in range(len(xs))])"
   ]
  },
  {
   "cell_type": "code",
   "execution_count": 323,
   "metadata": {},
   "outputs": [
    {
     "name": "stdout",
     "output_type": "stream",
     "text": [
      "p=array([ 0.04875107,  0.99988413, -0.99988413]), err=0.0\n"
     ]
    }
   ],
   "source": [
    "p, err = optimizer.optimize(p0, max_iter, step_type=\"least_squares\")\n",
    "print(f\"{p=}, {err=}\")"
   ]
  },
  {
   "cell_type": "code",
   "execution_count": 324,
   "metadata": {},
   "outputs": [
    {
     "name": "stdout",
     "output_type": "stream",
     "text": [
      "p=array([ 0.04875107,  0.99988413, -0.99988413]), err=4.577566798522237e-16\n"
     ]
    }
   ],
   "source": [
    "p, err = optimizer.optimize(p0, max_iter, step_type=\"cgnr\")\n",
    "print(f\"{p=}, {err=}\")"
   ]
  },
  {
   "cell_type": "code",
   "execution_count": 325,
   "metadata": {},
   "outputs": [
    {
     "name": "stdout",
     "output_type": "stream",
     "text": [
      "p=array([ 0.04875107,  0.99988413, -0.99988413]), err=0.0\n"
     ]
    }
   ],
   "source": [
    "p, err = optimizer.optimize(p0, max_iter, step_type=\"svd\")\n",
    "print(f\"{p=}, {err=}\")"
   ]
  },
  {
   "attachments": {},
   "cell_type": "markdown",
   "metadata": {},
   "source": [
    "## Test parameters"
   ]
  },
  {
   "cell_type": "code",
   "execution_count": 327,
   "metadata": {},
   "outputs": [
    {
     "name": "stdout",
     "output_type": "stream",
     "text": [
      "lambda_param: 1e-13 (1/16)\n",
      "lambda_param: 1e-12 (2/16)\n",
      "lambda_param: 1e-11 (3/16)\n",
      "lambda_param: 1e-10 (4/16)\n",
      "lambda_param: 1e-09 (5/16)\n",
      "lambda_param: 1e-08 (6/16)\n",
      "lambda_param: 1e-07 (7/16)\n",
      "lambda_param: 1e-06 (8/16)\n",
      "lambda_param: 1e-05 (9/16)\n",
      "lambda_param: 0.0001 (10/16)\n"
     ]
    },
    {
     "name": "stderr",
     "output_type": "stream",
     "text": [
      "C:\\Users\\matip\\AppData\\Local\\Temp\\ipykernel_13004\\3481244988.py:16: RuntimeWarning: overflow encountered in scalar power\n",
      "  return np.array([3 * p[0]**2 * x[0], x[1], 1])\n",
      "C:\\Users\\matip\\AppData\\Local\\Temp\\ipykernel_13004\\3481244988.py:9: RuntimeWarning: overflow encountered in scalar power\n",
      "  return p[0]**3 * x[0] + p[1] * x[1] + p[2]\n"
     ]
    },
    {
     "name": "stdout",
     "output_type": "stream",
     "text": [
      "lambda_param: 0.001 (11/16)\n",
      "lambda_param: 0.01 (12/16)\n",
      "lambda_param: 0.1 (13/16)\n",
      "lambda_param: 1.0 (14/16)\n",
      "lambda_param: 10.0 (15/16)\n",
      "lambda_param: 100.0 (16/16)\n",
      "Gauss-Newton (step_type='least_squares') failed in iteration nr 69. Returning current point.\n",
      "Gauss-Newton (step_type='least_squares') failed in iteration nr 69. Returning current point.\n",
      "Gauss-Newton (step_type='least_squares') failed in iteration nr 69. Returning current point.\n",
      "Gauss-Newton (step_type='least_squares') failed in iteration nr 69. Returning current point.\n",
      "Gauss-Newton (step_type='least_squares') failed in iteration nr 69. Returning current point.\n"
     ]
    }
   ],
   "source": [
    "lambda_params = [float(10**i) for i in range(-13, 3)]\n",
    "np.random.seed(42)\n",
    "p0s = [2**i * np.random.randn(3) for i in range(5)]\n",
    "max_iter = 100\n",
    "max_iter_gd = 1000\n",
    "\n",
    "errors_levenberg_marquardt_const_param = []\n",
    "errors_levenberg_marquardt_modifying_param = []\n",
    "errors_gauss_newton = []\n",
    "errors_gradient_descent = []\n",
    "\n",
    "for i, lambda_param in enumerate(lambda_params):\n",
    "    print(f\"lambda_param: {lambda_param} ({i + 1}/{len(lambda_params)})\")\n",
    "    optimizer = LevenbergMarquardt(\n",
    "        R=R, lambda_param_fun=LevenbergMarquardt.LambdaParamConstant(lambda0=lambda_param)\n",
    "    )\n",
    "\n",
    "    errs = []\n",
    "    for p0 in p0s:\n",
    "        p, err = optimizer.optimize(p0, max_iter)\n",
    "        errs.append(err)\n",
    "    errors_levenberg_marquardt_const_param.append(errs)\n",
    "\n",
    "    optimizer = LevenbergMarquardt(\n",
    "        R=R, lambda_param_fun=LevenbergMarquardt.LambdaParamDefaultModifier(lambda0=lambda_param, lambda_change=2)\n",
    "    )\n",
    "\n",
    "    errs = []\n",
    "    for p0 in p0s:\n",
    "        p, err = optimizer.optimize(p0, max_iter)\n",
    "        errs.append(err)\n",
    "    errors_levenberg_marquardt_modifying_param.append(errs)\n",
    "\n",
    "    errs = []\n",
    "    for p0 in p0s:\n",
    "        p, err = gauss_newton(R=R, p0=p0, alpha=lambda_param, max_iter=max_iter)\n",
    "        errs.append(err)\n",
    "    errors_gauss_newton.append(errs)\n",
    "\n",
    "    errs = []\n",
    "    for p0 in p0s:\n",
    "        p, err = gradient_descent(R=R, p0=p0, alpha=lambda_param, max_iter=max_iter)\n",
    "        errs.append(err)\n",
    "    errors_gradient_descent.append(errs)"
   ]
  },
  {
   "cell_type": "code",
   "execution_count": 328,
   "metadata": {},
   "outputs": [],
   "source": [
    "errors_mean_lm_const = np.mean(errors_levenberg_marquardt_const_param, axis=1)\n",
    "errors_mean_lm_const = remove_nans_infs_and_zeros(errors_mean_lm_const)\n",
    "\n",
    "errors_mean_lm_mod = np.mean(errors_levenberg_marquardt_modifying_param, axis=1)\n",
    "errors_mean_lm_mod = remove_nans_infs_and_zeros(errors_mean_lm_mod)\n",
    "\n",
    "errors_gn_mean = np.mean(errors_gauss_newton, axis=1)\n",
    "errors_gn_mean = remove_nans_infs_and_zeros(errors_gn_mean)\n",
    "\n",
    "errors_gd_mean = np.mean(errors_gradient_descent, axis=1)\n",
    "errors_gd_mean = remove_nans_infs_and_zeros(errors_gd_mean)"
   ]
  },
  {
   "cell_type": "code",
   "execution_count": 329,
   "metadata": {},
   "outputs": [
    {
     "data": {
      "image/png": "[encoded data removed]",
      "text/plain": [
       "<Figure size 640x480 with 1 Axes>"
      ]
     },
     "metadata": {},
     "output_type": "display_data"
    }
   ],
   "source": [
    "plt.loglog(lambda_params, errors_mean_lm_const, label=\"L-M (const)\")\n",
    "plt.loglog(lambda_params, errors_mean_lm_mod, label=\"L-M (changing)\")\n",
    "plt.loglog(lambda_params, errors_gn_mean, label=\"G-N\")\n",
    "plt.loglog(lambda_params, errors_gd_mean, label=\"GD\")\n",
    "\n",
    "plt.legend()\n",
    "plt.xlabel(\"lambda / alpha\")\n",
    "plt.ylabel(\"mean error\")\n",
    "plt.title(\"Mean error of multiple runs for different algorithms and lambda/alpha values\")\n",
    "plt.show()"
   ]
  },
  {
   "attachments": {},
   "cell_type": "markdown",
   "metadata": {},
   "source": [
    "## Test number of iterations"
   ]
  },
  {
   "cell_type": "code",
   "execution_count": 334,
   "metadata": {},
   "outputs": [
    {
     "name": "stdout",
     "output_type": "stream",
     "text": [
      "max_iter: 1 (1/14)\n",
      "max_iter: 2 (2/14)\n",
      "max_iter: 4 (3/14)\n",
      "max_iter: 8 (4/14)\n",
      "max_iter: 16 (5/14)\n",
      "max_iter: 32 (6/14)\n",
      "max_iter: 64 (7/14)\n",
      "max_iter: 128 (8/14)\n",
      "max_iter: 256 (9/14)\n",
      "max_iter: 512 (10/14)\n",
      "max_iter: 1024 (11/14)\n",
      "max_iter: 2048 (12/14)\n",
      "max_iter: 4096 (13/14)\n",
      "max_iter: 8192 (14/14)\n"
     ]
    }
   ],
   "source": [
    "max_iters = [2**i for i in range(0, 14)]\n",
    "np.random.seed(42)\n",
    "p0s = [2**i * np.random.randn(3) for i in range(5)]\n",
    "alpha_gd = 1e-6\n",
    "alpha_gn = 1.\n",
    "lambda0 = 1.\n",
    "lambda_change = 2.\n",
    "\n",
    "errors_levenberg_marquardt_const_param = []\n",
    "errors_levenberg_marquardt_modifying_param = []\n",
    "errors_gauss_newton = []\n",
    "errors_gradient_descent = []\n",
    "\n",
    "for i, max_iter in enumerate(max_iters):\n",
    "    print(f\"max_iter: {max_iter} ({i + 1}/{len(max_iters)})\")\n",
    "    optimizer = LevenbergMarquardt(\n",
    "        R=R, lambda_param_fun=LevenbergMarquardt.LambdaParamConstant(lambda0=lambda0)\n",
    "    )\n",
    "\n",
    "    errs = []\n",
    "    for p0 in p0s:\n",
    "        p, err = optimizer.optimize(p0, max_iter)\n",
    "        errs.append(err)\n",
    "    errors_levenberg_marquardt_const_param.append(errs)\n",
    "\n",
    "    optimizer = LevenbergMarquardt(\n",
    "        R=R, lambda_param_fun=LevenbergMarquardt.LambdaParamDefaultModifier(lambda0=lambda0, lambda_change=lambda_change)\n",
    "    )\n",
    "\n",
    "    errs = []\n",
    "    for p0 in p0s:\n",
    "        p, err = optimizer.optimize(p0, max_iter)\n",
    "        errs.append(err)\n",
    "    errors_levenberg_marquardt_modifying_param.append(errs)\n",
    "\n",
    "    errs = []\n",
    "    for p0 in p0s:\n",
    "        p, err = gauss_newton(R=R, p0=p0, alpha=alpha_gn, max_iter=max_iter)\n",
    "        errs.append(err)\n",
    "    errors_gauss_newton.append(errs)\n",
    "\n",
    "    errs = []\n",
    "    for p0 in p0s:\n",
    "        p, err = gradient_descent(R=R, p0=p0, alpha=alpha_gd, max_iter=max_iter)\n",
    "        errs.append(err)\n",
    "    errors_gradient_descent.append(errs)"
   ]
  },
  {
   "cell_type": "code",
   "execution_count": 335,
   "metadata": {},
   "outputs": [],
   "source": [
    "errors_mean_lm_const = np.mean(errors_levenberg_marquardt_const_param, axis=1)\n",
    "errors_mean_lm_const = remove_nans_infs_and_zeros(errors_mean_lm_const)\n",
    "\n",
    "errors_mean_lm_mod = np.mean(errors_levenberg_marquardt_modifying_param, axis=1)\n",
    "errors_mean_lm_mod = remove_nans_infs_and_zeros(errors_mean_lm_mod)\n",
    "\n",
    "errors_gn_mean = np.mean(errors_gauss_newton, axis=1)\n",
    "errors_gn_mean = remove_nans_infs_and_zeros(errors_gn_mean)\n",
    "\n",
    "errors_gd_mean = np.mean(errors_gradient_descent, axis=1)\n",
    "errors_gd_mean = remove_nans_infs_and_zeros(errors_gd_mean)"
   ]
  },
  {
   "cell_type": "code",
   "execution_count": 336,
   "metadata": {},
   "outputs": [
    {
     "data": {
      "image/png": "[encoded data removed]",
      "text/plain": [
       "<Figure size 640x480 with 1 Axes>"
      ]
     },
     "metadata": {},
     "output_type": "display_data"
    }
   ],
   "source": [
    "plt.loglog(max_iters, errors_mean_lm_const, label=\"L-M (const)\")\n",
    "plt.loglog(max_iters, errors_mean_lm_mod, label=\"L-M (changing)\")\n",
    "plt.loglog(max_iters, errors_gn_mean, label=\"G-N\")\n",
    "plt.loglog(max_iters, errors_gd_mean, label=\"GD\")\n",
    "\n",
    "plt.legend()\n",
    "plt.xlabel(\"max iterations\")\n",
    "plt.ylabel(\"mean error\")\n",
    "plt.title(\"Mean error of multiple runs for different algorithms and max iterations\")\n",
    "plt.show()"
   ]
  },
  {
   "cell_type": "code",
   "execution_count": 11,
   "metadata": {},
   "outputs": [
    {
     "name": "stdout",
     "output_type": "stream",
     "text": [
      "max_iter: 1 (1/14)\n",
      "max_iter: 2 (2/14)\n",
      "max_iter: 4 (3/14)\n",
      "max_iter: 8 (4/14)\n",
      "max_iter: 16 (5/14)\n",
      "max_iter: 32 (6/14)\n"
     ]
    },
    {
     "name": "stderr",
     "output_type": "stream",
     "text": [
      "<ipython-input-6-064a23ad633b>:9: RuntimeWarning: overflow encountered in scalar power\n",
      "  return p[0]**3 * x[0] + p[1] * x[1] + p[2]\n",
      "/mnt/27e923d6-8904-475e-905f-978834da3357/second/uw/ml-numerki/project/optimizers.py:36: RuntimeWarning: overflow encountered in matmul\n",
      "  p = p - alpha * DR(p).T @ R(p)\n",
      "<ipython-input-6-064a23ad633b>:16: RuntimeWarning: overflow encountered in scalar power\n",
      "  return np.array([3 * p[0]**2 * x[0], x[1], 1])\n",
      "/mnt/27e923d6-8904-475e-905f-978834da3357/second/uw/ml-numerki/project/optimizers.py:36: RuntimeWarning: invalid value encountered in subtract\n",
      "  p = p - alpha * DR(p).T @ R(p)\n"
     ]
    },
    {
     "name": "stdout",
     "output_type": "stream",
     "text": [
      "max_iter: 64 (7/14)\n",
      "max_iter: 128 (8/14)\n",
      "max_iter: 256 (9/14)\n",
      "max_iter: 512 (10/14)\n",
      "max_iter: 1024 (11/14)\n",
      "max_iter: 2048 (12/14)\n",
      "max_iter: 4096 (13/14)\n",
      "max_iter: 8192 (14/14)\n"
     ]
    }
   ],
   "source": [
    "max_iters = [2**i for i in range(0, 14)]\n",
    "np.random.seed(42)\n",
    "p0s = [2**i * np.random.randn(3) for i in range(12, 15)]\n",
    "alpha_gd = 2 * 1e-18\n",
    "alpha_gn = 1.\n",
    "lambda0 = 1.\n",
    "lambda_change = 2.\n",
    "\n",
    "errors_levenberg_marquardt_const_param = []\n",
    "errors_levenberg_marquardt_modifying_param = []\n",
    "errors_gauss_newton = []\n",
    "errors_gradient_descent = []\n",
    "\n",
    "for i, max_iter in enumerate(max_iters):\n",
    "    print(f\"max_iter: {max_iter} ({i + 1}/{len(max_iters)})\")\n",
    "    optimizer = LevenbergMarquardt(\n",
    "        R=R, lambda_param_fun=LevenbergMarquardt.LambdaParamConstant(lambda0=lambda0)\n",
    "    )\n",
    "\n",
    "    errs = []\n",
    "    for p0 in p0s:\n",
    "        p, err = optimizer.optimize(p0, max_iter)\n",
    "        errs.append(err)\n",
    "    errors_levenberg_marquardt_const_param.append(errs)\n",
    "\n",
    "    optimizer = LevenbergMarquardt(\n",
    "        R=R, lambda_param_fun=LevenbergMarquardt.LambdaParamDefaultModifier(lambda0=lambda0, lambda_change=lambda_change)\n",
    "    )\n",
    "\n",
    "    errs = []\n",
    "    for p0 in p0s:\n",
    "        p, err = optimizer.optimize(p0, max_iter)\n",
    "        errs.append(err)\n",
    "    errors_levenberg_marquardt_modifying_param.append(errs)\n",
    "\n",
    "    errs = []\n",
    "    for p0 in p0s:\n",
    "        p, err = gauss_newton(R=R, p0=p0, alpha=alpha_gn, max_iter=max_iter)\n",
    "        errs.append(err)\n",
    "    errors_gauss_newton.append(errs)\n",
    "\n",
    "    errs = []\n",
    "    for p0 in p0s:\n",
    "        p, err = gradient_descent(R=R, p0=p0, alpha=alpha_gd, max_iter=max_iter)\n",
    "        errs.append(err)\n",
    "    errors_gradient_descent.append(errs)"
   ]
  },
  {
   "cell_type": "code",
   "execution_count": 12,
   "metadata": {},
   "outputs": [],
   "source": [
    "errors_mean_lm_const = np.mean(errors_levenberg_marquardt_const_param, axis=1)\n",
    "errors_mean_lm_const = remove_nans_infs_and_zeros(errors_mean_lm_const)\n",
    "\n",
    "errors_mean_lm_mod = np.mean(errors_levenberg_marquardt_modifying_param, axis=1)\n",
    "errors_mean_lm_mod = remove_nans_infs_and_zeros(errors_mean_lm_mod)\n",
    "\n",
    "errors_gn_mean = np.mean(errors_gauss_newton, axis=1)\n",
    "errors_gn_mean = remove_nans_infs_and_zeros(errors_gn_mean)\n",
    "\n",
    "errors_gd_mean = np.mean(errors_gradient_descent, axis=1)\n",
    "errors_gd_mean = remove_nans_infs_and_zeros(errors_gd_mean)"
   ]
  },
  {
   "cell_type": "code",
   "execution_count": 13,
   "metadata": {},
   "outputs": [
    {
     "data": {
      "image/png": "[encoded data removed]",
      "text/plain": [
       "<Figure size 432x288 with 1 Axes>"
      ]
     },
     "metadata": {
      "needs_background": "light"
     },
     "output_type": "display_data"
    }
   ],
   "source": [
    "plt.loglog(max_iters, errors_mean_lm_const, label=\"L-M (const)\")\n",
    "plt.loglog(max_iters, errors_mean_lm_mod, label=\"L-M (changing)\")\n",
    "plt.loglog(max_iters, errors_gn_mean, label=\"G-N\")\n",
    "plt.loglog(max_iters, errors_gd_mean, label=\"GD\")\n",
    "\n",
    "plt.legend()\n",
    "plt.xlabel(\"max iterations\")\n",
    "plt.ylabel(\"mean error\")\n",
    "plt.title(\"Mean error of multiple runs with initial points far from 0 for different algorithms and max iterations\")\n",
    "plt.show()"
   ]
  }
 ],
 "metadata": {
  "kernelspec": {
   "display_name": "Python 3",
   "language": "python",
   "name": "python3"
  },
  "language_info": {
   "codemirror_mode": {
    "name": "ipython",
    "version": 3
   },
   "file_extension": ".py",
   "mimetype": "text/x-python",
   "name": "python",
   "nbconvert_exporter": "python",
   "pygments_lexer": "ipython3",
   "version": "3.10.9"
  },
  "orig_nbformat": 4
 },
 "nbformat": 4,
 "nbformat_minor": 2
}
