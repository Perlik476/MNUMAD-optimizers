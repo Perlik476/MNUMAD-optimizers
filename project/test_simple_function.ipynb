{
 "cells": [
  {
   "cell_type": "code",
   "execution_count": 248,
   "metadata": {},
   "outputs": [
    {
     "name": "stdout",
     "output_type": "stream",
     "text": [
      "The autoreload extension is already loaded. To reload it, use:\n",
      "  %reload_ext autoreload\n"
     ]
    }
   ],
   "source": [
    "%load_ext autoreload\n",
    "%autoreload 2"
   ]
  },
  {
   "cell_type": "code",
   "execution_count": 249,
   "metadata": {},
   "outputs": [],
   "source": [
    "from lib.optimizers import *\n",
    "from lib.functions import *\n",
    "import numpy as np\n",
    "import matplotlib.pyplot as plt\n",
    "from typing import Callable"
   ]
  },
  {
   "attachments": {},
   "cell_type": "markdown",
   "metadata": {},
   "source": [
    "## A simple function"
   ]
  },
  {
   "attachments": {},
   "cell_type": "markdown",
   "metadata": {},
   "source": [
    "$$M = 3, K = 2, p \\in \\R^M, \\forall_{0 \\leq i < N} \\, x^{[i]} \\in \\R^K, \\, y^{[i]} \\in \\R$$\n",
    "\n",
    "$$f : \\R^K \\times \\R^M \\to \\R, \\qquad f(x, p) = p_0^2 x_0 + p_1 x_1 + p_2 $$\n",
    "\n",
    "$$ D_pf(x, p) = \\left[\\frac{\\partial f}{\\partial p_0}(x, p), \\frac{\\partial f}{\\partial p_1}(x, p), \\frac{\\partial f}{\\partial p_2}(x, p)\\right]^T = [2p_0x_0, x_1, 1]^T$$\n",
    "\n",
    "$$ R : \\R^M \\to \\R^N, \\qquad R(p) = \\left[f(x^{[i]}, p) - y^{[i]}\\right]_{0 \\leq i < N} $$\n",
    "\n",
    "$$ DR(p) = \\left[\\frac{\\partial f}{\\partial p_j}(x^{[i]}, p)\\right]_{0 \\leq i < N, 0 \\leq j < M}$$"
   ]
  },
  {
   "cell_type": "code",
   "execution_count": 250,
   "metadata": {},
   "outputs": [],
   "source": [
    "xs = np.array([[1, 2], [2, 3], [3, 4], [4, 5], [5, 6], [6, 7]])\n",
    "ys = np.array([1, 2, 3, 4, 5, 6])\n",
    "\n",
    "\n",
    "def f(x: np.ndarray, p: np.ndarray) -> np.ndarray:\n",
    "    assert x.shape == (2,)\n",
    "    assert p.shape == (3,)\n",
    "\n",
    "    return p[0]**2 * x[0] + p[1] * x[1] + p[2]\n",
    "\n",
    "\n",
    "def df(x: np.ndarray, p: np.ndarray) -> np.ndarray:\n",
    "    assert x.shape == (2,)\n",
    "    assert p.shape == (3,)\n",
    "\n",
    "    return np.array([2 * p[0] * x[0], x[1], 1])\n",
    "\n",
    "\n",
    "def residue(\n",
    "    f: Callable[[np.ndarray, np.ndarray], np.ndarray],\n",
    "    xs: np.ndarray,\n",
    "    ys: np.ndarray,\n",
    "    p: np.ndarray,\n",
    ") -> np.ndarray:\n",
    "    assert xs.shape[1] == 2\n",
    "    assert xs.shape[0] == ys.shape[0]\n",
    "    assert p.shape == (3,)\n",
    "\n",
    "    fs = np.array([f(x, p) for x in xs])\n",
    "\n",
    "    return fs - ys\n",
    "\n",
    "\n",
    "def residue_jacobian(\n",
    "    f: Callable[[np.ndarray, np.ndarray], np.ndarray],\n",
    "    df: Callable[[np.ndarray, np.ndarray], np.ndarray],\n",
    "    ys: np.ndarray,\n",
    "    xs: np.ndarray,\n",
    "    p: np.ndarray,\n",
    ") -> np.ndarray:\n",
    "    assert xs.shape[1] == 2\n",
    "    assert xs.shape[0] == ys.shape[0]\n",
    "    assert p.shape == (3,)\n",
    "\n",
    "    dfs = np.array([df(x, p) for x in xs])\n",
    "\n",
    "    return np.array([dfs[i] for i in range(len(xs))])"
   ]
  },
  {
   "cell_type": "code",
   "execution_count": 252,
   "metadata": {},
   "outputs": [],
   "source": [
    "def R_value(p: np.ndarray) -> np.ndarray:\n",
    "    return residue(f, xs, ys, p)\n",
    "\n",
    "def R_derivative(p: np.ndarray) -> np.ndarray:\n",
    "    return residue_jacobian(f, df, ys, xs, p)\n",
    "\n",
    "R = Function(R_value, R_derivative, 3, 6)"
   ]
  },
  {
   "cell_type": "code",
   "execution_count": 253,
   "metadata": {},
   "outputs": [],
   "source": [
    "# test that the function works properly\n",
    "# p = np.array([1, 1, 1])\n",
    "# R(p), R.differential(p)"
   ]
  },
  {
   "attachments": {},
   "cell_type": "markdown",
   "metadata": {},
   "source": [
    "## Hyperparameters"
   ]
  },
  {
   "cell_type": "code",
   "execution_count": 254,
   "metadata": {},
   "outputs": [],
   "source": [
    "# p0 = np.random.randn(3)\n",
    "p0 = np.array([1.4, 0.6, -3.14])\n",
    "max_iter = 1000\n",
    "max_iter_gd = 100000"
   ]
  },
  {
   "attachments": {},
   "cell_type": "markdown",
   "metadata": {},
   "source": [
    "## Gradient descent method"
   ]
  },
  {
   "cell_type": "code",
   "execution_count": 255,
   "metadata": {},
   "outputs": [
    {
     "name": "stdout",
     "output_type": "stream",
     "text": [
      "p=array([ 0.0419632 ,  0.99823909, -0.99823909]), err=6.009209679696455e-14\n"
     ]
    }
   ],
   "source": [
    "p, err = gradient_descent(R, p0, 1e-3, max_iter_gd)\n",
    "print(f\"{p=}, {err=}\")"
   ]
  },
  {
   "cell_type": "code",
   "execution_count": 256,
   "metadata": {},
   "outputs": [
    {
     "data": {
      "text/plain": [
       "array([1., 2., 3., 4., 5., 6.])"
      ]
     },
     "execution_count": 256,
     "metadata": {},
     "output_type": "execute_result"
    }
   ],
   "source": [
    "np.array([f(xs[i], p) for i in range(len(xs))])"
   ]
  },
  {
   "attachments": {},
   "cell_type": "markdown",
   "metadata": {},
   "source": [
    "## Gauss-Newton method"
   ]
  },
  {
   "cell_type": "code",
   "execution_count": 257,
   "metadata": {},
   "outputs": [
    {
     "name": "stdout",
     "output_type": "stream",
     "text": [
      "p=array([ 1.72571447, -1.97809043,  1.97809043]), err=1.790180836524724e-15\n"
     ]
    }
   ],
   "source": [
    "p, err = gauss_newton(R, p0, max_iter, step_type=\"cholesky\")\n",
    "print(f\"{p=}, {err=}\")"
   ]
  },
  {
   "cell_type": "code",
   "execution_count": 258,
   "metadata": {},
   "outputs": [
    {
     "data": {
      "text/plain": [
       "array([1., 2., 3., 4., 5., 6.])"
      ]
     },
     "execution_count": 258,
     "metadata": {},
     "output_type": "execute_result"
    }
   ],
   "source": [
    "np.array([f(xs[i], p) for i in range(len(xs))])"
   ]
  },
  {
   "cell_type": "code",
   "execution_count": 259,
   "metadata": {},
   "outputs": [
    {
     "name": "stdout",
     "output_type": "stream",
     "text": [
      "p=array([ 0.03481567,  0.99878787, -0.99878787]), err=0.0\n"
     ]
    }
   ],
   "source": [
    "p, err = gauss_newton(R, p0, max_iter, step_type=\"least_squares\")\n",
    "print(f\"{p=}, {err=}\")"
   ]
  },
  {
   "attachments": {},
   "cell_type": "markdown",
   "metadata": {},
   "source": [
    "## Levenberg-Marquardt method"
   ]
  },
  {
   "attachments": {},
   "cell_type": "markdown",
   "metadata": {},
   "source": [
    "#### 1. Constant $\\lambda_k$ sequence"
   ]
  },
  {
   "cell_type": "code",
   "execution_count": 260,
   "metadata": {},
   "outputs": [],
   "source": [
    "lambda_param = 1e-3\n",
    "optimizer = LevenbergMarquardt(\n",
    "    R=R, lambda_param_fun=LevenbergMarquardt.LambdaParamConstant(lambda0=lambda_param)\n",
    ")"
   ]
  },
  {
   "cell_type": "code",
   "execution_count": 261,
   "metadata": {},
   "outputs": [
    {
     "name": "stdout",
     "output_type": "stream",
     "text": [
      "p=array([ 0.03483186,  0.99878674, -0.99878674]), err=4.577566798522237e-16\n"
     ]
    }
   ],
   "source": [
    "p, err = optimizer.optimize(p0, max_iter, step_type=\"cholesky\")\n",
    "print(f\"{p=}, {err=}\")"
   ]
  },
  {
   "cell_type": "code",
   "execution_count": 262,
   "metadata": {},
   "outputs": [
    {
     "data": {
      "text/plain": [
       "array([1., 2., 3., 4., 5., 6.])"
      ]
     },
     "execution_count": 262,
     "metadata": {},
     "output_type": "execute_result"
    }
   ],
   "source": [
    "np.array([f(xs[i], p) for i in range(len(xs))])"
   ]
  },
  {
   "cell_type": "code",
   "execution_count": 263,
   "metadata": {},
   "outputs": [
    {
     "name": "stdout",
     "output_type": "stream",
     "text": [
      "p=array([ 0.03483186,  0.99878674, -0.99878674]), err=8.881784197001252e-16\n"
     ]
    }
   ],
   "source": [
    "p, err = optimizer.optimize(p0, max_iter, step_type=\"least_squares\")\n",
    "print(f\"{p=}, {err=}\")"
   ]
  },
  {
   "cell_type": "code",
   "execution_count": 264,
   "metadata": {},
   "outputs": [
    {
     "name": "stdout",
     "output_type": "stream",
     "text": [
      "p=array([ 0.03483186,  0.99878674, -0.99878674]), err=0.0\n"
     ]
    }
   ],
   "source": [
    "p, err = optimizer.optimize(p0, max_iter, step_type=\"cgnr\")\n",
    "print(f\"{p=}, {err=}\")"
   ]
  },
  {
   "cell_type": "code",
   "execution_count": 265,
   "metadata": {},
   "outputs": [
    {
     "name": "stdout",
     "output_type": "stream",
     "text": [
      "p=array([ 0.03483186,  0.99878674, -0.99878674]), err=8.881784197001252e-16\n"
     ]
    }
   ],
   "source": [
    "p, err = optimizer.optimize(p0, max_iter, step_type=\"svd\")\n",
    "print(f\"{p=}, {err=}\")"
   ]
  },
  {
   "attachments": {},
   "cell_type": "markdown",
   "metadata": {},
   "source": [
    "#### 2. Sequence $\\lambda_k$ decrasing when error is decreasing, and increasing otherwise"
   ]
  },
  {
   "cell_type": "code",
   "execution_count": 266,
   "metadata": {},
   "outputs": [],
   "source": [
    "optimizer = LevenbergMarquardt(\n",
    "    R=R,\n",
    "    lambda_param_fun=LevenbergMarquardt.LambdaParamDefaultModifier(\n",
    "        lambda0=0.1, lambda_change=2\n",
    "    ),\n",
    ")"
   ]
  },
  {
   "cell_type": "code",
   "execution_count": 267,
   "metadata": {},
   "outputs": [
    {
     "name": "stdout",
     "output_type": "stream",
     "text": [
      "p=array([ 0.03932075,  0.99845388, -0.99845388]), err=2.220446049250313e-16\n"
     ]
    }
   ],
   "source": [
    "p, err = optimizer.optimize(p0, max_iter, step_type=\"cholesky\")\n",
    "print(f\"{p=}, {err=}\")"
   ]
  },
  {
   "cell_type": "code",
   "execution_count": 268,
   "metadata": {},
   "outputs": [
    {
     "data": {
      "text/plain": [
       "array([1., 2., 3., 4., 5., 6.])"
      ]
     },
     "execution_count": 268,
     "metadata": {},
     "output_type": "execute_result"
    }
   ],
   "source": [
    "np.array([f(xs[i], p) for i in range(len(xs))])"
   ]
  },
  {
   "cell_type": "code",
   "execution_count": 269,
   "metadata": {},
   "outputs": [
    {
     "name": "stdout",
     "output_type": "stream",
     "text": [
      "p=array([ 0.03932075,  0.99845388, -0.99845388]), err=0.0\n"
     ]
    }
   ],
   "source": [
    "p, err = optimizer.optimize(p0, max_iter, step_type=\"least_squares\")\n",
    "print(f\"{p=}, {err=}\")"
   ]
  },
  {
   "cell_type": "code",
   "execution_count": 270,
   "metadata": {},
   "outputs": [
    {
     "name": "stdout",
     "output_type": "stream",
     "text": [
      "p=array([ 0.03932075,  0.99845388, -0.99845388]), err=0.0\n"
     ]
    }
   ],
   "source": [
    "p, err = optimizer.optimize(p0, max_iter, step_type=\"cgnr\")\n",
    "print(f\"{p=}, {err=}\")"
   ]
  },
  {
   "cell_type": "code",
   "execution_count": 271,
   "metadata": {},
   "outputs": [
    {
     "name": "stdout",
     "output_type": "stream",
     "text": [
      "p=array([ 0.03932075,  0.99845388, -0.99845388]), err=0.0\n"
     ]
    }
   ],
   "source": [
    "p, err = optimizer.optimize(p0, max_iter, step_type=\"svd\")\n",
    "print(f\"{p=}, {err=}\")"
   ]
  },
  {
   "attachments": {},
   "cell_type": "markdown",
   "metadata": {},
   "source": [
    "#### Helper functions"
   ]
  },
  {
   "cell_type": "code",
   "execution_count": 272,
   "metadata": {},
   "outputs": [],
   "source": [
    "_infty = 1e32\n",
    "_zero = 1e-32\n",
    "\n",
    "def remove_nans_infs_and_zeros(arr):\n",
    "    arr = np.array(arr)\n",
    "    arr[np.isnan(arr)] = _infty\n",
    "    arr[np.isinf(arr)] = _infty\n",
    "    arr[arr > _infty] = _infty\n",
    "    arr[arr == 0] = _zero\n",
    "    arr[arr < _zero] = _zero\n",
    "    return arr"
   ]
  },
  {
   "attachments": {},
   "cell_type": "markdown",
   "metadata": {},
   "source": [
    "## Test parameters"
   ]
  },
  {
   "cell_type": "code",
   "execution_count": 273,
   "metadata": {},
   "outputs": [
    {
     "name": "stdout",
     "output_type": "stream",
     "text": [
      "lambda_param: 1e-13 (1/16)\n",
      "lambda_param: 1e-12 (2/16)\n",
      "lambda_param: 1e-11 (3/16)\n",
      "lambda_param: 1e-10 (4/16)\n",
      "lambda_param: 1e-09 (5/16)\n",
      "lambda_param: 1e-08 (6/16)\n",
      "lambda_param: 1e-07 (7/16)\n",
      "lambda_param: 1e-06 (8/16)\n",
      "lambda_param: 1e-05 (9/16)\n",
      "lambda_param: 0.0001 (10/16)\n",
      "lambda_param: 0.001 (11/16)\n"
     ]
    },
    {
     "name": "stderr",
     "output_type": "stream",
     "text": [
      "C:\\Users\\matip\\AppData\\Local\\Temp\\ipykernel_13004\\3709267070.py:9: RuntimeWarning: overflow encountered in scalar power\n",
      "  return p[0]**2 * x[0] + p[1] * x[1] + p[2]\n",
      "C:\\Users\\matip\\AppData\\Local\\Temp\\ipykernel_13004\\3709267070.py:9: RuntimeWarning: invalid value encountered in scalar add\n",
      "  return p[0]**2 * x[0] + p[1] * x[1] + p[2]\n"
     ]
    },
    {
     "name": "stdout",
     "output_type": "stream",
     "text": [
      "lambda_param: 0.01 (12/16)\n"
     ]
    },
    {
     "name": "stderr",
     "output_type": "stream",
     "text": [
      "c:\\Users\\matip\\Documents\\UW\\ml-numerki\\project\\lib\\optimizers.py:36: RuntimeWarning: overflow encountered in matmul\n",
      "  p = p - alpha * DR(p).T @ R(p)\n",
      "c:\\Users\\matip\\Documents\\UW\\ml-numerki\\project\\lib\\optimizers.py:36: RuntimeWarning: invalid value encountered in subtract\n",
      "  p = p - alpha * DR(p).T @ R(p)\n"
     ]
    },
    {
     "name": "stdout",
     "output_type": "stream",
     "text": [
      "lambda_param: 0.1 (13/16)\n",
      "lambda_param: 1.0 (14/16)\n",
      "lambda_param: 10.0 (15/16)\n",
      "lambda_param: 100.0 (16/16)\n",
      "Gauss-Newton (step_type='least_squares') failed in iteration nr 92. Returning current point.\n",
      "Gauss-Newton (step_type='least_squares') failed in iteration nr 92. Returning current point.\n",
      "Gauss-Newton (step_type='least_squares') failed in iteration nr 92. Returning current point.\n",
      "Gauss-Newton (step_type='least_squares') failed in iteration nr 92. Returning current point.\n",
      "Gauss-Newton (step_type='least_squares') failed in iteration nr 92. Returning current point.\n"
     ]
    },
    {
     "name": "stderr",
     "output_type": "stream",
     "text": [
      "C:\\Users\\matip\\AppData\\Local\\Temp\\ipykernel_13004\\3709267070.py:9: RuntimeWarning: overflow encountered in scalar multiply\n",
      "  return p[0]**2 * x[0] + p[1] * x[1] + p[2]\n"
     ]
    }
   ],
   "source": [
    "lambda_params = [float(10**i) for i in range(-13, 3)]\n",
    "np.random.seed(42)\n",
    "p0s = [2**i * np.random.randn(3) for i in range(5)]\n",
    "max_iter = 100\n",
    "max_iter_gd = 1000\n",
    "\n",
    "errors_levenberg_marquardt_const_param = []\n",
    "errors_levenberg_marquardt_modifying_param = []\n",
    "errors_gauss_newton = []\n",
    "errors_gradient_descent = []\n",
    "\n",
    "for i, lambda_param in enumerate(lambda_params):\n",
    "    print(f\"lambda_param: {lambda_param} ({i + 1}/{len(lambda_params)})\")\n",
    "    optimizer = LevenbergMarquardt(\n",
    "        R=R, lambda_param_fun=LevenbergMarquardt.LambdaParamConstant(lambda0=lambda_param)\n",
    "    )\n",
    "\n",
    "    errs = []\n",
    "    for p0 in p0s:\n",
    "        p, err = optimizer.optimize(p0, max_iter)\n",
    "        errs.append(err)\n",
    "    errors_levenberg_marquardt_const_param.append(errs)\n",
    "\n",
    "    optimizer = LevenbergMarquardt(\n",
    "        R=R, lambda_param_fun=LevenbergMarquardt.LambdaParamDefaultModifier(lambda0=lambda_param, lambda_change=2)\n",
    "    )\n",
    "\n",
    "    errs = []\n",
    "    for p0 in p0s:\n",
    "        p, err = optimizer.optimize(p0, max_iter)\n",
    "        errs.append(err)\n",
    "    errors_levenberg_marquardt_modifying_param.append(errs)\n",
    "\n",
    "    errs = []\n",
    "    for p0 in p0s:\n",
    "        p, err = gauss_newton(R=R, p0=p0, alpha=lambda_param, max_iter=max_iter)\n",
    "        errs.append(err)\n",
    "    errors_gauss_newton.append(errs)\n",
    "\n",
    "    errs = []\n",
    "    for p0 in p0s:\n",
    "        p, err = gradient_descent(R=R, p0=p0, alpha=lambda_param, max_iter=max_iter)\n",
    "        errs.append(err)\n",
    "    errors_gradient_descent.append(errs)"
   ]
  },
  {
   "cell_type": "code",
   "execution_count": 274,
   "metadata": {},
   "outputs": [],
   "source": [
    "errors_mean_lm_const = np.mean(errors_levenberg_marquardt_const_param, axis=1)\n",
    "errors_mean_lm_const = remove_nans_infs_and_zeros(errors_mean_lm_const)\n",
    "\n",
    "errors_mean_lm_mod = np.mean(errors_levenberg_marquardt_modifying_param, axis=1)\n",
    "errors_mean_lm_mod = remove_nans_infs_and_zeros(errors_mean_lm_mod)\n",
    "\n",
    "errors_gn_mean = np.mean(errors_gauss_newton, axis=1)\n",
    "errors_gn_mean = remove_nans_infs_and_zeros(errors_gn_mean)\n",
    "\n",
    "errors_gd_mean = np.mean(errors_gradient_descent, axis=1)\n",
    "errors_gd_mean = remove_nans_infs_and_zeros(errors_gd_mean)"
   ]
  },
  {
   "cell_type": "code",
   "execution_count": 275,
   "metadata": {},
   "outputs": [
    {
     "data": {
      "image/png": "[encoded data removed]",
      "text/plain": [
       "<Figure size 640x480 with 1 Axes>"
      ]
     },
     "metadata": {},
     "output_type": "display_data"
    }
   ],
   "source": [
    "plt.loglog(lambda_params, errors_mean_lm_const, label=\"L-M (const)\")\n",
    "plt.loglog(lambda_params, errors_mean_lm_mod, label=\"L-M (changing)\")\n",
    "plt.loglog(lambda_params, errors_gn_mean, label=\"G-N\")\n",
    "plt.loglog(lambda_params, errors_gd_mean, label=\"GD\")\n",
    "\n",
    "plt.legend()\n",
    "plt.xlabel(\"lambda / alpha\")\n",
    "plt.ylabel(\"mean error\")\n",
    "plt.title(\"Mean error of multiple runs for different algorithms and lambda/alpha values\")\n",
    "plt.show()"
   ]
  },
  {
   "attachments": {},
   "cell_type": "markdown",
   "metadata": {},
   "source": [
    "## Test number of iterations"
   ]
  },
  {
   "cell_type": "code",
   "execution_count": 276,
   "metadata": {},
   "outputs": [
    {
     "name": "stdout",
     "output_type": "stream",
     "text": [
      "max_iter: 1 (1/14)\n",
      "max_iter: 2 (2/14)\n",
      "max_iter: 4 (3/14)\n",
      "max_iter: 8 (4/14)\n",
      "max_iter: 16 (5/14)\n",
      "max_iter: 32 (6/14)\n",
      "max_iter: 64 (7/14)\n",
      "max_iter: 128 (8/14)\n",
      "max_iter: 256 (9/14)\n",
      "max_iter: 512 (10/14)\n",
      "max_iter: 1024 (11/14)\n",
      "max_iter: 2048 (12/14)\n",
      "max_iter: 4096 (13/14)\n",
      "max_iter: 8192 (14/14)\n"
     ]
    }
   ],
   "source": [
    "max_iters = [2**i for i in range(0, 14)]\n",
    "np.random.seed(42)\n",
    "p0s = [2**i * np.random.randn(3) for i in range(5)]\n",
    "alpha_gd = 1e-4\n",
    "alpha_gn = 1.\n",
    "lambda0 = 1.\n",
    "lambda_change = 2.\n",
    "\n",
    "errors_levenberg_marquardt_const_param = []\n",
    "errors_levenberg_marquardt_modifying_param = []\n",
    "errors_gauss_newton = []\n",
    "errors_gradient_descent = []\n",
    "\n",
    "for i, max_iter in enumerate(max_iters):\n",
    "    print(f\"max_iter: {max_iter} ({i + 1}/{len(max_iters)})\")\n",
    "    optimizer = LevenbergMarquardt(\n",
    "        R=R, lambda_param_fun=LevenbergMarquardt.LambdaParamConstant(lambda0=lambda0)\n",
    "    )\n",
    "\n",
    "    errs = []\n",
    "    for p0 in p0s:\n",
    "        p, err = optimizer.optimize(p0, max_iter)\n",
    "        errs.append(err)\n",
    "    errors_levenberg_marquardt_const_param.append(errs)\n",
    "\n",
    "    optimizer = LevenbergMarquardt(\n",
    "        R=R, lambda_param_fun=LevenbergMarquardt.LambdaParamDefaultModifier(lambda0=lambda0, lambda_change=lambda_change)\n",
    "    )\n",
    "\n",
    "    errs = []\n",
    "    for p0 in p0s:\n",
    "        p, err = optimizer.optimize(p0, max_iter)\n",
    "        errs.append(err)\n",
    "    errors_levenberg_marquardt_modifying_param.append(errs)\n",
    "\n",
    "    errs = []\n",
    "    for p0 in p0s:\n",
    "        p, err = gauss_newton(R=R, p0=p0, alpha=alpha_gn, max_iter=max_iter)\n",
    "        errs.append(err)\n",
    "    errors_gauss_newton.append(errs)\n",
    "\n",
    "    errs = []\n",
    "    for p0 in p0s:\n",
    "        p, err = gradient_descent(R=R, p0=p0, alpha=alpha_gd, max_iter=max_iter)\n",
    "        errs.append(err)\n",
    "    errors_gradient_descent.append(errs)"
   ]
  },
  {
   "cell_type": "code",
   "execution_count": 277,
   "metadata": {},
   "outputs": [],
   "source": [
    "errors_mean_lm_const = np.mean(errors_levenberg_marquardt_const_param, axis=1)\n",
    "errors_mean_lm_const = remove_nans_infs_and_zeros(errors_mean_lm_const)\n",
    "\n",
    "errors_mean_lm_mod = np.mean(errors_levenberg_marquardt_modifying_param, axis=1)\n",
    "errors_mean_lm_mod = remove_nans_infs_and_zeros(errors_mean_lm_mod)\n",
    "\n",
    "errors_gn_mean = np.mean(errors_gauss_newton, axis=1)\n",
    "errors_gn_mean = remove_nans_infs_and_zeros(errors_gn_mean)\n",
    "\n",
    "errors_gd_mean = np.mean(errors_gradient_descent, axis=1)\n",
    "errors_gd_mean = remove_nans_infs_and_zeros(errors_gd_mean)"
   ]
  },
  {
   "cell_type": "code",
   "execution_count": 278,
   "metadata": {},
   "outputs": [
    {
     "data": {
      "image/png": "[encoded data removed]",
      "text/plain": [
       "<Figure size 640x480 with 1 Axes>"
      ]
     },
     "metadata": {},
     "output_type": "display_data"
    }
   ],
   "source": [
    "plt.loglog(max_iters, errors_mean_lm_const, label=\"L-M (const)\")\n",
    "plt.loglog(max_iters, errors_mean_lm_mod, label=\"L-M (changing)\")\n",
    "plt.loglog(max_iters, errors_gn_mean, label=\"G-N\")\n",
    "plt.loglog(max_iters, errors_gd_mean, label=\"GD\")\n",
    "\n",
    "plt.legend()\n",
    "plt.xlabel(\"max iterations\")\n",
    "plt.ylabel(\"mean error\")\n",
    "plt.title(\"Mean error of multiple runs for different algorithms and max iterations\")\n",
    "plt.show()"
   ]
  }
 ],
 "metadata": {
  "kernelspec": {
   "display_name": "Python 3",
   "language": "python",
   "name": "python3"
  },
  "language_info": {
   "codemirror_mode": {
    "name": "ipython",
    "version": 3
   },
   "file_extension": ".py",
   "mimetype": "text/x-python",
   "name": "python",
   "nbconvert_exporter": "python",
   "pygments_lexer": "ipython3",
   "version": "3.10.4"
  },
  "orig_nbformat": 4
 },
 "nbformat": 4,
 "nbformat_minor": 2
}
