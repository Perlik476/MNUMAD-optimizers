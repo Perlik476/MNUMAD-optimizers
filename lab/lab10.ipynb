{
 "cells": [
  {
   "attachments": {},
   "cell_type": "markdown",
   "metadata": {},
   "source": [
    "## Zadanie (NMF - Non-negative Matrix Factorization)\n",
    "\n",
    "Niech $A \\in \\R^{M \\times N}$. Znaleść macierze $W$ i $H$, takie że\n",
    "\n",
    "$$||A - W \\cdot H|| \\to \\min!,$$\n",
    "\n",
    "gdzie $W$ i $H$ są wymiarów odpowiednio $M \\times r$ i $r \\times N$, a ponadto $rank(W), rank(H) \\leq r$ oraz $W_{ij} \\geq 0$ i $H_{ij} \\geq 0$ dla wszystkich $i, j$.\n",
    "\n",
    "Jest to zadanie optymalizacji z ograniczeniami.\n",
    "\n",
    "## Metody przybliżonej faktoryzacji NMF\n",
    "\n",
    "1. Spadek po gradiencie\n",
    "\n",
    "$$W_{new} := [W + \\alpha R H^T]_+, H_{new} := [H + \\alpha W^T R]_+,$$\n",
    "\n",
    "gdzie $R = A - W \\cdot H$ i $([X]_+)_{i,j} = \\max\\{X_{i,j}, 0\\}$.\n",
    "\n",
    "2. Multyplicative Update\n",
    "\n",
    "$$W_{new} := W * AH^T / W(HH^T)^T, H_{new} := H * W^TA / (W^TW)H,$$\n",
    "\n",
    "gdzie $*$ i $/$ oznaczają mnożenie i dzielenie element po elemencie."
   ]
  },
  {
   "cell_type": "code",
   "execution_count": 210,
   "metadata": {},
   "outputs": [],
   "source": [
    "import numpy as np\n",
    "import matplotlib.pyplot as plt"
   ]
  },
  {
   "cell_type": "code",
   "execution_count": 211,
   "metadata": {},
   "outputs": [],
   "source": [
    "M, N, r = 1000, 200, 5\n",
    "A = np.random.random((M, N))\n",
    "iters = 100\n",
    "W0, H0 = np.random.random((M, r)), np.random.random((r, N))"
   ]
  },
  {
   "cell_type": "code",
   "execution_count": 212,
   "metadata": {},
   "outputs": [],
   "source": [
    "def update_grad(alpha, A, W, H):\n",
    "    R = A - W @ H\n",
    "    W1 = W + alpha * R @ H.T\n",
    "    H1 = H + alpha * W.T @ R\n",
    "    W, H = W1, H1\n",
    "    # W = W + alpha * R @ H.T\n",
    "    # H = H + alpha * W.T @ R\n",
    "    W[W < 0] = 0\n",
    "    H[H < 0] = 0\n",
    "    return W, H"
   ]
  },
  {
   "cell_type": "code",
   "execution_count": 213,
   "metadata": {},
   "outputs": [],
   "source": [
    "def update_multiplicative(A, W, H):\n",
    "    eps = 1e-10\n",
    "    W = W * (A @ H.T) / (W @ H @ H.T + eps)\n",
    "    H = H * (W.T @ A) / (W.T @ W @ H + eps)\n",
    "    return W, H\n",
    "    # W1 = W * (A @ H.T) / (W @ H @ H.T + eps)\n",
    "    # H1 = H * (W.T @ A) / (W.T @ W @ H + eps)\n",
    "    # return W1, H1"
   ]
  },
  {
   "cell_type": "code",
   "execution_count": 214,
   "metadata": {},
   "outputs": [
    {
     "name": "stdout",
     "output_type": "stream",
     "text": [
      "128.39915723860395\n"
     ]
    }
   ],
   "source": [
    "W, H = W0, H0\n",
    "alpha = 0.001\n",
    "\n",
    "res_1 = []\n",
    "for i in range(iters):\n",
    "    W, H = update_grad(alpha, A, W, H)\n",
    "    res_1.append(np.linalg.norm(A - W @ H, ord='fro'))\n",
    "print(np.linalg.norm(A - W @ H))"
   ]
  },
  {
   "cell_type": "code",
   "execution_count": 215,
   "metadata": {},
   "outputs": [
    {
     "name": "stdout",
     "output_type": "stream",
     "text": [
      "126.78039232760277\n"
     ]
    }
   ],
   "source": [
    "W, H = W0, H0\n",
    "\n",
    "res_2 = []\n",
    "for i in range(iters):\n",
    "    W, H = update_multiplicative(A, W, H)\n",
    "    res_2.append(np.linalg.norm(A - W @ H, ord='fro'))\n",
    "print(np.linalg.norm(A - W @ H))"
   ]
  },
  {
   "cell_type": "code",
   "execution_count": 216,
   "metadata": {},
   "outputs": [
    {
     "data": {
      "image/png": "[encoded data removed]",
      "text/plain": [
       "<Figure size 432x288 with 1 Axes>"
      ]
     },
     "metadata": {
      "needs_background": "light"
     },
     "output_type": "display_data"
    },
    {
     "data": {
      "text/plain": [
       "<Figure size 1440x1440 with 0 Axes>"
      ]
     },
     "metadata": {},
     "output_type": "display_data"
    }
   ],
   "source": [
    "plt.plot(res_1, label='gradient')\n",
    "plt.plot(res_2, label='multiplicative')\n",
    "plt.legend()\n",
    "plt.figure(figsize=(20, 20))\n",
    "plt.show()"
   ]
  }
 ],
 "metadata": {
  "kernelspec": {
   "display_name": "base",
   "language": "python",
   "name": "python3"
  },
  "language_info": {
   "codemirror_mode": {
    "name": "ipython",
    "version": 3
   },
   "file_extension": ".py",
   "mimetype": "text/x-python",
   "name": "python",
   "nbconvert_exporter": "python",
   "pygments_lexer": "ipython3",
   "version": "3.10.9"
  },
  "orig_nbformat": 4
 },
 "nbformat": 4,
 "nbformat_minor": 2
}
