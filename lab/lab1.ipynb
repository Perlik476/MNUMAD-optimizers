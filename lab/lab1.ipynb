{
 "cells": [
  {
   "cell_type": "code",
   "execution_count": 55,
   "metadata": {
    "collapsed": true
   },
   "outputs": [],
   "source": [
    "import numpy as np"
   ]
  },
  {
   "cell_type": "code",
   "execution_count": 56,
   "outputs": [],
   "source": [
    "m, n = 10000, 1000\n",
    "\n",
    "A = np.random.rand(m, n)\n",
    "b = np.random.rand(m)"
   ],
   "metadata": {
    "collapsed": false
   }
  },
  {
   "cell_type": "code",
   "execution_count": 57,
   "outputs": [
    {
     "name": "stderr",
     "output_type": "stream",
     "text": [
      "/tmp/ipykernel_59011/3307521022.py:1: FutureWarning: `rcond` parameter will change to the default of machine precision times ``max(M, N)`` where M and N are the input matrix dimensions.\n",
      "To use the future default and silence this warning we advise to pass `rcond=None`, to keep using the old, explicitly pass `rcond=-1`.\n",
      "  x1, res1, _, _ = np.linalg.lstsq(A, b)\n"
     ]
    }
   ],
   "source": [
    "x1, res1, _, _ = np.linalg.lstsq(A, b)"
   ],
   "metadata": {
    "collapsed": false
   }
  },
  {
   "cell_type": "code",
   "execution_count": 58,
   "outputs": [],
   "source": [
    "L = np.linalg.cholesky(A.T @ A)"
   ],
   "metadata": {
    "collapsed": false
   }
  },
  {
   "cell_type": "markdown",
   "source": [
    "$$L L^T x = b$$\n",
    "\n",
    "$$y := L^T x$$\n",
    "\n",
    "$$L y = b$$"
   ],
   "metadata": {
    "collapsed": false
   }
  },
  {
   "cell_type": "code",
   "execution_count": 59,
   "outputs": [],
   "source": [
    "y = np.linalg.solve(L, A.T @ b)\n",
    "x2 = np.linalg.solve(L.T, y)"
   ],
   "metadata": {
    "collapsed": false
   }
  },
  {
   "cell_type": "code",
   "execution_count": 60,
   "outputs": [],
   "source": [
    "Q, R = np.linalg.qr(A)\n",
    "bq = Q.T @ b\n",
    "\n",
    "x3 = np.linalg.solve(R, bq)"
   ],
   "metadata": {
    "collapsed": false
   }
  },
  {
   "cell_type": "code",
   "execution_count": 61,
   "outputs": [],
   "source": [
    "from sklearn.linear_model import LinearRegression"
   ],
   "metadata": {
    "collapsed": false
   }
  },
  {
   "cell_type": "code",
   "execution_count": 62,
   "outputs": [],
   "source": [
    "reg = LinearRegression(fit_intercept=False)\n",
    "model = reg.fit(A, b)\n",
    "x4 = model.coef_"
   ],
   "metadata": {
    "collapsed": false
   }
  },
  {
   "cell_type": "code",
   "execution_count": 63,
   "outputs": [
    {
     "name": "stdout",
     "output_type": "stream",
     "text": [
      "27.464400350421467 - wbudowane\n",
      "27.46440035042147 - układ równań normalnych\n",
      "27.464400350421464 - rozkład QR\n",
      "27.464400350421467 - regresja liniowa\n"
     ]
    }
   ],
   "source": [
    "print(f'{np.linalg.norm(A @ x1 - b)} - wbudowane')\n",
    "print(f'{np.linalg.norm(A @ x2 - b)} - układ równań normalnych')\n",
    "print(f'{np.linalg.norm(A @ x3 - b)} - rozkład QR')\n",
    "print(f'{np.linalg.norm(A @ x4 - b)} - regresja liniowa')"
   ],
   "metadata": {
    "collapsed": false
   }
  }
 ],
 "metadata": {
  "kernelspec": {
   "display_name": "Python 3",
   "language": "python",
   "name": "python3"
  },
  "language_info": {
   "codemirror_mode": {
    "name": "ipython",
    "version": 2
   },
   "file_extension": ".py",
   "mimetype": "text/x-python",
   "name": "python",
   "nbconvert_exporter": "python",
   "pygments_lexer": "ipython2",
   "version": "2.7.6"
  }
 },
 "nbformat": 4,
 "nbformat_minor": 0
}
