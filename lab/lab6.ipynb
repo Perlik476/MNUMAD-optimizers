{
 "cells": [
  {
   "attachments": {},
   "cell_type": "markdown",
   "metadata": {},
   "source": [
    "# Algorytm Arnoldiego\n",
    "\n",
    "$AQ_m = Q_m H_m + $ reszta, gdzie $Q_m = [q_1, ..., q_m]$ i $H_m$ Hessenberga\n",
    "\n",
    "$q_1 := \\frac{x_0}{||x_0||_2}$\n",
    "\n",
    "$h_{1,1} := q_1^T A q_1$\n",
    "\n",
    "$s := Aq_1 - h_{1,1} q1$\n",
    "\n",
    "$h_{2,1} := ||s||_2$\n",
    "\n",
    "$q_2 := s/h_{2,1}$\n",
    "\n",
    "for $j = 2:m$ begin\n",
    "\n",
    "$h_{j,j} := q_j^T A q_j$\n",
    "\n",
    "$s := Aq_j - \\sum_{i=1}^{j} h_{ij}q_i$\n",
    "\n",
    "$h_{j+1,j} := ||s||_2$\n",
    "\n",
    "$q_{j+1} := s / h_{j+1,j}$\n",
    "\n",
    "end\n",
    "\n"
   ]
  },
  {
   "attachments": {},
   "cell_type": "markdown",
   "metadata": {},
   "source": [
    "# Algorytm Lanczosa\n",
    "\n",
    "$AQ_m = Q_m H_m + $ reszta, gdzie $Q_m = [q_1, ..., q_m]$ i $T_m = H_m$ trójdiagonalna: $\\alpha$ na diagonali, $\\beta$ poza\n",
    "\n",
    "$q_1 := x_0/||x_0||_2$\n",
    "\n",
    "$\\beta_0 := 0$\n",
    "\n",
    "for $j = 1:m$ begin\n",
    "\n",
    "$w := A q_j$\n",
    "\n",
    "$\\alpha_j := q_j^T w$\n",
    "\n",
    "$s := w - (\\alpha_j q_j + \\beta_{j-1} q_{j-1})$\n",
    "\n",
    "$\\beta_j := ||s||_2$\n",
    "\n",
    "$q_{j+1} := s / \\beta_j$\n",
    "\n",
    "end\n"
   ]
  },
  {
   "cell_type": "code",
   "execution_count": 620,
   "metadata": {},
   "outputs": [],
   "source": [
    "import numpy as np"
   ]
  },
  {
   "cell_type": "code",
   "execution_count": 621,
   "metadata": {},
   "outputs": [],
   "source": [
    "def arnoldi(A):\n",
    "    n = A.shape[0]\n",
    "    Q = np.zeros((n, n))\n",
    "    H = np.zeros((n, n))\n",
    "    Q[:, 0] = np.random.rand(n)\n",
    "    Q[:, 0] = Q[:, 0] / np.linalg.norm(Q[:, 0])\n",
    "    for j in range(n):\n",
    "        v = A @ Q[:, j]\n",
    "        for i in range(j+1):\n",
    "            H[i, j] = Q[:, i].T @ v\n",
    "            v = v - H[i, j] * Q[:, i]\n",
    "        if j < n-1:\n",
    "            H[j+1, j] = np.linalg.norm(v)\n",
    "            Q[:, j+1] = v / H[j+1, j]\n",
    "    return Q, H"
   ]
  },
  {
   "cell_type": "code",
   "execution_count": 622,
   "metadata": {},
   "outputs": [],
   "source": [
    "def lanczos(A, m):\n",
    "    # można jeszcze dołożyć reortogonalizację\n",
    "    n = A.shape[0]\n",
    "    Q = np.zeros((n, m))\n",
    "    Q[:, 0] = np.random.rand(n)\n",
    "    Q[:, 0] /= np.linalg.norm(Q[:, 0])\n",
    "    alpha = np.zeros(m)\n",
    "    beta = np.zeros(m - 1)\n",
    "    for j in range(m):\n",
    "        w = A @ Q[:, j]\n",
    "        alpha[j] = Q[:, j].T @ w\n",
    "        s = w - alpha[j] * Q[:, j] - (np.zeros(m) if j == 0 else beta[j - 1] * Q[:, j - 1])\n",
    "        if j < m - 1:\n",
    "            beta[j] = np.linalg.norm(s)\n",
    "            Q[:, j + 1] = s / beta[j]\n",
    "    T = np.diag(alpha) + np.diag(beta, 1) + np.diag(beta, -1)\n",
    "    return Q, T\n"
   ]
  },
  {
   "cell_type": "code",
   "execution_count": 623,
   "metadata": {},
   "outputs": [],
   "source": [
    "N = 15\n",
    "A = np.random.rand(N, N)\n",
    "# d = np.random.rand(N)\n",
    "# A = np.diag(d)\n",
    "A = A + A.T"
   ]
  },
  {
   "cell_type": "code",
   "execution_count": 624,
   "metadata": {},
   "outputs": [
    {
     "data": {
      "text/plain": [
       "6.788774398976261"
      ]
     },
     "execution_count": 624,
     "metadata": {},
     "output_type": "execute_result"
    }
   ],
   "source": [
    "m = N\n",
    "Q, T = lanczos(A, m)\n",
    "np.linalg.norm(A @ Q - Q @ T)"
   ]
  },
  {
   "cell_type": "code",
   "execution_count": 625,
   "metadata": {},
   "outputs": [
    {
     "data": {
      "text/plain": [
       "3.010123896634058e-15"
      ]
     },
     "execution_count": 625,
     "metadata": {},
     "output_type": "execute_result"
    }
   ],
   "source": [
    "Q2, H = arnoldi(A)\n",
    "np.linalg.norm(A @ Q2 - Q2 @ H)"
   ]
  },
  {
   "cell_type": "code",
   "execution_count": 626,
   "metadata": {},
   "outputs": [
    {
     "data": {
      "text/plain": [
       "1.15299710223616"
      ]
     },
     "execution_count": 626,
     "metadata": {},
     "output_type": "execute_result"
    }
   ],
   "source": [
    "np.linalg.norm(Q.T @ Q - np.identity(m))"
   ]
  },
  {
   "cell_type": "code",
   "execution_count": 627,
   "metadata": {},
   "outputs": [
    {
     "data": {
      "text/plain": [
       "[-2.76840475967154,\n",
       " -2.075270328815419,\n",
       " -1.8945722409692638,\n",
       " -0.9697193864616862,\n",
       " -0.5610826345877413,\n",
       " -0.022299505740645032,\n",
       " 0.4863022788678264,\n",
       " 0.688487005922288,\n",
       " 0.970040049320727,\n",
       " 1.2592851867810833,\n",
       " 1.6927308982639746,\n",
       " 2.112785841439869,\n",
       " 2.5119620223618284,\n",
       " 10.193833702685543,\n",
       " 14.974821722513]"
      ]
     },
     "execution_count": 627,
     "metadata": {},
     "output_type": "execute_result"
    }
   ],
   "source": [
    "sorted(np.linalg.eig(T)[0])"
   ]
  },
  {
   "cell_type": "code",
   "execution_count": 628,
   "metadata": {},
   "outputs": [
    {
     "data": {
      "text/plain": [
       "[-2.7684047596716805,\n",
       " -2.0752703297464463,\n",
       " -1.89457224398687,\n",
       " -0.9697196085398518,\n",
       " -0.5610843464866492,\n",
       " -0.13305256278584116,\n",
       " -0.011263787731072037,\n",
       " 0.5614770735417186,\n",
       " 0.9652112826783618,\n",
       " 1.258459873509545,\n",
       " 1.416421575124967,\n",
       " 1.692737145046271,\n",
       " 2.1128466723743577,\n",
       " 2.5119648211262877,\n",
       " 14.974821722512988]"
      ]
     },
     "execution_count": 628,
     "metadata": {},
     "output_type": "execute_result"
    }
   ],
   "source": [
    "sorted(np.linalg.eig(H)[0])"
   ]
  },
  {
   "cell_type": "code",
   "execution_count": 629,
   "metadata": {},
   "outputs": [
    {
     "data": {
      "text/plain": [
       "[-2.7684047596716708,\n",
       " -2.0752703297464477,\n",
       " -1.8945722439868669,\n",
       " -0.9697196085398531,\n",
       " -0.5610843464866508,\n",
       " -0.13305256278584074,\n",
       " -0.01126378773107197,\n",
       " 0.5614770735417169,\n",
       " 0.9652112826783604,\n",
       " 1.2584598735095445,\n",
       " 1.416421575124967,\n",
       " 1.6927371450462678,\n",
       " 2.112846672374364,\n",
       " 2.5119648211262886,\n",
       " 14.974821722513003]"
      ]
     },
     "execution_count": 629,
     "metadata": {},
     "output_type": "execute_result"
    }
   ],
   "source": [
    "sorted(np.linalg.eig(A)[0])"
   ]
  }
 ],
 "metadata": {
  "kernelspec": {
   "display_name": "Python 3",
   "language": "python",
   "name": "python3"
  },
  "language_info": {
   "codemirror_mode": {
    "name": "ipython",
    "version": 3
   },
   "file_extension": ".py",
   "mimetype": "text/x-python",
   "name": "python",
   "nbconvert_exporter": "python",
   "pygments_lexer": "ipython3",
   "version": "3.8.10"
  },
  "orig_nbformat": 4
 },
 "nbformat": 4,
 "nbformat_minor": 2
}
