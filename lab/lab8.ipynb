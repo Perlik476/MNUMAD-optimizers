{
 "cells": [
  {
   "attachments": {},
   "cell_type": "markdown",
   "metadata": {},
   "source": [
    "## Sieć neuronowa\n",
    "\n",
    "$[x_1, x_2] = [a_1^{[1]}, a_2^{[1]}] \\mapsto [a_1^{[2]}, a_2^{[2]}] \\mapsto [a_1^{[3]}, a_2^{[3]}, a_3^{[3]}] \\mapsto [a_1^{[4]}, a_2^{[4]}] = [y_1, y_2] =: F_p(x)$\n",
    "\n",
    "$a^{[k+1]} = \\sigma(W^{[k+1]}a^{[k]} + b^{[k+1]}), k = 1, 2, 3$\n",
    "\n",
    "Dane trenujące:\n",
    "\n",
    "$X_0, ..., X_{M-1}$, $M = 10$, $X_k = [x_1^{(k)}, x_2^{(k)}]$\n",
    "\n",
    "$Y_0, ..., Y_{M-1}$, $Y_k \\in \\{[1, 0], [0, 1]\\}$\n",
    "\n",
    "Funkcja straty:\n",
    "\n",
    "$\\sum_{i=0}^{M-1} ||F_p(X_i) - Y_i||_2^2 \\to \\min_{p \\in \\R^{23}}!$\n",
    "\n",
    "$W_2 \\in \\R^{2\\times 2}, W_3 \\in \\R^{3\\times 2}, W_4 \\in \\R^{2\\times 3}$\n",
    "\n",
    "$b_2 \\in \\R^2, b_3 \\in \\R^3, b_4 \\in \\R^2$"
   ]
  },
  {
   "cell_type": "code",
   "execution_count": 72,
   "metadata": {},
   "outputs": [],
   "source": [
    "from scipy.optimize import least_squares\n",
    "import numpy as np"
   ]
  },
  {
   "cell_type": "code",
   "execution_count": 73,
   "metadata": {},
   "outputs": [],
   "source": [
    "x1 = np.array([0.1, 0.3, 0.1, 0.6, 0.4, 0.6, 0.5, 0.9, 0.4, 0.7])\n",
    "x2 = np.array([0.1, 0.4, 0.5, 0.9, 0.2, 0.3, 0.6, 0.2, 0.4, 0.6])\n",
    "\n",
    "y1 = np.array([1, 1, 1, 1, 1, 0, 0, 0, 0, 0])\n",
    "y2 = np.array([0, 0, 0, 0, 0, 1, 1, 1, 1, 1])\n",
    "\n",
    "X = np.vstack((x1, x2)).T\n",
    "Y = np.vstack((y1, y2)).T"
   ]
  },
  {
   "cell_type": "code",
   "execution_count": 74,
   "metadata": {},
   "outputs": [],
   "source": [
    "def sigmoid(z):\n",
    "    return 1/(1 + np.exp(-z))"
   ]
  },
  {
   "cell_type": "code",
   "execution_count": 75,
   "metadata": {},
   "outputs": [],
   "source": [
    "def F(x, p):\n",
    "    assert x.shape == (2,)\n",
    "    assert p.shape == (23,)\n",
    "    \n",
    "    W2, W3, W4, b2, b3, b4 = p[:4], p[4:10], p[10:16], p[16:18], p[18:21], p[21:23]\n",
    "    W2 = W2.reshape((2, 2))\n",
    "    W3 = W3.reshape((3, 2))\n",
    "    W4 = W4.reshape((2, 3))\n",
    "    \n",
    "    assert W2.shape == (2, 2)\n",
    "    assert W3.shape == (3, 2)\n",
    "    assert W4.shape == (2, 3)\n",
    "    assert b2.shape == (2,)\n",
    "    assert b3.shape == (3,)\n",
    "    assert b4.shape == (2,)\n",
    "    \n",
    "    a1 = x\n",
    "    a2 = sigmoid(W2 @ a1 + b2)\n",
    "    a3 = sigmoid(W3 @ a2 + b3)\n",
    "    a4 = sigmoid(W4 @ a3 + b4)\n",
    "    y = a4\n",
    "    \n",
    "    assert y.shape == (2,)\n",
    "    \n",
    "    return y"
   ]
  },
  {
   "cell_type": "code",
   "execution_count": 76,
   "metadata": {},
   "outputs": [
    {
     "data": {
      "text/plain": [
       "array([0.82154777, 0.82061228, 0.82009719, 0.81919368, 0.82143065,\n",
       "       0.71048812, 0.71501458, 0.70921239, 0.71126654, 0.71568642])"
      ]
     },
     "execution_count": 76,
     "metadata": {},
     "output_type": "execute_result"
    }
   ],
   "source": [
    "def f(p, X, Y):\n",
    "    assert p.shape == (23,)\n",
    "    \n",
    "    res = np.array([np.linalg.norm(F(x, p) - y) for x, y in zip(X, Y)])\n",
    "    return res\n",
    "\n",
    "f(np.random.randn(23), X, Y)"
   ]
  },
  {
   "cell_type": "code",
   "execution_count": 77,
   "metadata": {},
   "outputs": [
    {
     "data": {
      "text/plain": [
       "array([-8.64424519e+00,  1.07936054e+01,  1.14361759e+01,  1.22630856e+01,\n",
       "        2.44484260e+00,  2.35735664e+00, -1.51542492e+01,  1.58219801e+01,\n",
       "        2.62836543e-03,  3.71542090e-01,  5.10547806e+00, -2.28463112e+01,\n",
       "        1.56353436e+00, -5.28720688e+00,  2.27819210e+01,  6.95243961e-01,\n",
       "       -2.65250147e+00, -8.53340269e+00,  3.34732375e+00, -6.40745890e+00,\n",
       "       -5.55048205e-01,  5.65556173e+00, -6.30381216e+00])"
      ]
     },
     "execution_count": 77,
     "metadata": {},
     "output_type": "execute_result"
    }
   ],
   "source": [
    "p = least_squares(f, np.random.randn(23), args=(X, Y)).x\n",
    "p"
   ]
  },
  {
   "cell_type": "code",
   "execution_count": 81,
   "metadata": {},
   "outputs": [
    {
     "data": {
      "text/plain": [
       "8.798420200180736e-05"
      ]
     },
     "execution_count": 81,
     "metadata": {},
     "output_type": "execute_result"
    }
   ],
   "source": [
    "np.linalg.norm(f(p, X, Y))"
   ]
  },
  {
   "cell_type": "code",
   "execution_count": 79,
   "metadata": {},
   "outputs": [
    {
     "data": {
      "text/plain": [
       "array([9.99986013e-01, 1.39781050e-05])"
      ]
     },
     "execution_count": 79,
     "metadata": {},
     "output_type": "execute_result"
    }
   ],
   "source": [
    "F(X[0,:], p)"
   ]
  },
  {
   "cell_type": "code",
   "execution_count": 145,
   "metadata": {},
   "outputs": [],
   "source": [
    "# X_test = np.random.randn(10000, 2)\n",
    "# Y_test_result = np.array([F(x, p) for x in X_test])\n",
    "# Y_test_classification = np.array([y[0] > y[1] for y in Y_test_result])\n",
    "\n",
    "X1 = np.linspace(0, 1, 100)\n",
    "X2 = np.linspace(0, 1, 100)\n",
    "X1, X2 = np.meshgrid(X1, X2)\n",
    "\n",
    "Y_test_result = np.array([F(np.array([x1, x2]), p) for x1, x2 in zip(X1.flatten(), X2.flatten())])\n",
    "Y_test_classification = np.array([y[0] > y[1] for y in Y_test_result])"
   ]
  },
  {
   "cell_type": "code",
   "execution_count": 149,
   "metadata": {},
   "outputs": [
    {
     "data": {
      "text/plain": [
       "<matplotlib.collections.PathCollection at 0x7f0b4be583d0>"
      ]
     },
     "execution_count": 149,
     "metadata": {},
     "output_type": "execute_result"
    },
    {
     "data": {
      "image/png": "[encoded data removed]",
      "text/plain": [
       "<Figure size 640x480 with 1 Axes>"
      ]
     },
     "metadata": {},
     "output_type": "display_data"
    }
   ],
   "source": [
    "import matplotlib.pyplot as plt\n",
    "\n",
    "# plt.scatter(X_test[:,0], X_test[:,1], c=Y_test_classification)\n",
    "plt.scatter(X1, X2, c=Y_test_classification)"
   ]
  }
 ],
 "metadata": {
  "kernelspec": {
   "display_name": "Python 3",
   "language": "python",
   "name": "python3"
  },
  "language_info": {
   "codemirror_mode": {
    "name": "ipython",
    "version": 3
   },
   "file_extension": ".py",
   "mimetype": "text/x-python",
   "name": "python",
   "nbconvert_exporter": "python",
   "pygments_lexer": "ipython3",
   "version": "3.8.10"
  },
  "orig_nbformat": 4
 },
 "nbformat": 4,
 "nbformat_minor": 2
}
