{
 "cells": [
  {
   "attachments": {},
   "cell_type": "markdown",
   "metadata": {},
   "source": [
    "# Latent Semantic Analysis"
   ]
  },
  {
   "cell_type": "code",
   "execution_count": 61,
   "metadata": {},
   "outputs": [],
   "source": [
    "def read_file(filename):\n",
    "    with open(filename, 'r') as f:\n",
    "        titles = f.readlines()\n",
    "        titles = list(map(lambda x: x.strip(), titles))\n",
    "    return titles\n",
    "\n",
    "jp = read_file('data/jp.txt')\n",
    "pw = read_file('data/pw.txt')\n",
    "wc = read_file('data/wc.txt')\n",
    "\n",
    "lst = [(\"jp\", jp), (\"pw\", pw), (\"wc\", wc)]"
   ]
  },
  {
   "cell_type": "code",
   "execution_count": 62,
   "metadata": {},
   "outputs": [
    {
     "name": "stdout",
     "output_type": "stream",
     "text": [
      "['Pisze za szybko : Jerzy Pilch zdumiony liczbą czytelników', 'Jerzy Pilch - rozmowa', 'Jerzy Pilch : teatr rozmowy', 'Ewangelicki stan ducha : Jerzy Pilch o religijnych źródłach własnej twórczości oraz niechęci wobec Kaczorów', 'Z największą uciechą wracam do Alcybiadesa : Jerzy Pilch o ulubionych lekturach z dzieciństwa', 'Dobrze jest wiedzieć, jak się to robi', 'Bezpowrotnie utracona leworęczność', 'Spis cudzołożnic : proza podróżna', 'Duch czy trzewia', 'Sprawy świata są proste', 'Literatura jest dla maratończyków', 'Śliska, róg Jana Pawła II', 'DIalogi pisze się w pojedynkę', 'Pora umierać', 'Literatura wysokoprocentowa', 'Cudzołożnice, rozkosze i miasta', 'Męczennik nałogu', 'Zmysłowe sąsiedztwo', 'Już bym babci nie uśmiercał', 'Pisze się z pychy', 'Bez przerwy marzę', 'Płynie we mnie Wisła', 'Łoskot Ronda ONZ', 'Niedopowiedzenie jest lepsze', 'Moja pora roku', 'Pisanie to żadna przyjemność', 'Żółta węgierska futbolówka', 'W środę o piętnastej', 'Gadasz to żyjesz', 'Szósty palec protestanta', 'Tezy o głupocie, piciu i umieraniu', 'Monolog z lisiej jamy', 'Złote kolce w pysku świni', 'Pisanie jest nieprzyjemne', 'Inne rozkosze', 'Prawie zemdlałem z podniecenia', 'Synek z Wisły', 'Prawdziwa węgierska futbolówka : książki dzieciństwa', 'Upajająca przyjemność opowiadania', 'To mi nie zaszkodzi', 'Trud życia po cudzie', 'Duszą, mózgiem, rękę', 'Trzeci dziennik : 7 maja 2017 - 15 lipca 2018', 'Jest wokół nas trochę psychiatrycznie', 'Co mnie kręci', 'Nie z tej ziemi : 85 urodziny Jerzego Turowicza', 'Dwie wieże i Witkacy', 'Przybywaj, ogniu!', 'Same wiersze', 'Chciałem po prostu', 'Wściekłość Edgara Allana Poe', 'Łatwość kiczu', 'Przenikliwa proza Axera', 'Jestem stary, ale wciąż są starsi ode mnie', 'Dowód na istnienie Boga', 'Dziennik podbojów', 'Pretensja o tytuł jest jedyną, jaką mieć tu można', 'W środę, o piętnastej', 'Samobójstwo - ubezpieczenie na życie', 'Pulp Dante', 'Wyjmuję rewolwer', 'Duszą, mózgiem, ręką', 'Czas cudzysłowu : nowe tłumaczenie Biblii', 'Każdy może znaleźć miejsce', 'Autobiografia w sensie ścisłym, a nawet umownym', 'Pilch: sztuka zawsze bierze się z traumy', 'Pisarz pisze, reżyser reżyseruje', 'Najdoskonalsze jabłko świata ; Liczba podwójna ; Kolor czcionki', 'Po co piszę? : ankieta', 'Zalety warszawskich wad', 'Mecze wolę oglądać sam', 'Wózek w ruchu', 'The register of adulteresses', 'Rzeczy widzialne i niewidzialne', 'Moje Czechy', 'Łatwość kiczu : o tandecie w sztuce, polityce i obyczajach', \"Wiara w istnienie ośmiornicy : laudacja Jerzego Pilcha z okazji osiemdziesiątej rocznicy urodzin profesor Marii Janion.'\", 'Wszystko, co robił, stawało się wielkie : wybitne postacie literatury i teatru wspominają Jana Błońskiego', 'Wracamy do domu : Mundial : Wielka Loża Komentatorów Polityki', 'Moi mistrzowie śmiechu', 'Wszystkim stawiam, ale tobie nie : Mundial : Wielka Loża Komentatorów Polityki', 'Uśmiech Senegalczyka : Mundial : Wielka Loża Komentatorów Polityki', 'Lśniące torsy gladiatorów : Mundial : Wielka Loża Komentatorów Polityki', 'Thriller z elementami moralnego niepokoju : Mundial', 'O piłce, piłkarzach i mundialu', 'Ubóstwo i wolność : Jan Paweł II i ks. Józef Tischner', 'Tydzień raczej czarny', 'Początkujący święty : debata po filmie Karol. Człowiek, który został Papieżem', 'Lepiej już było', 'O Chirurgicznej precyzji Stanisława Barańczaka', 'O Dziennikach Jarosława Iwaszkiewicza', '...twój czas minął - już jesteś...', 'Śmierć i sztuka', 'Lekcja pisania']\n",
      "['Wojtunik i Rapacki przed senacką komisją', 'Sejmowa obrona Jana Pawła II', 'Episkopat omawia oskarżenia wobec Jana Pawła II', 'PiS chce zlikwidować limit zadłużenia', 'Konwencja PO : Tusk wzywa do jedności', 'Odbezpieczony granat', 'Wielkieś mi uczynił pustki, prezesie', 'Potrzeba spokoju i obrony przeciwlotnoczej : kupujemy czołgi, a nie mamy czym ich bronić', 'Opozycja broni konstytucji', 'Jak będzie z abramsami? : rosyjskie wojska ugrzęzły : czołgi toną w błocie', 'Armia przyszłości, czyli jaka?', 'To, że PiS oszukał wieś, nie znaczy, że wieś na PiS nie zagłosuje : takiego kryzysu polskie rolnictwo nie przeżywało od lat', 'Nowa strategia Donalda Tuska', 'Co leopardy dla Ukraińców zmienią na froncie : lufy, silniki, gąsiennice', 'Tusk: idziemy po was : ruszył przedwyborczy maraton', 'Czy Polska jest krajem poważnym?', 'Na tropie agentów Putina : dywersja polityczna', 'Czołgi przybędą w tym roku', 'Wieś narzeka, PiS drży', 'PiS boi się psychologicznego efektu porażki : w dużych miastach obóz włądzy może wybory samorządowe spektakularnie przegrać, więc chce je przesunąć, by odbyły się już po parlamentarnych : termin wyborów samorządowych', 'Zełenski podziękuje Polakom', 'Program Narew ma chronić niebo', 'Dlaczego Tusk nie dociska gazu do dechy : przyspieszone wybory', 'Jak Polska może wesprzeć militanie Ukrainę', 'Konfederacja się sypie', 'Koniec Kaczyńskiego lub Tuska : kampania będzie brutalna, a po niej... :  konwencja PO w Radomiu', 'Naprawdę szybkie zwierzątka : łykają wszystko, co ma kaliber 155 milimetrów, Rosjanie mają szanse je upolować, tylko gdy są w bezruchu : polskie kraby zdominowały Ukrainę', 'Z propagandą sukcesu po kraju', 'PiS chce od Niemców 6 bln. zł. za straty wojenne : reparacje wojenne', 'Satelity dla polskiej armii', 'Panie premierze, co gramy teraz?', 'Tusk: Ukraina ma podobny potencjał militarny jak Polska', 'Apache i pancerna układanka : jak uzbroić polską armię', 'Minister Błaszczak na wielkich zakupach : Polska się zbroi', 'Statek pijany, władza traci sterowność : ustawa o Sądzie Najwyższym', 'Rząd znów nie dał rady : węgiel a sprawa polska', 'Zełenski dziękuje Polsce : wizyta prezydenta Ukrainy', 'Jacek Żakowski pokonał się przez autonokaut', 'Polska ma mieć siły zdolne odeprzeć atak : inwazja Rosji na Ukrainę', 'Musimy porzycić ścieżkę putinizmu : geopolityczny wybór Polski', 'Patrioty jadą do Polski', 'Pegasusem w NIK?', 'Zełenski przyjeżdża do Warszawy', 'Wzmocnienie armii : Błaszczak kupuje koreańskie HIMARS-y', 'Wielka armia Błaszczaka : wojsko w 2022 roku', 'Jak skutecznie rozliczyć rządy PiS', 'Na Polskę zawsze możecie liczyć', 'Koniec armii defiladowej : atak na Ukrainę', 'Co może zyskać Polska, co chce zyskać PiS? : przed wizytą prezydenta USA w Polsce', 'Liderzy opozycji razem', 'Jak będzie z abramsami? : rosyjskie wojska ugrzęzły : czołgi toną w błocie', 'Armia przyszłości, czyli jaka?', 'Program Narew ma chronić niebo', 'Jak mówić do Niemca, żeby zrozumiał : poradnik dla dyplomatów PiS', 'Zdradził, więc został ministrem', 'Czy będą wcześniejsze wybory?', 'Tusk robi porządki przdd wyborami : Platforma Obywatelska bez konserwatystów?', 'KPO z wybojami', 'Zjednoczona opozycja?', 'Koalicja na rzecz czołgów dla Ukrainy', 'Polska bliżej pieniędzy z UE : KPO z wybojami', 'Deficyt spuchnie : reguła wydatkowa uwiera PiS', 'Największy kontrakt zbrojeniowy', 'Myśliwce dla Ukrainy', 'USA: Nie przekażemy polskich migów-29 Ukrainie : atak na Ukrainę', 'Więcej pieniędzy na większą armię', 'Sejmowa komisja za uchyleniem immunitetu : sprawa Mariana Banasia', 'Lider Agrounii oskarża Kukiza', 'Ukraina wróciła do Petropawliwki : humanitarny konwój Wyborczej', 'Po co była ta misja : po wizycie w Kijowie', 'Komisja nadzwyczajna, ale bez uprawnień : senat zbada inwigilację : tajemnice Pegasusa', 'Tak Rosjanie wkręcili prezydenta', 'Myśliwce F-16 nie sprawią, że Ukraina wygra wojnę : ukraińskie siły zbrojne potrzebują sprzętu, z którego żołnierze mogliby korzytsać od razu', 'Polski rząd przestał walczyć o KPO', 'Falstart Rosji w Donbasie : Ukraina broni Donbasu', 'Dlaczego giną rosyjscy dowódcy : Ukraina kontratakuje', 'Komisja Kukiza coraz bliżej', 'Ostre starcie u Dudy : PiS też niechetny projektowi prezydenta', 'PiS nie chce niemieckich patriotów', 'No fly zone jest teraz militarnie nie do przeprowadzenia : atak na Ukrainę', 'Lider Agrounii inwigilowany Pegasusem', 'Gigantyczne zakupy : będziemy mieli więcej czołgów niż Niemcy, Wielka Brytania i Francja razem wzięte', 'Lobbingu nie było', 'Atak na Jaworów to sygnał : atak na Ukrainę', 'Powstrzymać ofensywę', 'To nasza wojna : wojna w Ukrainie', '720 stron w obronie ojczyzny', 'Czy haubice zmienią losy wojny', 'Komisja do wszystkiego', 'Wyraz solidarności, której potrzeba : atak na Ukrainę', 'Rosji wszystko się posypało jak kostki domina : ukraińska kontrofensywa', 'Ukraina nie przetrwa wojny na wyczerpanie : wojna w Ukrainie', 'Putin znalazł się w pułapce : wojna w Ukrainie', 'Pomóżcie wybrać wtopę roku', 'Wojna może trwać jeszcze długo', 'Alfabetyczny przewodnik po aferze mailowej', 'Objazdowy alfabet prezesa Kaczyńskiego : od animalizacji przez karamatę do Żabki', 'Nowelizacja odblokuje KPO?', 'Czy Morawiecki oszukał także swoich? : finalne brzmienie kamieni dysonansem w PiS']\n",
      "['Platforma won! : Cejrowski o Kopacz, islamistach i schizmie', 'Wyprawa na biegun dżungli', 'Wyprawy do Ameryki Środkowej', 'Rybny poker', 'Cejrowski: Wolę dzikusów od parady gejów', 'Nie dam się zniewolić Unii : Wojciech Cejrowski tłumaczy, dlaczego rezygnuje z polskiego obywatelstwa', 'Niech nas pałują!', 'Rio Anaconda : gringo i ostatni szaman plemienia Carapana', 'U naszych turystów najbardziej przeszkadzają mi słowa na literę K', 'Jestem groźny', 'Wybieram wolność', 'Donald T. odejdzie dopiero, gdy go zabiorą do więzienia', 'Gringo wśród dzikich plemion', 'Z miłości do mojego Boga', 'Od radości do świadectwa', 'Lubię ostre papryczki', 'Bóg nas stworzył wolnymi', 'Po co komu biały człowiek', 'To jest stary układ - komuniści, kolaboranci i służby', 'Wyspa na prerii', 'Czas radykałów', 'Święte miasto', 'Kołtun się jeży', 'Lepiej zarabiać, niż żebrać w Unii : Żołnierze Wyklęci zwalczaliby KOD', 'Albo twarda ręka, albo islam : Rosja i Niemcy to nasi wrogowie', 'Polska opozycja to służby : każda władza ewoluuje w kierunku tyranii', 'Jesteśmy szachownicą dla UE i dla Rosji : politycy są jak katarynki', 'Spowiedź Cejrowskiego', 'Trump jest wilkiem i Putin o tym wie']\n"
     ]
    }
   ],
   "source": [
    "print(jp) # pilch\n",
    "print(pw) # wroński\n",
    "print(wc) # cejrowski"
   ]
  },
  {
   "cell_type": "code",
   "execution_count": 63,
   "metadata": {},
   "outputs": [
    {
     "name": "stdout",
     "output_type": "stream",
     "text": [
      "['a', 'aby', 'ach', 'acz', 'aczkolwiek', 'aj', 'albo', 'ale', 'ależ', 'ani', 'aż', 'bardziej', 'bardzo', 'bez', 'bo', 'bowiem', 'by', 'byli', 'bym', 'bynajmniej', 'być', 'był', 'była', 'było', 'były', 'będzie', 'będą', 'cali', 'cała', 'cały', 'chce', 'choć', 'ci', 'ciebie', 'cię', 'co', 'cokolwiek', 'coraz', 'coś', 'czasami', 'czasem', 'czemu', 'czy', 'czyli', 'często', 'daleko', 'dla', 'dlaczego', 'dlatego', 'do', 'dobrze', 'dokąd', 'dość', 'dr', 'dużo', 'dwa', 'dwaj', 'dwie', 'dwoje', 'dzisiaj', 'dziś', 'gdy', 'gdyby', 'gdyż', 'gdzie', 'gdziekolwiek', 'gdzieś', 'go', 'godz', 'hab', 'i', 'ich', 'ii', 'iii', 'ile', 'im', 'inna', 'inne', 'inny', 'innych', 'inż', 'iv', 'ix', 'iż', 'ja', 'jak', 'jakaś', 'jakby', 'jaki', 'jakichś', 'jakie', 'jakiś', 'jakiż', 'jakkolwiek', 'jako', 'jakoś', 'je', 'jeden', 'jedna', 'jednak', 'jednakże', 'jedno', 'jednym', 'jedynie', 'jego', 'jej', 'jemu', 'jest', 'jestem', 'jeszcze', 'jeśli', 'jeżeli', 'już', 'ją', 'każdy', 'kiedy', 'kierunku', 'kilka', 'kilku', 'kimś', 'kto', 'ktokolwiek', 'ktoś', 'która', 'które', 'którego', 'której', 'który', 'których', 'którym', 'którzy', 'ku', 'lat', 'lecz', 'lub', 'ma', 'mają', 'mam', 'mamy', 'mało', 'mgr', 'mi', 'miał', 'mimo', 'między', 'mnie', 'mną', 'mogą', 'moi', 'moim', 'moja', 'moje', 'może', 'możliwe', 'można', 'mu', 'musi', 'my', 'mój', 'na', 'nad', 'nam', 'nami', 'nas', 'nasi', 'nasz', 'nasza', 'nasze', 'naszego', 'naszych', 'natomiast', 'natychmiast', 'nawet', 'nic', 'nich', 'nie', 'niech', 'niego', 'niej', 'niemu', 'nigdy', 'nim', 'nimi', 'nią', 'niż', 'no', 'nowe', 'np', 'nr', 'o', 'o.o.', 'obok', 'od', 'ok', 'około', 'on', 'ona', 'one', 'oni', 'ono', 'oraz', 'oto', 'owszem', 'pan', 'pana', 'pani', 'pl', 'po', 'pod', 'podczas', 'pomimo', 'ponad', 'ponieważ', 'powinien', 'powinna', 'powinni', 'powinno', 'poza', 'prawie', 'prof', 'przecież', 'przed', 'przede', 'przedtem', 'przez', 'przy', 'raz', 'razie', 'roku', 'również', 'sam', 'sama', 'się', 'skąd', 'sobie', 'sobą', 'sposób', 'swoje', 'są', 'ta', 'tak', 'taka', 'taki', 'takich', 'takie', 'także', 'tam', 'te', 'tego', 'tej', 'tel', 'temu', 'ten', 'teraz', 'też', 'to', 'tobie', 'tobą', 'toteż', 'totobą', 'trzeba', 'tu', 'tutaj', 'twoi', 'twoim', 'twoja', 'twoje', 'twym', 'twój', 'ty', 'tych', 'tylko', 'tym', 'tys', 'tzw', 'tę', 'u', 'ul', 'vi', 'vii', 'viii', 'vol', 'w', 'wam', 'wami', 'was', 'wasi', 'wasz', 'wasza', 'wasze', 'we', 'według', 'wie', 'wiele', 'wielu', 'więc', 'więcej', 'wszyscy', 'wszystkich', 'wszystkie', 'wszystkim', 'wszystko', 'wtedy', 'www', 'wy', 'właśnie', 'wśród', 'xi', 'xii', 'xiii', 'xiv', 'xv', 'z', 'za', 'zapewne', 'zawsze', 'zaś', 'ze', 'zeznowu', 'znowu', 'znów', 'został', 'zł', 'żaden', 'żadna', 'żadne', 'żadnych', 'że', 'żeby']\n"
     ]
    }
   ],
   "source": [
    "polish_stop_words = read_file('data/polish_stop_words.txt')\n",
    "print(polish_stop_words)"
   ]
  },
  {
   "cell_type": "code",
   "execution_count": 64,
   "metadata": {},
   "outputs": [],
   "source": [
    "import numpy as np\n",
    "import scipy as sp\n",
    "from sklearn.feature_extraction.text import TfidfVectorizer"
   ]
  },
  {
   "cell_type": "code",
   "execution_count": 66,
   "metadata": {},
   "outputs": [],
   "source": [
    "def topics_full(titles, n = 10, m = 10, polish_stop_words = None):\n",
    "    t = TfidfVectorizer(stop_words=polish_stop_words)\n",
    "    X = t.fit_transform(titles)\n",
    "    U, s, VT = sp.linalg.svd(X.toarray(), full_matrices=True)\n",
    "    \n",
    "    U2 = U[:, :n]\n",
    "    VT2 = VT[:n, :]\n",
    "    s2 = s[:n]\n",
    "    \n",
    "    names = t.get_feature_names_out()\n",
    "    for row in range(n):\n",
    "        topics = [names[i] for i in np.argsort(VT2[row, :])[-m:]]\n",
    "        print(topics)\n",
    "    \n",
    "def topics(titles, n = 10, m = 10, polish_stop_words = None):\n",
    "    t = TfidfVectorizer(stop_words=polish_stop_words)\n",
    "    X = t.fit_transform(titles)\n",
    "    U, s, VT = sp.sparse.linalg.svds(X, k = n)\n",
    "    \n",
    "    names = t.get_feature_names_out()\n",
    "    for row in range(n):\n",
    "        topics = [names[i] for i in np.argsort(VT[row, :])[-m:]]\n",
    "        print(topics)"
   ]
  },
  {
   "cell_type": "code",
   "execution_count": 67,
   "metadata": {},
   "outputs": [
    {
     "name": "stdout",
     "output_type": "stream",
     "text": [
      "jp\n",
      "['pisze', 'opowiadania', 'upajająca', 'nieprzyjemne', 'przyjemność', 'pisanie', 'ręką', 'rękę', 'duszą', 'mózgiem']\n",
      "['żółta', 'nieprzyjemne', 'pisze', 'dzieciństwa', 'jerzy', 'pilch', 'futbolówka', 'węgierska', 'przyjemność', 'pisanie']\n",
      "['nieprzyjemne', 'polityki', 'loża', 'komentatorów', 'wielka', 'mundial', 'przyjemność', 'pisanie', 'umierać', 'pora']\n",
      "['liczbą', 'szybko', 'czytelników', 'sztuka', 'rozmowy', 'teatr', 'rozmowa', 'pisze', 'jerzy', 'pilch']\n",
      "['the', 'sąsiedztwo', 'zmysłowe', 'nieprzyjemne', 'prawdziwa', 'książki', 'pisanie', 'żółta', 'węgierska', 'futbolówka']\n",
      "pw\n",
      "['ue', 'zyskać', 'pieniędzy', 'bliżej', 'prezydenta', 'wieś', 'polska', 'wybojami', 'kpo', 'pis']\n",
      "['będziemy', 'czołgów', 'razem', 'wielka', 'błaszczaka', '2022', 'wojsko', 'przyszłości', 'jaka', 'armia']\n",
      "['prezydenta', 'ue', 'pieniędzy', 'bliżej', 'pis', 'wybojami', 'atak', 'ukrainę', 'kpo', 'polska']\n",
      "['putin', 'pułapce', 'przetrwa', 'wyczerpanie', 'trwać', 'długo', 'wojny', 'ukraina', 'ukrainie', 'wojna']\n",
      "['sterowność', 'najwyższym', 'sądzie', 'kontrakt', 'największy', 'zbrojeniowy', 'program', 'niebo', 'narew', 'chronić']\n",
      "wc\n",
      "['miasto', 'święte', 'wolność', 'wybieram', 'politycy', 'katarynki', 'ue', 'szachownicą', 'jesteśmy', 'rosji']\n",
      "['wojciech', 'zniewolić', 'lepiej', 'zwalczaliby', 'żołnierze', 'kod', 'wyklęci', 'żebrać', 'zarabiać', 'unii']\n",
      "['władza', 'polska', 'każda', 'tyranii', 'opozycja', 'stary', 'komuniści', 'kolaboranci', 'układ', 'służby']\n",
      "['ewoluuje', 'władza', 'polska', 'każda', 'opozycja', 'układ', 'kolaboranci', 'komuniści', 'stary', 'służby']\n",
      "['platforma', 'islamistach', 'kopacz', 'schizmie', 'unii', 'gejów', 'parady', 'wolę', 'dzikusów', 'cejrowski']\n"
     ]
    }
   ],
   "source": [
    "for name, title in lst:\n",
    "    print(name)\n",
    "    topics(title, 5, 10, polish_stop_words)"
   ]
  }
 ],
 "metadata": {
  "kernelspec": {
   "display_name": "Python 3",
   "language": "python",
   "name": "python3"
  },
  "language_info": {
   "codemirror_mode": {
    "name": "ipython",
    "version": 3
   },
   "file_extension": ".py",
   "mimetype": "text/x-python",
   "name": "python",
   "nbconvert_exporter": "python",
   "pygments_lexer": "ipython3",
   "version": "3.8.10"
  },
  "orig_nbformat": 4
 },
 "nbformat": 4,
 "nbformat_minor": 2
}
