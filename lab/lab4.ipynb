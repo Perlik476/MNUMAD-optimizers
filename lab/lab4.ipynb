{
 "cells": [
  {
   "attachments": {},
   "cell_type": "markdown",
   "metadata": {},
   "source": [
    "$$(*) \\, ||b-Ax||_2 \\to \\min!$$\n",
    "$$(**) \\, ||b-APy||_2 \\to \\min!, x=Py$$\n",
    "1) Wygenerować rozrzedzoną $A \\in \\R^{M \\times N}$ (scipy.sparse) i $b \\in \\R^N$\n",
    "\n",
    "2) Rozwiązać (*) metodą CGNR/LSQR\n",
    "\n",
    "3) Rozwiązać (**) metodą j.w. dla $P$ - niepełny rozkład Cholesky'ego $A^TA$\n",
    "\n",
    "4) Porównać szybkości zbieżności"
   ]
  },
  {
   "cell_type": "code",
   "execution_count": 101,
   "metadata": {},
   "outputs": [
    {
     "name": "stdout",
     "output_type": "stream",
     "text": [
      "A=[[0.         0.         0.         0.         0.36500078 0.\n",
      "  0.38417469 0.         0.         0.        ]\n",
      " [0.         0.         0.         0.         0.         0.\n",
      "  0.         0.44927427 0.         0.74661636]\n",
      " [0.         0.         0.         0.         0.         0.\n",
      "  0.         0.         0.         0.47780378]\n",
      " [0.         0.         0.         0.         0.         0.\n",
      "  0.         0.         0.8111344  0.        ]\n",
      " [0.         0.         0.         0.         0.         0.03822562\n",
      "  0.08267713 0.         0.         0.        ]\n",
      " [0.         0.         0.         0.         0.15360281 0.\n",
      "  0.         0.         0.         0.        ]\n",
      " [0.         0.         0.         0.         0.         0.11894059\n",
      "  0.         0.         0.48266367 0.        ]\n",
      " [0.         0.8095972  0.         0.         0.         0.\n",
      "  0.         0.         0.89109649 0.        ]\n",
      " [0.         0.76401159 0.07062233 0.         0.41548549 0.\n",
      "  0.         0.         0.         0.85861136]\n",
      " [0.         0.06388864 0.         0.10975005 0.         0.\n",
      "  0.         0.         0.         0.        ]\n",
      " [0.         0.         0.93718394 0.         0.         0.\n",
      "  0.18968401 0.         0.6360117  0.        ]\n",
      " [0.         0.         0.         0.         0.         0.\n",
      "  0.         0.         0.         0.        ]\n",
      " [0.48668449 0.         0.1497999  0.         0.01545824 0.\n",
      "  0.         0.         0.         0.        ]\n",
      " [0.         0.         0.         0.         0.         0.\n",
      "  0.         0.         0.         0.        ]\n",
      " [0.         0.69980485 0.08302521 0.         0.         0.\n",
      "  0.         0.         0.         0.        ]\n",
      " [0.         0.         0.9668068  0.98425412 0.         0.\n",
      "  0.         0.         0.         0.21949504]\n",
      " [0.         0.35611006 0.         0.         0.         0.\n",
      "  0.85792922 0.         0.         0.        ]\n",
      " [0.         0.         0.         0.         0.72425826 0.\n",
      "  0.65883447 0.71892534 0.92873311 0.        ]\n",
      " [0.74741045 0.         0.84765865 0.         0.         0.\n",
      "  0.         0.         0.66489238 0.        ]\n",
      " [0.         0.         0.         0.         0.         0.\n",
      "  0.         0.         0.00773448 0.        ]]\n",
      "b=[0.60561512 0.18596865 0.03271212 0.59640672 0.76662658 0.22980844\n",
      " 0.29735341 0.13458839 0.21723416 0.11209869 0.11951271 0.64948914\n",
      " 0.37310749 0.09209657 0.80855617 0.29797002 0.13002504 0.93266597\n",
      " 0.91056979 0.96437825]\n"
     ]
    }
   ],
   "source": [
    "import numpy as np\n",
    "import scipy as sp\n",
    "\n",
    "A = sp.sparse.random(20, 10, density=0.2, format='csr', dtype='float64', random_state=None)\n",
    "b = np.random.rand(20)\n",
    "print(f\"A={A.todense()}\")\n",
    "print(f\"b={b}\")"
   ]
  },
  {
   "cell_type": "code",
   "execution_count": 102,
   "metadata": {},
   "outputs": [
    {
     "name": "stdout",
     "output_type": "stream",
     "text": [
      "x=[ 0.92030916  0.35329851  0.08752297  0.26494702  0.66432892  3.64605152\n",
      "  0.14535382  0.44041078  0.1272463  -0.18534614]\n"
     ]
    }
   ],
   "source": [
    "def matvec(x):\n",
    "    return A.T @ (A @ x)\n",
    "\n",
    "x_cg, _ = sp.sparse.linalg.cg(sp.sparse.linalg.LinearOperator((10, 10), matvec=matvec), A.T @ b)\n",
    "print(f\"x={x_cg}\")"
   ]
  },
  {
   "cell_type": "code",
   "execution_count": 103,
   "metadata": {},
   "outputs": [
    {
     "name": "stdout",
     "output_type": "stream",
     "text": [
      "x=[ 0.92030916  0.35329851  0.08752296  0.26494702  0.66432891  3.64605152\n",
      "  0.14535382  0.44041078  0.12724629 -0.18534614]\n"
     ]
    }
   ],
   "source": [
    "x_lsqr = sp.sparse.linalg.lsqr(A, b)[0]\n",
    "print(f\"x={x_lsqr}\")"
   ]
  },
  {
   "cell_type": "code",
   "execution_count": 104,
   "metadata": {},
   "outputs": [
    {
     "name": "stdout",
     "output_type": "stream",
     "text": [
      "x=[ 0.92030916  0.35329851  0.08752296  0.26494702  0.66432891  3.64605152\n",
      "  0.14535382  0.44041078  0.12724629 -0.18534614]\n"
     ]
    }
   ],
   "source": [
    "x_real = np.linalg.lstsq(A.todense(), b, rcond=None)[0]\n",
    "print(f\"x={x_real}\")"
   ]
  },
  {
   "cell_type": "code",
   "execution_count": 105,
   "metadata": {},
   "outputs": [
    {
     "name": "stdout",
     "output_type": "stream",
     "text": [
      "norm=6.1639547730740885e-09, 7.043115114768326e-09, 1.3207069815767218e-08\n"
     ]
    }
   ],
   "source": [
    "print(f\"norm={np.linalg.norm(x_real - x_lsqr)}, {np.linalg.norm(x_real - x_cg)}, {np.linalg.norm(x_lsqr - x_cg)}\")"
   ]
  },
  {
   "attachments": {},
   "cell_type": "markdown",
   "metadata": {},
   "source": [
    "3a) Wyznaczyć $P: P^TA^TAPx = P^TA^Tb$\n",
    "\n",
    "3b) $C_L = LinearOperator(...)$, $matvec: P^T(A^T(A(Px)))$\n",
    "\n",
    "3c) $x=cg(C_L, ...)[0]$\n",
    "\n",
    "Niestety nie istnieje gotowa funkcja do niepełnego Cholesky'ego, ale istnieje do niepełnego LU!"
   ]
  },
  {
   "cell_type": "code",
   "execution_count": 106,
   "metadata": {},
   "outputs": [],
   "source": [
    "B= A.T @ A\n",
    "incompleteLU = sp.sparse.linalg.spilu(B)\n",
    "L, U = incompleteLU.L, incompleteLU.U"
   ]
  },
  {
   "attachments": {},
   "cell_type": "markdown",
   "metadata": {},
   "source": [
    "Szukamy $\\hat L$, tż. $B \\approx LU = \\hat L \\hat L^T$\n",
    "\n",
    "$L \\cdot U = L \\cdot diag(u_{1,1}, ..., u_{N,N}) \\cdot L^T = (L \\cdot D) \\cdot (D \\cdot L^T), \\text{ gdzie } D = diag(\\sqrt{u_{1,1}}, ..., \\sqrt{u_{N,N}})$"
   ]
  },
  {
   "cell_type": "code",
   "execution_count": 109,
   "metadata": {},
   "outputs": [
    {
     "name": "stdout",
     "output_type": "stream",
     "text": [
      "[ 4.29494712e+00  2.60536254e+00  1.25718374e-03  4.21755658e-01\n",
      "  2.41437705e+00  3.85075227e+00  1.07661409e-01  4.09298287e-01\n",
      "  3.66555345e-01 -1.29660917e-01]\n"
     ]
    }
   ],
   "source": [
    "D = sp.sparse.diags(np.sqrt(U.diagonal()))\n",
    "L = L @ D\n",
    "\n",
    "def matvec_incomplete(x):\n",
    "    return sp.sparse.linalg.spsolve(L, A.T @ (A @ sp.sparse.linalg.spsolve(L.T, x)))\n",
    "\n",
    "x_cg_incomplete, _ = sp.sparse.linalg.cg(sp.sparse.linalg.LinearOperator((10, 10), matvec=matvec_incomplete), sp.sparse.linalg.spsolve(L, A.T @ b))\n",
    "print(x_cg_incomplete)\n",
    "# callback"
   ]
  }
 ],
 "metadata": {
  "kernelspec": {
   "display_name": "Python 3",
   "language": "python",
   "name": "python3"
  },
  "language_info": {
   "codemirror_mode": {
    "name": "ipython",
    "version": 3
   },
   "file_extension": ".py",
   "mimetype": "text/x-python",
   "name": "python",
   "nbconvert_exporter": "python",
   "pygments_lexer": "ipython3",
   "version": "3.8.10"
  },
  "orig_nbformat": 4
 },
 "nbformat": 4,
 "nbformat_minor": 2
}
