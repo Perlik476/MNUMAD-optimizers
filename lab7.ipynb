{
 "cells": [
  {
   "attachments": {},
   "cell_type": "markdown",
   "metadata": {},
   "source": [
    "# Algorytm RSVD(k)\n",
    "\n",
    "Niech $A$ - losowa $M \\times N$ o zadanych wartościach szczególnych\n",
    "\n",
    "Zbadać:\n",
    "\n",
    "faktyczny błąd RSVD: $||A - U D V^T||_F$ (lub $||\\cdot||_2$)\n",
    "\n",
    "błąd spodziewany\n",
    "\n",
    "faktyczny błąd wartości szczególnych: $\\max_{1 \\leq i \\leq k} |\\sigma_i - d_i|$\n",
    "\n",
    "oszacowanie błędu faktycznego"
   ]
  },
  {
   "cell_type": "code",
   "execution_count": 333,
   "metadata": {},
   "outputs": [],
   "source": [
    "import numpy as np\n",
    "\n",
    "def random_ortogonal_matrix(n):\n",
    "    A = np.random.randn(n, n)\n",
    "    Q, _ = np.linalg.qr(A)\n",
    "    return Q\n",
    "\n",
    "def random_matrix_with_singular_values(m, n, sigma):\n",
    "    U = random_ortogonal_matrix(m)\n",
    "    V = random_ortogonal_matrix(n)\n",
    "    S = np.diag(sigma)\n",
    "    S = np.concatenate((S, np.zeros((m - n, n))), axis=0)\n",
    "    return U @ S @ V"
   ]
  },
  {
   "cell_type": "code",
   "execution_count": 334,
   "metadata": {},
   "outputs": [],
   "source": [
    "def rsvd(A, k, p, q = 0):\n",
    "    '''p - oversampling'''\n",
    "    \n",
    "    _, N = A.shape\n",
    "    G = np.random.randn(N, k + p)\n",
    "    Y = A @ G\n",
    "    for _ in range(q): # q iterations of power method\n",
    "        Y = A @ (A.T @ Y)\n",
    "    \n",
    "    Q, _ = np.linalg.qr(Y)\n",
    "    B = Q.T @ A\n",
    "    U, S, VT = np.linalg.svd(B, full_matrices=False) # shape: (k+p, k+p), (k+p,), (k+p, N)\n",
    "    U, S, VT = U[:, :k], S[:k], VT[:k, :]\n",
    "    \n",
    "    return Q @ U, S, VT"
   ]
  },
  {
   "cell_type": "code",
   "execution_count": 335,
   "metadata": {},
   "outputs": [
    {
     "data": {
      "text/plain": [
       "array([[ 0.02618262,  1.33905706, -1.01285918, ..., -1.94674684,\n",
       "         0.19784233,  0.944064  ],\n",
       "       [-2.68394954,  0.37833972,  0.3450654 , ...,  0.69903926,\n",
       "         0.89261298,  0.05110147],\n",
       "       [ 0.42301405, -0.37895783,  0.53483485, ..., -0.8913327 ,\n",
       "        -0.75300206,  0.38891861],\n",
       "       ...,\n",
       "       [ 1.23788904,  0.39980835,  0.55564557, ...,  1.58510239,\n",
       "        -0.86161122,  1.86682868],\n",
       "       [ 0.77656341, -1.60719823, -0.51969627, ..., -0.74373482,\n",
       "        -0.44498623, -1.874288  ],\n",
       "       [-1.57218522, -0.0160877 ,  0.17041063, ..., -0.61875594,\n",
       "        -0.81882852, -1.32085206]])"
      ]
     },
     "execution_count": 335,
     "metadata": {},
     "output_type": "execute_result"
    }
   ],
   "source": [
    "M, N = 100, 20\n",
    "sigma = 10 * np.random.randn(N)\n",
    "A = random_matrix_with_singular_values(M, N, sigma)\n",
    "A"
   ]
  },
  {
   "cell_type": "code",
   "execution_count": 336,
   "metadata": {},
   "outputs": [
    {
     "data": {
      "text/plain": [
       "array([30.10148412, 22.3609418 , 20.08499041, 17.59769445, 15.00742635,\n",
       "       10.53985484,  9.51146017,  9.48065209,  9.01709679,  8.58369158,\n",
       "        8.4397046 ,  7.69741075,  7.53713323,  6.49376364,  6.36080211,\n",
       "        5.07891308,  4.50891945,  2.75819621,  2.52978011,  2.11597193])"
      ]
     },
     "execution_count": 336,
     "metadata": {},
     "output_type": "execute_result"
    }
   ],
   "source": [
    "_, S, _ = np.linalg.svd(A, full_matrices=False)\n",
    "S"
   ]
  },
  {
   "cell_type": "code",
   "execution_count": 337,
   "metadata": {},
   "outputs": [
    {
     "data": {
      "text/plain": [
       "array([28.43022977, 19.96663183, 15.68402529, 15.37845556, 12.89156422])"
      ]
     },
     "execution_count": 337,
     "metadata": {},
     "output_type": "execute_result"
    }
   ],
   "source": [
    "k, p = 5, 3\n",
    "U, D, VT = rsvd(A, k, p)\n",
    "D"
   ]
  },
  {
   "cell_type": "code",
   "execution_count": 338,
   "metadata": {},
   "outputs": [
    {
     "data": {
      "text/plain": [
       "((100, 5), (5,), (5, 20))"
      ]
     },
     "execution_count": 338,
     "metadata": {},
     "output_type": "execute_result"
    }
   ],
   "source": [
    "U.shape, D.shape, VT.shape"
   ]
  },
  {
   "attachments": {},
   "cell_type": "markdown",
   "metadata": {},
   "source": [
    "# Oszacowanie błędu faktycznego\n",
    "\n",
    "Niech $T := A - UDV^T$, gdzie $UDV^T \\approx A$ - wynik algorytmu RSVD\n",
    "\n",
    "Z prawdopodobieństwem $1 - \\alpha^r$ zachodzi\n",
    "\n",
    "$$||T||_2 \\leq \\frac{1}{\\alpha} \\sqrt{\\frac{2}{\\pi}} \\max_{i=1..r} ||Tx_i||_2,$$\n",
    "\n",
    "gdzie $x_i$ - wektory o współczynnikach z rozkładu $\\mathcal{N}(0,1)$"
   ]
  },
  {
   "cell_type": "code",
   "execution_count": 339,
   "metadata": {},
   "outputs": [],
   "source": [
    "def print_errors(A, U, D, VT, S, k, p):\n",
    "    error_fro = np.linalg.norm(A - U @ np.diag(D) @ VT, ord=\"fro\")\n",
    "    expected_error_fro = np.sqrt(1 + k / (p - 1)) * np.linalg.norm(S[k:])\n",
    "\n",
    "    print(f'błąd (frobenius): {error_fro}')\n",
    "    print(f'oszacowanie oczekiwanego błędu (frobenius): {expected_error_fro}')\n",
    "    print(f'stosunek błędu do oczekiwanego błędu (frobenius): {error_fro / expected_error_fro}')\n",
    "    \n",
    "    error_2 = np.linalg.norm(A - U @ np.diag(D) @ VT, ord=2)\n",
    "    expected_error_2 = (1 + np.sqrt(k / p)) * S[k] + np.e * np.sqrt(k + p) / p * np.linalg.norm(S[k:])\n",
    "\n",
    "    print(f'błąd (2): {error_2}')\n",
    "    print(f'oszacowanie oczekiwanego błędu (2): {expected_error_2}')\n",
    "    print(f'stosunek błędu do oczekiwanego błędu (2): {error_2 / expected_error_2}')\n",
    "    \n",
    "    T = A - U @ np.diag(D) @ VT\n",
    "    alpha, r = 0.5, 3\n",
    "    error_estimate = 1 / alpha * np.sqrt(2 / np.pi) * max([np.linalg.norm(T @ np.random.randn(N)) for _ in range(r)])\n",
    "    print(f'oszacowanie błędu (2): {error_estimate}')\n",
    "    \n",
    "    print(f'maksimum błędów wartości szczególnych: {np.max(np.abs(D - S[:k]))}')"
   ]
  },
  {
   "cell_type": "code",
   "execution_count": 340,
   "metadata": {},
   "outputs": [
    {
     "name": "stdout",
     "output_type": "stream",
     "text": [
      "błąd (frobenius): 35.633560413471365\n",
      "oszacowanie oczekiwanego błędu (frobenius): 52.28132294637489\n",
      "stosunek błędu do oczekiwanego błędu (frobenius): 0.6815734263270425\n",
      "błąd (2): 18.3593969167465\n",
      "oszacowanie oczekiwanego błędu (2): 95.76616357559865\n",
      "stosunek błędu do oczekiwanego błędu (2): 0.1917106860217224\n",
      "oszacowanie błędu (2): 60.48058149747148\n",
      "maksimum błędów wartości szczególnych: 4.400965125648842\n"
     ]
    },
    {
     "data": {
      "text/plain": [
       "(array([28.43022977, 19.96663183, 15.68402529, 15.37845556, 12.89156422]),\n",
       " array([30.10148412, 22.3609418 , 20.08499041, 17.59769445, 15.00742635]))"
      ]
     },
     "execution_count": 340,
     "metadata": {},
     "output_type": "execute_result"
    }
   ],
   "source": [
    "print_errors(A, U, D, VT, S, k, p)\n",
    "D, S[:k]"
   ]
  },
  {
   "cell_type": "code",
   "execution_count": 341,
   "metadata": {},
   "outputs": [
    {
     "name": "stdout",
     "output_type": "stream",
     "text": [
      "błąd (frobenius): 28.30631388188768\n",
      "oszacowanie oczekiwanego błędu (frobenius): 52.28132294637489\n",
      "stosunek błędu do oczekiwanego błędu (frobenius): 0.5414230606008488\n",
      "błąd (2): 10.721843948203391\n",
      "oszacowanie oczekiwanego błędu (2): 95.76616357559865\n",
      "stosunek błędu do oczekiwanego błędu (2): 0.11195858273824943\n",
      "oszacowanie błędu (2): 55.37639106912689\n",
      "maksimum błędów wartości szczególnych: 0.3352602895590451\n"
     ]
    },
    {
     "data": {
      "text/plain": [
       "(array([30.07526882, 22.33801575, 19.94598429, 17.26243417, 14.99276093]),\n",
       " array([30.10148412, 22.3609418 , 20.08499041, 17.59769445, 15.00742635]))"
      ]
     },
     "execution_count": 341,
     "metadata": {},
     "output_type": "execute_result"
    }
   ],
   "source": [
    "U, D, VT = rsvd(A, k, p, q = 1)\n",
    "print_errors(A, U, D, VT, S, k, p)\n",
    "D, S[:k]"
   ]
  },
  {
   "cell_type": "code",
   "execution_count": 342,
   "metadata": {},
   "outputs": [
    {
     "name": "stdout",
     "output_type": "stream",
     "text": [
      "błąd (frobenius): 27.960777354035443\n",
      "oszacowanie oczekiwanego błędu (frobenius): 52.28132294637489\n",
      "stosunek błędu do oczekiwanego błędu (frobenius): 0.5348138833960819\n",
      "błąd (2): 10.540209217968608\n",
      "oszacowanie oczekiwanego błędu (2): 95.76616357559865\n",
      "stosunek błędu do oczekiwanego błędu (2): 0.11006193444982343\n",
      "oszacowanie błędu (2): 49.985038928632555\n",
      "maksimum błędów wartości szczególnych: 0.01858608830620767\n"
     ]
    },
    {
     "data": {
      "text/plain": [
       "(array([30.10147107, 22.35901052, 20.08306589, 17.59400754, 14.98884027]),\n",
       " array([30.10148412, 22.3609418 , 20.08499041, 17.59769445, 15.00742635]))"
      ]
     },
     "execution_count": 342,
     "metadata": {},
     "output_type": "execute_result"
    }
   ],
   "source": [
    "U, D, VT = rsvd(A, k, p, q = 2)\n",
    "print_errors(A, U, D, VT, S, k, p)\n",
    "D, S[:k]"
   ]
  },
  {
   "cell_type": "code",
   "execution_count": 343,
   "metadata": {},
   "outputs": [
    {
     "name": "stdout",
     "output_type": "stream",
     "text": [
      "błąd (frobenius): 27.968160828439665\n",
      "oszacowanie oczekiwanego błędu (frobenius): 52.28132294637489\n",
      "stosunek błędu do oczekiwanego błędu (frobenius): 0.5349551092486066\n",
      "błąd (2): 10.540377466615302\n",
      "oszacowanie oczekiwanego błędu (2): 95.76616357559865\n",
      "stosunek błędu do oczekiwanego błędu (2): 0.1100636913192689\n",
      "oszacowanie błędu (2): 49.91441454566886\n",
      "maksimum błędów wartości szczególnych: 0.040112235136090746\n"
     ]
    },
    {
     "data": {
      "text/plain": [
       "(array([30.1014824 , 22.36083966, 20.08495312, 17.59609913, 14.96731412]),\n",
       " array([30.10148412, 22.3609418 , 20.08499041, 17.59769445, 15.00742635]))"
      ]
     },
     "execution_count": 343,
     "metadata": {},
     "output_type": "execute_result"
    }
   ],
   "source": [
    "U, D, VT = rsvd(A, k, p, q = 3)\n",
    "print_errors(A, U, D, VT, S, k, p)\n",
    "D, S[:k]"
   ]
  },
  {
   "attachments": {},
   "cell_type": "markdown",
   "metadata": {},
   "source": [
    "Do pomyślenia: jak zrobić tak, żeby policzyć `rsvd(k+m)` znając `rsvd(k)`"
   ]
  }
 ],
 "metadata": {
  "kernelspec": {
   "display_name": "Python 3",
   "language": "python",
   "name": "python3"
  },
  "language_info": {
   "codemirror_mode": {
    "name": "ipython",
    "version": 3
   },
   "file_extension": ".py",
   "mimetype": "text/x-python",
   "name": "python",
   "nbconvert_exporter": "python",
   "pygments_lexer": "ipython3",
   "version": "3.8.10"
  },
  "orig_nbformat": 4
 },
 "nbformat": 4,
 "nbformat_minor": 2
}
