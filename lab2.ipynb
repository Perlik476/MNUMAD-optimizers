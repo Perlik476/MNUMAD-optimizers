{
 "cells": [
  {
   "cell_type": "code",
   "execution_count": 8,
   "metadata": {
    "collapsed": true
   },
   "outputs": [],
   "source": [
    "import numpy as np"
   ]
  },
  {
   "cell_type": "code",
   "execution_count": 9,
   "outputs": [],
   "source": [
    "np.random.seed(42)\n",
    "\n",
    "def make_test_data(M, N, rcond): # rcond = sigma_N / sigma_1\n",
    "    assert M >= N\n",
    "\n",
    "    A = np.random.rand(M, N)\n",
    "    U, _, VT = np.linalg.svd(A)\n",
    "    V = VT.T\n",
    "\n",
    "    # sigma1 = 1\n",
    "    # sigmaN = rcond\n",
    "    Sigma = np.logspace(np.log10(rcond), 0., N)\n",
    "\n",
    "    A = (U[:, :N] * Sigma) @ VT\n",
    "\n",
    "    b = np.random.rand(M)\n",
    "\n",
    "    x = V * (1 / Sigma) @ U[:, :N].T @ b\n",
    "\n",
    "    return A, b, x"
   ],
   "metadata": {
    "collapsed": false
   }
  },
  {
   "cell_type": "markdown",
   "source": [
    "$$rcond = \\frac{\\sigma_N}{\\sigma_1}$$"
   ],
   "metadata": {
    "collapsed": false
   }
  },
  {
   "cell_type": "code",
   "execution_count": 10,
   "outputs": [],
   "source": [
    "M, N = 100, 30\n",
    "A, b, x = make_test_data(M, N, 1)"
   ],
   "metadata": {
    "collapsed": false
   }
  },
  {
   "cell_type": "code",
   "execution_count": 11,
   "outputs": [
    {
     "name": "stdout",
     "output_type": "stream",
     "text": [
      "res norm=2.192308505469727\n"
     ]
    }
   ],
   "source": [
    "print(f'res norm={np.linalg.norm(A @ x - b)}')"
   ],
   "metadata": {
    "collapsed": false
   }
  },
  {
   "cell_type": "code",
   "execution_count": 12,
   "outputs": [
    {
     "name": "stdout",
     "output_type": "stream",
     "text": [
      "res2 norm=2.192308505475744\n",
      "x-x2 norm=5.136355154175934e-06\n"
     ]
    },
    {
     "name": "stderr",
     "output_type": "stream",
     "text": [
      "/tmp/ipykernel_20789/1147134919.py:4: FutureWarning: `rcond` parameter will change to the default of machine precision times ``max(M, N)`` where M and N are the input matrix dimensions.\n",
      "To use the future default and silence this warning we advise to pass `rcond=None`, to keep using the old, explicitly pass `rcond=-1`.\n",
      "  x2 = np.linalg.lstsq(A2, b2)[0]\n"
     ]
    }
   ],
   "source": [
    "alpha = 1e-3\n",
    "A2 = np.vstack((A, alpha * np.identity(N)))\n",
    "b2 = np.hstack((b, np.zeros(N)))\n",
    "x2 = np.linalg.lstsq(A2, b2)[0]\n",
    "print(f'res2 norm={np.linalg.norm(A @ x2 - b)}')\n",
    "print(f'x-x2 norm={np.linalg.norm(x - x2)}')"
   ],
   "metadata": {
    "collapsed": false
   }
  },
  {
   "cell_type": "code",
   "execution_count": 13,
   "outputs": [],
   "source": [
    "from sklearn.linear_model import *"
   ],
   "metadata": {
    "collapsed": false
   }
  },
  {
   "cell_type": "code",
   "execution_count": 14,
   "outputs": [
    {
     "name": "stdout",
     "output_type": "stream",
     "text": [
      "x-x3=0.005131229063421424\n"
     ]
    }
   ],
   "source": [
    "ridge = Ridge(alpha=alpha, fit_intercept=False, solver='svd')\n",
    "ridge.fit(A, b)\n",
    "\n",
    "x3 = ridge.coef_\n",
    "print(f'x-x3={np.linalg.norm(x - x3)}')"
   ],
   "metadata": {
    "collapsed": false
   }
  },
  {
   "cell_type": "code",
   "execution_count": null,
   "outputs": [],
   "source": [],
   "metadata": {
    "collapsed": false
   }
  }
 ],
 "metadata": {
  "kernelspec": {
   "display_name": "Python 3",
   "language": "python",
   "name": "python3"
  },
  "language_info": {
   "codemirror_mode": {
    "name": "ipython",
    "version": 2
   },
   "file_extension": ".py",
   "mimetype": "text/x-python",
   "name": "python",
   "nbconvert_exporter": "python",
   "pygments_lexer": "ipython2",
   "version": "2.7.6"
  }
 },
 "nbformat": 4,
 "nbformat_minor": 0
}
